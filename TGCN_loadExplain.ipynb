{
 "cells": [
  {
   "cell_type": "code",
   "execution_count": 1,
   "id": "e54d3a2a-7115-4290-837d-007c9ee584e6",
   "metadata": {},
   "outputs": [],
   "source": [
    "import argparse\n",
    "import traceback\n",
    "import pytorch_lightning as pl\n",
    "from pytorch_lightning.utilities import rank_zero_info\n",
    "import models\n",
    "import tasks\n",
    "import utils.callbacks\n",
    "import utils.data\n",
    "import utils.email\n",
    "import utils.logging\n",
    "import torch"
   ]
  },
  {
   "cell_type": "code",
   "execution_count": null,
   "id": "18a4cd64-51fc-4999-9d52-28be924e2536",
   "metadata": {},
   "outputs": [],
   "source": [
    "DATA_PATHS = {\n",
    "    \"shenzhen\": {\"feat\": \"data/sz_speed.csv\", \"adj\": \"data/sz_adj.csv\"},\n",
    "    \"losloop\": {\"feat\": \"data/los_speed.csv\", \"adj\": \"data/los_adj.csv\"},\n",
    "}\n",
    "\n",
    "\n",
    "def get_model(args, dm):\n",
    "    model = None\n",
    "    if args.model_name == \"GCN\":\n",
    "        model = models.GCN(adj=dm.adj, input_dim=args.seq_len, output_dim=args.hidden_dim)\n",
    "    if args.model_name == \"GRU\":\n",
    "        model = models.GRU(input_dim=dm.adj.shape[0], hidden_dim=args.hidden_dim)\n",
    "    if args.model_name == \"TGCN\":\n",
    "        model = models.TGCN(adj=dm.adj, hidden_dim=args.hidden_dim)\n",
    "    return model\n",
    "\n",
    "\n",
    "def get_task(args, model, dm):\n",
    "    task = getattr(tasks, args.settings.capitalize() + \"ForecastTask\")(\n",
    "        model=model, feat_max_val=dm.feat_max_val, **vars(args)\n",
    "    )\n",
    "    return task\n",
    "\n",
    "\n",
    "def get_callbacks(args):\n",
    "    checkpoint_callback = pl.callbacks.ModelCheckpoint(monitor=\"train_loss\")\n",
    "    plot_validation_predictions_callback = utils.callbacks.PlotValidationPredictionsCallback(monitor=\"train_loss\")\n",
    "    callbacks = [\n",
    "        checkpoint_callback,\n",
    "        plot_validation_predictions_callback,\n",
    "    ]\n",
    "    return callbacks\n",
    "\n",
    "\n",
    "def main_supervised(args):\n",
    "    dm = utils.data.SpatioTemporalCSVDataModule(\n",
    "        feat_path=DATA_PATHS[args.data][\"feat\"], adj_path=DATA_PATHS[args.data][\"adj\"], **vars(args)\n",
    "    )\n",
    "    model = get_model(args, dm)\n",
    "    task = get_task(args, model, dm)\n",
    "    callbacks = get_callbacks(args)\n",
    "    trainer = pl.Trainer.from_argparse_args(args, callbacks=callbacks)\n",
    "    trainer.fit(task, dm)\n",
    "    results = trainer.validate(datamodule=dm)\n",
    "    return results, model,task, dm  \n",
    "\n",
    "\n",
    "def main(args):\n",
    "    rank_zero_info(vars(args))\n",
    "    results, model,task, dm = globals()[\"main_\" + args.settings](args)\n",
    "    return results, model,task, dm"
   ]
  },
  {
   "cell_type": "code",
   "execution_count": 2,
   "id": "9f14a587-6852-4231-ac1f-2ced8ea90957",
   "metadata": {},
   "outputs": [],
   "source": [
    "parser = argparse.ArgumentParser()\n",
    "#parser = pl.Trainer.add_argparse_args(parser)\n",
    "\n",
    "parser.add_argument(\"--max_epochs\", default = 100)\n",
    "parser.add_argument(\"--pre_len\", type=int, default=3)\n",
    "parser.add_argument(\"--val_batch_size\", type=int, default=1)\n",
    "#parser.add_argument(\"--learning_rate\", default = 0.001)\n",
    "#parser.add_argument(\"--weight_decay\", default = 0)\n",
    "#parser.add_argument(\"--batch_size\", default =  32)\n",
    "#parser.add_argument(\"--hidden_dim\", default = 64)\n",
    "#parser.add_argument(\"--loss\", default = \"mse_with_regularizer\") \n",
    "parser.add_argument(\"--gpus\", default =  1) \n",
    "\n",
    "\n",
    "parser.add_argument(\n",
    "    \"--data\", type=str, help=\"The name of the dataset\", choices=(\"shenzhen\", \"losloop\"), default=\"shenzhen\"\n",
    ")\n",
    "parser.add_argument(\n",
    "    \"--model_name\",\n",
    "    type=str,\n",
    "    help=\"The name of the model for spatiotemporal prediction\",\n",
    "    choices=(\"GCN\", \"GRU\", \"TGCN\"),\n",
    "    default=\"TGCN\",\n",
    ")\n",
    "parser.add_argument(\n",
    "    \"--settings\",\n",
    "    type=str,\n",
    "    help=\"The type of settings, e.g. supervised learning\",\n",
    "    choices=(\"supervised\",),\n",
    "    default=\"supervised\",\n",
    ")\n",
    "parser.add_argument(\"--log_path\", type=str, default=None, help=\"Path to the output console log file\")\n",
    "parser.add_argument(\"--send_email\", \"--email\", action=\"store_true\", help=\"Send email when finished\")\n",
    "\n",
    "temp_args, _ = parser.parse_known_args()\n",
    "\n",
    "parser = getattr(utils.data, temp_args.settings.capitalize() + \"DataModule\").add_data_specific_arguments(parser)\n",
    "parser = getattr(models, temp_args.model_name).add_model_specific_arguments(parser)\n",
    "parser = getattr(tasks, temp_args.settings.capitalize() + \"ForecastTask\").add_task_specific_arguments(parser)\n",
    "\n",
    "args = parser.parse_args(\"\")\n",
    "utils.logging.format_logger(pl._logger)\n",
    "if args.log_path is not None:\n",
    "    utils.logging.output_logger_to_file(pl._logger, args.log_path)\n"
   ]
  },
  {
   "cell_type": "code",
   "execution_count": 10,
   "id": "f9a74dc5-be57-4985-8250-83c13041e50c",
   "metadata": {},
   "outputs": [],
   "source": [
    "DATA_PATHS = {\n",
    "    \"shenzhen\": {\"feat\": \"data/sz_speed.csv\", \"adj\": \"data/sz_adj.csv\"},\n",
    "    \"losloop\": {\"feat\": \"data/los_speed.csv\", \"adj\": \"data/los_adj.csv\"},\n",
    "}\n",
    "\n",
    "\n",
    "def get_model(args, dm):\n",
    "    model = None\n",
    "    if args.model_name == \"GCN\":\n",
    "        model = models.GCN(adj=dm.adj, input_dim=args.seq_len, output_dim=args.hidden_dim)\n",
    "    if args.model_name == \"GRU\":\n",
    "        model = models.GRU(input_dim=dm.adj.shape[0], hidden_dim=args.hidden_dim)\n",
    "    if args.model_name == \"TGCN\":\n",
    "        model = models.TGCN(adj=dm.adj, hidden_dim=args.hidden_dim)\n",
    "    return model\n",
    "\n",
    "dm = utils.data.SpatioTemporalCSVDataModule(\n",
    "    feat_path=DATA_PATHS[args.data][\"feat\"], adj_path=DATA_PATHS[args.data][\"adj\"], **vars(args)\n",
    ")\n",
    "model = get_model(args, dm)"
   ]
  },
  {
   "cell_type": "code",
   "execution_count": 11,
   "id": "8e08bcd6-98c6-4f3c-8003-f01f6ae54c94",
   "metadata": {},
   "outputs": [
    {
     "data": {
      "text/plain": [
       "TGCN(\n",
       "  (tgcn_cell): TGCNCell(\n",
       "    (graph_conv1): TGCNGraphConvolution()\n",
       "    (graph_conv2): TGCNGraphConvolution()\n",
       "  )\n",
       ")"
      ]
     },
     "execution_count": 11,
     "metadata": {},
     "output_type": "execute_result"
    }
   ],
   "source": [
    "model.load_state_dict(torch.load(\"pretrained/tgcn_100.pth\"))\n",
    "model.eval()"
   ]
  },
  {
   "cell_type": "code",
   "execution_count": 8,
   "id": "7903ae83-79d0-473b-8f3e-d4d60e673840",
   "metadata": {},
   "outputs": [],
   "source": [
    "#Clone regressor\n",
    "#source_task: contain attributes model (TGCN) and regressor\n",
    "#dest_task: clone only regressor part. \n",
    "\n",
    "dest_task = tasks.supervised.SupervisedForecastTask_clone(hidden_dim = args.hidden_dim)\n",
    "source_task = task\n",
    "\n",
    "task_clone_layers = []\n",
    "for item in dest_task._modules.items():\n",
    "    task_clone_layers.append(item[0])\n",
    "    \n",
    "source_task.eval()\n",
    "dest_task.eval()\n",
    "for layer in task_clone_layers: \n",
    "    if layer == \"regressor\":\n",
    "        if hasattr(getattr(dest_task, layer), 'weight'):\n",
    "            with torch.no_grad():\n",
    "                getattr(dest_task, layer).weight.copy_(getattr(source_task, layer).weight)\n",
    "        if hasattr(getattr(dest_task, layer), 'bias'):\n",
    "            with torch.no_grad():\n",
    "                getattr(dest_task, layer).bias.copy_(getattr(source_task, layer).bias)\n",
    "            "
   ]
  },
  {
   "cell_type": "code",
   "execution_count": 12,
   "id": "d6947054-db9a-4c8c-99fd-f0f93bb78adb",
   "metadata": {},
   "outputs": [
    {
     "ename": "AttributeError",
     "evalue": "'SpatioTemporalCSVDataModule' object has no attribute 'val_dataset'",
     "output_type": "error",
     "traceback": [
      "\u001b[0;31m---------------------------------------------------------------------------\u001b[0m",
      "\u001b[0;31mAttributeError\u001b[0m                            Traceback (most recent call last)",
      "\u001b[0;32m/tmp/ipykernel_30029/3378850063.py\u001b[0m in \u001b[0;36m<module>\u001b[0;34m\u001b[0m\n\u001b[1;32m      9\u001b[0m \u001b[0mprobe_sample\u001b[0m \u001b[0;34m=\u001b[0m \u001b[0;36m10\u001b[0m\u001b[0;34m\u001b[0m\u001b[0;34m\u001b[0m\u001b[0m\n\u001b[1;32m     10\u001b[0m \u001b[0msample\u001b[0m \u001b[0;34m=\u001b[0m \u001b[0;36m0\u001b[0m\u001b[0;34m\u001b[0m\u001b[0;34m\u001b[0m\u001b[0m\n\u001b[0;32m---> 11\u001b[0;31m \u001b[0;32mfor\u001b[0m \u001b[0mval_features\u001b[0m\u001b[0;34m,\u001b[0m \u001b[0mval_labels\u001b[0m \u001b[0;32min\u001b[0m \u001b[0mdm\u001b[0m\u001b[0;34m.\u001b[0m\u001b[0mval_dataloader\u001b[0m\u001b[0;34m(\u001b[0m\u001b[0;34m)\u001b[0m\u001b[0;34m:\u001b[0m\u001b[0;34m\u001b[0m\u001b[0;34m\u001b[0m\u001b[0m\n\u001b[0m\u001b[1;32m     12\u001b[0m \u001b[0;34m\u001b[0m\u001b[0m\n\u001b[1;32m     13\u001b[0m     \u001b[0;32mif\u001b[0m \u001b[0msample\u001b[0m \u001b[0;34m>\u001b[0m \u001b[0mprobe_sample\u001b[0m\u001b[0;34m:\u001b[0m\u001b[0;34m\u001b[0m\u001b[0;34m\u001b[0m\u001b[0m\n",
      "\u001b[0;32m/blue/thai/minhvu/TGCN/utils/data/spatiotemporal_csv_data.py\u001b[0m in \u001b[0;36mval_dataloader\u001b[0;34m(self)\u001b[0m\n\u001b[1;32m     58\u001b[0m \u001b[0;34m\u001b[0m\u001b[0m\n\u001b[1;32m     59\u001b[0m     \u001b[0;32mdef\u001b[0m \u001b[0mval_dataloader\u001b[0m\u001b[0;34m(\u001b[0m\u001b[0mself\u001b[0m\u001b[0;34m)\u001b[0m\u001b[0;34m:\u001b[0m\u001b[0;34m\u001b[0m\u001b[0;34m\u001b[0m\u001b[0m\n\u001b[0;32m---> 60\u001b[0;31m         \u001b[0;32mreturn\u001b[0m \u001b[0mDataLoader\u001b[0m\u001b[0;34m(\u001b[0m\u001b[0mself\u001b[0m\u001b[0;34m.\u001b[0m\u001b[0mval_dataset\u001b[0m\u001b[0;34m,\u001b[0m \u001b[0mbatch_size\u001b[0m\u001b[0;34m=\u001b[0m \u001b[0mself\u001b[0m\u001b[0;34m.\u001b[0m\u001b[0mval_batch_size\u001b[0m\u001b[0;34m)\u001b[0m\u001b[0;34m\u001b[0m\u001b[0;34m\u001b[0m\u001b[0m\n\u001b[0m\u001b[1;32m     61\u001b[0m \u001b[0;34m\u001b[0m\u001b[0m\n\u001b[1;32m     62\u001b[0m     \u001b[0;34m@\u001b[0m\u001b[0mproperty\u001b[0m\u001b[0;34m\u001b[0m\u001b[0;34m\u001b[0m\u001b[0m\n",
      "\u001b[0;31mAttributeError\u001b[0m: 'SpatioTemporalCSVDataModule' object has no attribute 'val_dataset'"
     ]
    }
   ],
   "source": [
    "adj = dm._adj # adjacent matrix for GCN\n",
    "input_dim =  adj.shape[0] \n",
    "hidden_dim = args.hidden_dim # RNN hidden state dimension\n",
    "\n",
    "source_model = source_task.model.tgcn_cell # source model we need to clone \n",
    "source_model.eval()\n",
    "\n",
    "# Taking the sample and the model out\n",
    "probe_sample = 10\n",
    "sample = 0\n",
    "for val_features, val_labels in dm.val_dataloader():\n",
    "    \n",
    "    if sample > probe_sample:\n",
    "        break\n",
    "    \n",
    "    if sample == probe_sample:\n",
    "\n",
    "        inputs = val_features\n",
    "        batch_size, seq_len, num_nodes = inputs.shape\n",
    "        assert input_dim == num_nodes\n",
    "            \n",
    "    sample += 1"
   ]
  },
  {
   "cell_type": "code",
   "execution_count": 16,
   "id": "4a813680-e448-41bb-bc68-b66d22d7a3bd",
   "metadata": {},
   "outputs": [
    {
     "ename": "AttributeError",
     "evalue": "'SpatioTemporalCSVDataModule' object has no attribute 'val_dataset'",
     "output_type": "error",
     "traceback": [
      "\u001b[0;31m---------------------------------------------------------------------------\u001b[0m",
      "\u001b[0;31mAttributeError\u001b[0m                            Traceback (most recent call last)",
      "\u001b[0;32m/tmp/ipykernel_30029/207780128.py\u001b[0m in \u001b[0;36m<module>\u001b[0;34m\u001b[0m\n\u001b[0;32m----> 1\u001b[0;31m \u001b[0mdm\u001b[0m\u001b[0;34m.\u001b[0m\u001b[0mval_dataloader\u001b[0m\u001b[0;34m(\u001b[0m\u001b[0;34m)\u001b[0m\u001b[0;34m\u001b[0m\u001b[0;34m\u001b[0m\u001b[0m\n\u001b[0m",
      "\u001b[0;32m/blue/thai/minhvu/TGCN/utils/data/spatiotemporal_csv_data.py\u001b[0m in \u001b[0;36mval_dataloader\u001b[0;34m(self)\u001b[0m\n\u001b[1;32m     58\u001b[0m \u001b[0;34m\u001b[0m\u001b[0m\n\u001b[1;32m     59\u001b[0m     \u001b[0;32mdef\u001b[0m \u001b[0mval_dataloader\u001b[0m\u001b[0;34m(\u001b[0m\u001b[0mself\u001b[0m\u001b[0;34m)\u001b[0m\u001b[0;34m:\u001b[0m\u001b[0;34m\u001b[0m\u001b[0;34m\u001b[0m\u001b[0m\n\u001b[0;32m---> 60\u001b[0;31m         \u001b[0;32mreturn\u001b[0m \u001b[0mDataLoader\u001b[0m\u001b[0;34m(\u001b[0m\u001b[0mself\u001b[0m\u001b[0;34m.\u001b[0m\u001b[0mval_dataset\u001b[0m\u001b[0;34m,\u001b[0m \u001b[0mbatch_size\u001b[0m\u001b[0;34m=\u001b[0m \u001b[0mself\u001b[0m\u001b[0;34m.\u001b[0m\u001b[0mval_batch_size\u001b[0m\u001b[0;34m)\u001b[0m\u001b[0;34m\u001b[0m\u001b[0;34m\u001b[0m\u001b[0m\n\u001b[0m\u001b[1;32m     61\u001b[0m \u001b[0;34m\u001b[0m\u001b[0m\n\u001b[1;32m     62\u001b[0m     \u001b[0;34m@\u001b[0m\u001b[0mproperty\u001b[0m\u001b[0;34m\u001b[0m\u001b[0;34m\u001b[0m\u001b[0m\n",
      "\u001b[0;31mAttributeError\u001b[0m: 'SpatioTemporalCSVDataModule' object has no attribute 'val_dataset'"
     ]
    }
   ],
   "source": [
    "dm.val_dataloader()"
   ]
  },
  {
   "cell_type": "code",
   "execution_count": null,
   "id": "7efa524b-8c56-4512-812b-ded721a43e09",
   "metadata": {},
   "outputs": [],
   "source": []
  },
  {
   "cell_type": "code",
   "execution_count": null,
   "id": "e4eed52e-ac96-4a9c-944d-c34a96f69e8f",
   "metadata": {},
   "outputs": [],
   "source": []
  }
 ],
 "metadata": {
  "kernelspec": {
   "display_name": "Python 3 (ipykernel)",
   "language": "python",
   "name": "python3"
  },
  "language_info": {
   "codemirror_mode": {
    "name": "ipython",
    "version": 3
   },
   "file_extension": ".py",
   "mimetype": "text/x-python",
   "name": "python",
   "nbconvert_exporter": "python",
   "pygments_lexer": "ipython3",
   "version": "3.8.12"
  }
 },
 "nbformat": 4,
 "nbformat_minor": 5
}
