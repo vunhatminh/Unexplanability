{
 "cells": [
  {
   "cell_type": "code",
   "execution_count": 1,
   "metadata": {},
   "outputs": [],
   "source": [
    "TARGET_NODE = 125\n",
    "\n",
    "probe_sample = 80\n",
    "\n",
    "TARGET_STR = str(TARGET_NODE)\n",
    "\n",
    "import argparse\n",
    "import traceback\n",
    "import pytorch_lightning as pl\n",
    "from pytorch_lightning.utilities import rank_zero_info\n",
    "import models\n",
    "import tasks\n",
    "import utils.callbacks\n",
    "import utils.data\n",
    "import utils.email\n",
    "import utils.logging\n",
    "import torch\n",
    "from matplotlib import pyplot as plt\n",
    "import networkx as nx\n",
    "import math\n",
    "import time\n",
    "import torch\n",
    "import numpy as np\n",
    "import pandas as pd\n",
    "from scipy.special import softmax\n",
    "from pgmpy.estimators.CITests import chi_square\n",
    "from pgmpy.estimators import HillClimbSearch, BicScore\n",
    "from pgmpy.models import BayesianModel, BayesianNetwork\n",
    "from pgmpy.inference import VariableElimination\n",
    "from scipy import stats\n",
    "\n",
    "from pgmpy.estimators import HillClimbSearch, BicScore\n",
    "\n",
    "def graph_from_adj(adjacency_matrix):\n",
    "    rows, cols = np.where(adjacency_matrix == 1)\n",
    "    edges = zip(rows.tolist(), cols.tolist())\n",
    "    gr = nx.Graph()\n",
    "    gr.add_edges_from(edges)\n",
    "    return gr\n",
    "class Node_Explainer:\n",
    "    def __init__(\n",
    "        self,\n",
    "        model,\n",
    "        regressor,\n",
    "        A,\n",
    "        X,\n",
    "        target,\n",
    "        num_layers,\n",
    "        mode = 0,\n",
    "        print_result = 1\n",
    "    ):\n",
    "        self.model = model\n",
    "        self.model.eval()\n",
    "        self.regressor = regressor\n",
    "        self.A = A\n",
    "        self.X = X\n",
    "        self.target = target\n",
    "        self.num_layers = num_layers\n",
    "        self.mode = mode\n",
    "        self.print_result = print_result\n",
    "        print(\"Explainer settings\")\n",
    "        print(\"\\\\ A dim: \", self.A.shape)\n",
    "        print(\"\\\\ X dim: \", self.X.shape)\n",
    "        print(\"\\\\ Number of layers: \", self.num_layers)\n",
    "        print(\"\\\\ Perturbation mode: \", self.mode)\n",
    "        print(\"\\\\ Print result: \", self.print_result)\n",
    "    \n",
    "    def n_hops_A(self, n_hops):\n",
    "        # Compute the n-hops adjacency matrix\n",
    "        adj = torch.tensor(self.A, dtype=torch.float)\n",
    "        hop_adj = power_adj = adj\n",
    "        for i in range(n_hops - 1):\n",
    "            power_adj = power_adj @ adj\n",
    "            prev_hop_adj = hop_adj\n",
    "            hop_adj = hop_adj + power_adj\n",
    "            hop_adj = (hop_adj > 0).float()\n",
    "        return hop_adj.numpy().astype(int)\n",
    "    \n",
    "    def extract_n_hops_neighbors(self, nA, node_idx):\n",
    "        # Return the n-hops neighbors of a node\n",
    "        node_nA_row = nA[node_idx]\n",
    "        neighbors = np.nonzero(node_nA_row)[0]\n",
    "        node_idx_new = sum(node_nA_row[:node_idx])\n",
    "        sub_A = self.A[neighbors][:, neighbors]\n",
    "        sub_X = self.X[neighbors]\n",
    "        return node_idx_new, sub_A, sub_X, neighbors\n",
    "    \n",
    "    def perturb_features_on_node_1d(self, feature_matrix, node_idx, random = 0, mode = 0):\n",
    "        # return a random perturbed feature matrix\n",
    "        # random = 0 for nothing, 1 for random.\n",
    "        # mode = 0 for random 0-1, 1 for scaling with original feature\n",
    "        \n",
    "        X_perturb = feature_matrix\n",
    "        if mode == 0:\n",
    "            if random == 0:\n",
    "                perturb_array = X_perturb[node_idx]\n",
    "            elif random == 1:\n",
    "                perturb_array = np.random.randint(2, size = 1)\n",
    "            X_perturb[node_idx] = perturb_array\n",
    "        elif mode == 1:\n",
    "            if random == 0:\n",
    "                perturb_array = X_perturb[node_idx]\n",
    "            elif random == 1:\n",
    "                perturb_array = np.multiply(X_perturb[node_idx], np.random.uniform(low=0.0, high=2.0, size = 1))\n",
    "            X_perturb[node_idx] = perturb_array\n",
    "        return X_perturb\n",
    "    \n",
    "    def perturb_features_on_node(self,feature_matrix, node_idx, random = 0, mode = 0):\n",
    "        # return a random perturbed feature matrix\n",
    "        # random = 0 for nothing, 1 for random.\n",
    "        # mode = 0 for random 0-1, 1 for scaling with original feature\n",
    "        \n",
    "        X_perturb = feature_matrix\n",
    "        if mode == 0:\n",
    "            if random == 0:\n",
    "                perturb_array = X_perturb[node_idx]\n",
    "            elif random == 1:\n",
    "                perturb_array = np.random.randint(2, size = X_perturb[node_idx].shape[0])\n",
    "            X_perturb[node_idx] = perturb_array\n",
    "        elif mode == 1:\n",
    "            if random == 0:\n",
    "                perturb_array = X_perturb[node_idx]\n",
    "            elif random == 1:\n",
    "                perturb_array = np.multiply(X_perturb[node_idx],np.random.uniform(low=0.0, high=2.0, size = X_perturb[node_idx].shape[0]))\n",
    "            X_perturb[node_idx] = perturb_array\n",
    "        return X_perturb\n",
    "    \n",
    "    def generalize_target(self, x):\n",
    "        if x > 10:\n",
    "            return x - 10\n",
    "        else:\n",
    "            return x\n",
    "\n",
    "    def generalize_others(self, x):\n",
    "        if x == 2:\n",
    "            return 1\n",
    "        elif x == 12:\n",
    "            return 11\n",
    "        else:\n",
    "            return x\n",
    "\n",
    "    def generate_evidence(self, evidence_list):\n",
    "        return dict(zip(evidence_list,[1 for node in evidence_list]))\n",
    "    \n",
    "    def chi_square(self, X, Y, Z, data):\n",
    "        \"\"\"\n",
    "        Modification of Chi-square conditional independence test from pgmpy\n",
    "        Tests the null hypothesis that X is independent from Y given Zs.\n",
    "        Parameters\n",
    "        ----------\n",
    "        X: int, string, hashable object\n",
    "            A variable name contained in the data set\n",
    "        Y: int, string, hashable object\n",
    "            A variable name contained in the data set, different from X\n",
    "        Zs: list of variable names\n",
    "            A list of variable names contained in the data set, different from X and Y.\n",
    "            This is the separating set that (potentially) makes X and Y independent.\n",
    "            Default: []\n",
    "        Returns\n",
    "        -------\n",
    "        chi2: float\n",
    "            The chi2 test statistic.\n",
    "        p_value: float\n",
    "            The p_value, i.e. the probability of observing the computed chi2\n",
    "            statistic (or an even higher value), given the null hypothesis\n",
    "            that X _|_ Y | Zs.\n",
    "        sufficient_data: bool\n",
    "            A flag that indicates if the sample size is considered sufficient.\n",
    "            As in [4], require at least 5 samples per parameter (on average).\n",
    "            That is, the size of the data set must be greater than\n",
    "            `5 * (c(X) - 1) * (c(Y) - 1) * prod([c(Z) for Z in Zs])`\n",
    "            (c() denotes the variable cardinality).\n",
    "        References\n",
    "        ----------\n",
    "        [1] Koller & Friedman, Probabilistic Graphical Models - Principles and Techniques, 2009\n",
    "        Section 18.2.2.3 (page 789)\n",
    "        [2] Neapolitan, Learning Bayesian Networks, Section 10.3 (page 600ff)\n",
    "            http://www.cs.technion.ac.il/~dang/books/Learning%20Bayesian%20Networks(Neapolitan,%20Richard).pdf\n",
    "        [3] Chi-square test https://en.wikipedia.org/wiki/Pearson%27s_chi-squared_test#Test_of_independence\n",
    "        [4] Tsamardinos et al., The max-min hill-climbing BN structure learning algorithm, 2005, Section 4\n",
    "        \"\"\"\n",
    "        if isinstance(X, int):\n",
    "            X = str(int(X))\n",
    "        if isinstance(Y, int):\n",
    "            Y = str(int(Y))\n",
    "        if isinstance(Z, (frozenset, list, set, tuple)):\n",
    "            Z = list(Z)        \n",
    "        Z = [str(int(z)) for z in Z]\n",
    "            \n",
    "        state_names = {\n",
    "            var_name: data.loc[:, var_name].unique() for var_name in data.columns\n",
    "        }\n",
    "        \n",
    "        row_index = state_names[X]\n",
    "        column_index = pd.MultiIndex.from_product(\n",
    "                [state_names[Y]] + [state_names[z] for z in Z], names=[Y] + Z\n",
    "            )\n",
    "        \n",
    "        XYZ_state_counts = pd.crosstab(\n",
    "                    index=data[X], columns= [data[Y]] + [data[z] for z in Z],\n",
    "                    rownames=[X], colnames=[Y] + Z\n",
    "                )\n",
    "\n",
    "        if not isinstance(XYZ_state_counts.columns, pd.MultiIndex):\n",
    "                XYZ_state_counts.columns = pd.MultiIndex.from_arrays([XYZ_state_counts.columns])\n",
    "        XYZ_state_counts = XYZ_state_counts.reindex(\n",
    "                index=row_index, columns=column_index\n",
    "            ).fillna(0)\n",
    "        \n",
    "        if Z:\n",
    "            XZ_state_counts = XYZ_state_counts.sum(axis=1,level = list( range(1,len(Z)+1)) )  # marginalize out Y\n",
    "            YZ_state_counts = XYZ_state_counts.sum().unstack(Z)  # marginalize out X\n",
    "        else:\n",
    "            XZ_state_counts = XYZ_state_counts.sum(axis=1)\n",
    "            YZ_state_counts = XYZ_state_counts.sum()\n",
    "        Z_state_counts = YZ_state_counts.sum()  # marginalize out both\n",
    "        \n",
    "        XYZ_expected = np.zeros(XYZ_state_counts.shape)\n",
    "\n",
    "        r_index = 0\n",
    "        for X_val in XYZ_state_counts.index:\n",
    "            X_val_array = []\n",
    "            if Z:\n",
    "                for Y_val in XYZ_state_counts.columns.levels[0]:\n",
    "                    temp = XZ_state_counts.loc[X_val] * YZ_state_counts.loc[Y_val] / Z_state_counts\n",
    "                    X_val_array = X_val_array + list(temp.to_numpy())\n",
    "                XYZ_expected[r_index] = np.asarray(X_val_array)\n",
    "                r_index=+1\n",
    "            else:\n",
    "                for Y_val in XYZ_state_counts.columns:\n",
    "                    temp = XZ_state_counts.loc[X_val] * YZ_state_counts.loc[Y_val] / Z_state_counts\n",
    "                    X_val_array = X_val_array + [temp]\n",
    "                XYZ_expected[r_index] = np.asarray(X_val_array)\n",
    "                r_index=+1\n",
    "        \n",
    "        observed = XYZ_state_counts.to_numpy().reshape(1,-1)\n",
    "        expected = XYZ_expected.reshape(1,-1)\n",
    "        observed, expected = zip(*((o, e) for o, e in zip(observed[0], expected[0]) if not (e == 0 or math.isnan(e) )))\n",
    "        chi2, significance_level = stats.chisquare(observed, expected)\n",
    "\n",
    "        return chi2, significance_level\n",
    "    \n",
    "    def explain_tgcn_node(self, \n",
    "                          node_idx, \n",
    "                          pred_threshold = 0.01, \n",
    "                          p_omega = 0.5, \n",
    "                          num_perturbations = 100, \n",
    "                          p_threshold = 0.01 ):\n",
    "        \n",
    "#           node_idx:  node to explain\n",
    "#           pred_threshold: change in the softmax \n",
    "#           p_omega: perturbation probability\n",
    "#           num_perturbations: number of perturbations \n",
    "#           p_threshold: p values for dependent neighbors \n",
    "        \n",
    "        nA = self.n_hops_A(self.num_layers)\n",
    "        node_idx_new, sub_A, sub_X, neighbors = self.extract_n_hops_neighbors(nA,node_idx)\n",
    "        pred_output, _ = self.model.forward(self.X.unsqueeze(0))\n",
    "        pred_output = pred_output.reshape((1, self.X.shape[0], -1))\n",
    "        soft_pred = self.regressor.forward(pred_output)[0,:,self.target]\n",
    "\n",
    "        Samples = []\n",
    "        Pred_Samples = []\n",
    "        \n",
    "        pred_omega = int(1/p_omega)\n",
    "\n",
    "        for iteration in range(num_perturbations):\n",
    "            X_perturb = self.X.cpu().detach().numpy().copy()\n",
    "            sample = []\n",
    "            for node in neighbors:\n",
    "                seed = np.random.randint(pred_omega)\n",
    "                if seed == 1:\n",
    "                    latent = 1\n",
    "                    X_perturb = self.perturb_features_on_node_1d(X_perturb, node, random = seed, mode = 1)\n",
    "                else:\n",
    "                    latent = 0\n",
    "                sample.append(latent)\n",
    "            X_perturb_torch =  torch.tensor([X_perturb], dtype=torch.float)\n",
    "            pred_perturb_torch, _ = self.model.forward(X_perturb_torch)\n",
    "            pred_perturb_torch = pred_perturb_torch.reshape((1, self.X.shape[0], -1))\n",
    "            soft_pred_perturb = self.regressor.forward(pred_perturb_torch)[0,:,self.target]\n",
    "            sample_bool = []\n",
    "            for node in neighbors:\n",
    "                if torch.abs(soft_pred_perturb[node] - soft_pred[node]).item() > pred_threshold:\n",
    "                    sample_bool.append(1)\n",
    "                else:\n",
    "                    sample_bool.append(0)\n",
    "            Samples.append(sample)\n",
    "            Pred_Samples.append(sample_bool)\n",
    "\n",
    "        Samples = np.asarray(Samples)\n",
    "        Pred_Samples = np.asarray(Pred_Samples)\n",
    "        Combine_Samples = Samples-Samples\n",
    "        for s in range(Samples.shape[0]):\n",
    "            Combine_Samples[s] = np.asarray([Samples[s,i]*10 + Pred_Samples[s,i]+1 for i in range(Samples.shape[1])])\n",
    "\n",
    "        data = pd.DataFrame(Combine_Samples)\n",
    "        data.columns = ['var_' + str(col) for col in data.columns]\n",
    "        ind_sub_to_ori = dict(zip(list(data.columns), neighbors))\n",
    "        ind_ori_to_sub = dict(zip(neighbors,list(data.columns)))\n",
    "    \n",
    "        p_values = []\n",
    "        dependent_neighbors = []\n",
    "        dependent_neighbors_p_values = []\n",
    "        for node in neighbors:\n",
    "\n",
    "            chi2, p = self.chi_square(ind_ori_to_sub[node], ind_ori_to_sub[node_idx], [], data)\n",
    "            p_values.append(p)\n",
    "            if p < p_threshold:\n",
    "                dependent_neighbors.append(node)\n",
    "                dependent_neighbors_p_values.append(p)\n",
    "        \n",
    "        pgm_stats = dict(zip(neighbors,p_values))\n",
    "  \n",
    "\n",
    "        pgm_nodes = dependent_neighbors\n",
    "        \n",
    "        data = data.rename(columns={\"A\": 0, \"B\": 1})\n",
    "        data = data.rename(columns=ind_sub_to_ori)\n",
    "        \n",
    "        return pgm_nodes, data, pgm_stats\n",
    "    \n",
    "    def pgm_generate(self, target, data, pgm_stats, subnodes, child = None):\n",
    "   \n",
    "        subnodes = [str(int(node)) for node in subnodes]\n",
    "        target = str(int(target))\n",
    "        subnodes_no_target = [node for node in subnodes if node != target]\n",
    "        data.columns = data.columns.astype(str)\n",
    "        \n",
    "        MK_blanket = self.search_MK(data, target, subnodes_no_target.copy())\n",
    "        \n",
    "\n",
    "        if child == None:\n",
    "#             est = HillClimbSearch(data[subnodes_no_target], scoring_method=BicScore(data))\n",
    "            est = HillClimbSearch(data[subnodes_no_target])\n",
    "            pgm_no_target = est.estimate(scoring_method=BicScore(data))\n",
    "            for node in MK_blanket:\n",
    "                if node != target:\n",
    "                    pgm_no_target.add_edge(node,target)\n",
    "\n",
    "        #   Create the pgm    \n",
    "            pgm_explanation = BayesianModel()\n",
    "            for node in pgm_no_target.nodes():\n",
    "                pgm_explanation.add_node(node)\n",
    "            for edge in pgm_no_target.edges():\n",
    "                pgm_explanation.add_edge(edge[0],edge[1])\n",
    "\n",
    "        #   Fit the pgm\n",
    "            data_ex = data[subnodes].copy()\n",
    "            data_ex[target] = data[target].apply(self.generalize_target)\n",
    "            for node in subnodes_no_target:\n",
    "                data_ex[node] = data[node].apply(self.generalize_others)\n",
    "            pgm_explanation.fit(data_ex)\n",
    "        else:\n",
    "            data_ex = data[subnodes].copy()\n",
    "            data_ex[target] = data[target].apply(self.generalize_target)\n",
    "            for node in subnodes_no_target:\n",
    "                data_ex[node] = data[node].apply(self.generalize_others)\n",
    "                \n",
    "#             est = HillClimbSearch(data_ex, scoring_method=BicScore(data_ex))\n",
    "            est = HillClimbSearch(data_ex)\n",
    "            pgm_w_target_explanation = est.estimate(scoring_method=BicScore(data))\n",
    "            \n",
    "            #   Create the pgm    \n",
    "            pgm_explanation = BayesianModel()\n",
    "            for node in pgm_w_target_explanation.nodes():\n",
    "                pgm_explanation.add_node(node)\n",
    "            for edge in pgm_w_target_explanation.edges():\n",
    "                pgm_explanation.add_edge(edge[0],edge[1])\n",
    "\n",
    "            #   Fit the pgm\n",
    "            data_ex = data[subnodes].copy()\n",
    "            data_ex[target] = data[target].apply(self.generalize_target)\n",
    "            for node in subnodes_no_target:\n",
    "                data_ex[node] = data[node].apply(self.generalize_others)\n",
    "            pgm_explanation.fit(data_ex)\n",
    "        \n",
    "\n",
    "        return pgm_explanation\n",
    "    \n",
    "    def search_MK(self, data, target, nodes):\n",
    "        target = str(int(target))\n",
    "        data.columns = data.columns.astype(str)\n",
    "        nodes = [str(int(node)) for node in nodes]\n",
    "        \n",
    "        MB = nodes\n",
    "        while True:\n",
    "            count = 0\n",
    "            for node in nodes:\n",
    "                evidences = MB.copy()\n",
    "                evidences.remove(node)\n",
    "                if target not in nodes:\n",
    "                    _, p = self.chi_square(target, node, evidences, data[nodes + [target]])\n",
    "                else:\n",
    "                    _, p = self.chi_square(target, node, evidences, data[nodes])\n",
    "                if p > 0.05:\n",
    "                    MB.remove(node)\n",
    "                    count = 0\n",
    "                else:\n",
    "                    count = count + 1\n",
    "                    if count == len(MB):\n",
    "                        return MB\n",
    "    \n",
    "    def generate_evidence(self, evidence_list):\n",
    "        return dict(zip(evidence_list, [1 for node in evidence_list]))\n",
    "                    \n",
    "    def pgm_conditional_prob(self, target, pgm_explanation, evidence_list):\n",
    "        pgm_infer = VariableElimination(pgm_explanation)\n",
    "        for node in evidence_list:\n",
    "            if node not in list(pgm_infer.model.nodes):\n",
    "                print(\"Not valid evidence list.\")\n",
    "                return None\n",
    "        evidences = self.generate_evidence(evidence_list)\n",
    "        elimination_order = [node for node in list(pgm_infer.model.nodes) if node not in evidence_list]\n",
    "        elimination_order = [node for node in elimination_order if node != target]\n",
    "        q = pgm_infer.query([target], evidence = evidences,\n",
    "                        elimination_order = elimination_order, show_progress=False)\n",
    "        return q.values[0]"
   ]
  },
  {
   "cell_type": "code",
   "execution_count": 2,
   "metadata": {},
   "outputs": [],
   "source": [
    "\n",
    "\n",
    "\n",
    "DATA_PATHS = {\n",
    "    \"shenzhen\": {\"feat\": \"data/sz_speed.csv\", \"adj\": \"data/sz_adj.csv\"},\n",
    "    \"losloop\": {\"feat\": \"data/los_speed.csv\", \"adj\": \"data/los_adj.csv\"},\n",
    "}\n",
    "\n",
    "\n",
    "def get_model(args, dm):\n",
    "    model = None\n",
    "    if args.model_name == \"GCN\":\n",
    "        model = models.GCN(adj=dm.adj, input_dim=args.seq_len, output_dim=args.hidden_dim)\n",
    "    if args.model_name == \"GRU\":\n",
    "        model = models.GRU(input_dim=dm.adj.shape[0], hidden_dim=args.hidden_dim)\n",
    "    if args.model_name == \"TGCN\":\n",
    "        model = models.TGCN(adj=dm.adj, hidden_dim=args.hidden_dim)\n",
    "    return model\n",
    "\n",
    "\n",
    "def get_task(args, model, dm):\n",
    "    task = getattr(tasks, args.settings.capitalize() + \"ForecastTask\")(\n",
    "        model=model, feat_max_val=dm.feat_max_val, **vars(args)\n",
    "    )\n",
    "    return task\n",
    "\n",
    "\n",
    "def get_callbacks(args):\n",
    "    checkpoint_callback = pl.callbacks.ModelCheckpoint(monitor=\"train_loss\")\n",
    "    plot_validation_predictions_callback = utils.callbacks.PlotValidationPredictionsCallback(monitor=\"train_loss\")\n",
    "    callbacks = [\n",
    "        checkpoint_callback,\n",
    "        plot_validation_predictions_callback,\n",
    "    ]\n",
    "    return callbacks\n",
    "\n",
    "\n",
    "def main_supervised(args):\n",
    "    dm = utils.data.SpatioTemporalCSVDataModule(\n",
    "        feat_path=DATA_PATHS[args.data][\"feat\"], adj_path=DATA_PATHS[args.data][\"adj\"], **vars(args)\n",
    "    )\n",
    "    model = get_model(args, dm)\n",
    "    task = get_task(args, model, dm)\n",
    "    callbacks = get_callbacks(args)\n",
    "    trainer = pl.Trainer.from_argparse_args(args, callbacks=callbacks)\n",
    "    trainer.fit(task, dm)\n",
    "    results = trainer.validate(datamodule=dm)\n",
    "    return results, model,task, dm  \n",
    "\n",
    "\n",
    "def main(args):\n",
    "    rank_zero_info(vars(args))\n",
    "    results, model,task, dm = globals()[\"main_\" + args.settings](args)\n",
    "    return results, model,task, dm"
   ]
  },
  {
   "cell_type": "code",
   "execution_count": 3,
   "metadata": {},
   "outputs": [
    {
     "name": "stderr",
     "output_type": "stream",
     "text": [
      "\u001b[31m[2022-03-13 12:46:26,185 INFO]\u001b[0m{'max_epochs': 10, 'pre_len': 3, 'val_batch_size': 1, 'gpus': 1, 'data': 'shenzhen', 'model_name': 'TGCN', 'settings': 'supervised', 'log_path': None, 'send_email': False, 'batch_size': 32, 'seq_len': 12, 'split_ratio': 0.8, 'normalize': True, 'hidden_dim': 64, 'learning_rate': 0.001, 'weight_decay': 0.0015, 'loss': 'mse_with_regularizer'}\n"
     ]
    }
   ],
   "source": [
    "parser = argparse.ArgumentParser()\n",
    "#parser = pl.Trainer.add_argparse_args(parser)\n",
    "\n",
    "parser.add_argument(\"--max_epochs\", default = 10)\n",
    "parser.add_argument(\"--pre_len\", type=int, default=3)\n",
    "parser.add_argument(\"--val_batch_size\", type=int, default=1)\n",
    "#parser.add_argument(\"--learning_rate\", default = 0.001)\n",
    "#parser.add_argument(\"--weight_decay\", default = 0)\n",
    "#parser.add_argument(\"--batch_size\", default =  32)\n",
    "#parser.add_argument(\"--hidden_dim\", default = 64)\n",
    "#parser.add_argument(\"--loss\", default = \"mse_with_regularizer\") \n",
    "parser.add_argument(\"--gpus\", default =  1) \n",
    "\n",
    "\n",
    "parser.add_argument(\n",
    "    \"--data\", type=str, help=\"The name of the dataset\", choices=(\"shenzhen\", \"losloop\"), default=\"shenzhen\"\n",
    ")\n",
    "parser.add_argument(\n",
    "    \"--model_name\",\n",
    "    type=str,\n",
    "    help=\"The name of the model for spatiotemporal prediction\",\n",
    "    choices=(\"GCN\", \"GRU\", \"TGCN\"),\n",
    "    default=\"TGCN\",\n",
    ")\n",
    "parser.add_argument(\n",
    "    \"--settings\",\n",
    "    type=str,\n",
    "    help=\"The type of settings, e.g. supervised learning\",\n",
    "    choices=(\"supervised\",),\n",
    "    default=\"supervised\",\n",
    ")\n",
    "parser.add_argument(\"--log_path\", type=str, default=None, help=\"Path to the output console log file\")\n",
    "parser.add_argument(\"--send_email\", \"--email\", action=\"store_true\", help=\"Send email when finished\")\n",
    "\n",
    "temp_args, _ = parser.parse_known_args()\n",
    "\n",
    "parser = getattr(utils.data, temp_args.settings.capitalize() + \"DataModule\").add_data_specific_arguments(parser)\n",
    "parser = getattr(models, temp_args.model_name).add_model_specific_arguments(parser)\n",
    "parser = getattr(tasks, temp_args.settings.capitalize() + \"ForecastTask\").add_task_specific_arguments(parser)\n",
    "\n",
    "args = parser.parse_args(\"\")\n",
    "utils.logging.format_logger(pl._logger)\n",
    "if args.log_path is not None:\n",
    "    utils.logging.output_logger_to_file(pl._logger, args.log_path)\n",
    "\n",
    "rank_zero_info(vars(args))\n",
    "dm = utils.data.SpatioTemporalCSVDataModule(\n",
    "    feat_path=DATA_PATHS[args.data][\"feat\"], adj_path=DATA_PATHS[args.data][\"adj\"], **vars(args)\n",
    ")\n",
    "model = get_model(args, dm)\n",
    "task = get_task(args, model, dm)\n",
    "callbacks = get_callbacks(args)\n",
    "path = \"model_tgcn.pt\"\n",
    "task.load_state_dict(torch.load(path))\n",
    "\n",
    "dm.setup() # Generate train/val dataset\n",
    "#results, model, task, dm = main(args)\n",
    "\n",
    "# trainer = pl.Trainer.from_argparse_args(args, callbacks=callbacks)\n",
    "# results = trainer.validate(task, datamodule=dm)"
   ]
  },
  {
   "cell_type": "code",
   "execution_count": 4,
   "metadata": {},
   "outputs": [
    {
     "data": {
      "text/plain": [
       "TGCNCell(\n",
       "  (graph_conv1): TGCNGraphConvolution()\n",
       "  (graph_conv2): TGCNGraphConvolution()\n",
       ")"
      ]
     },
     "execution_count": 4,
     "metadata": {},
     "output_type": "execute_result"
    }
   ],
   "source": [
    "#Clone regressor\n",
    "#source_task: contain attributes model (TGCN) and regressor\n",
    "#dest_task: clone only regressor part. \n",
    "\n",
    "dest_task = tasks.supervised.SupervisedForecastTask_clone(hidden_dim = args.hidden_dim)\n",
    "source_task = task\n",
    "\n",
    "task_clone_layers = []\n",
    "for item in dest_task._modules.items():\n",
    "    task_clone_layers.append(item[0])\n",
    "    \n",
    "source_task.eval()\n",
    "dest_task.eval()\n",
    "for layer in task_clone_layers: \n",
    "    if layer == \"regressor\":\n",
    "        if hasattr(getattr(dest_task, layer), 'weight'):\n",
    "            with torch.no_grad():\n",
    "                getattr(dest_task, layer).weight.copy_(getattr(source_task, layer).weight)\n",
    "        if hasattr(getattr(dest_task, layer), 'bias'):\n",
    "            with torch.no_grad():\n",
    "                getattr(dest_task, layer).bias.copy_(getattr(source_task, layer).bias)\n",
    "\n",
    "adj = dm._adj # adjacent matrix for GCN\n",
    "input_dim =  adj.shape[0] \n",
    "hidden_dim = args.hidden_dim # RNN hidden state dimension\n",
    "\n",
    "source_model = source_task.model.tgcn_cell # source model we need to clone \n",
    "source_model.eval()\n",
    "\n",
    "# Taking the sample and the model out\n"
   ]
  },
  {
   "cell_type": "markdown",
   "metadata": {},
   "source": [
    "First save data in all time slots"
   ]
  },
  {
   "cell_type": "code",
   "execution_count": null,
   "metadata": {},
   "outputs": [],
   "source": [
    "\n",
    "samples = 0\n",
    "#threshold = 581 \n",
    "end = 581\n",
    "start = end - 96  + 1\n",
    "\n",
    "\n",
    "for val_features, val_labels in dm.val_dataloader():\n",
    "    samples = samples + 1\n",
    "    \n",
    "    if samples >= start and samples<=end:\n",
    "        print(samples)\n",
    "        #print(\"node: \", i)\n",
    "        inputs = val_features\n",
    "        batch_size, seq_len, num_nodes = inputs.shape\n",
    "        assert input_dim == num_nodes\n",
    "\n",
    "        dependent_neighbors = []\n",
    "        for probe_snapshot in range(11,12):\n",
    "\n",
    "            hidden_state = torch.zeros(batch_size, num_nodes * hidden_dim).type_as(inputs)\n",
    "            output = None\n",
    "            for i in range(probe_snapshot):\n",
    "                if i == probe_snapshot - 1:\n",
    "                    dest_model = models.tgcn.TGCNCell_clone(adj, input_dim, hidden_dim, hidden_state)\n",
    "                    dest_model.eval()    \n",
    "                    clone_layers = []\n",
    "                    for item in source_task.model.tgcn_cell._modules.items():\n",
    "                        clone_layers.append(item[0])\n",
    "\n",
    "                    for layer in clone_layers:\n",
    "                        if hasattr(getattr(dest_model, layer), 'weights'):\n",
    "                            with torch.no_grad():\n",
    "                                getattr(dest_model, layer).weights.copy_(getattr(source_model, layer).weights)\n",
    "                        if hasattr(getattr(dest_model, layer), 'biases'):\n",
    "                            with torch.no_grad():\n",
    "                                getattr(dest_model, layer).biases.copy_(getattr(source_model, layer).biases)\n",
    "\n",
    "                output, hidden_state = source_model(inputs[:, i, :], hidden_state) \n",
    "\n",
    "            input_features = inputs[:, probe_snapshot-1, :]\n",
    "            # Init\n",
    "            explainer = Node_Explainer(dest_model, dest_task, adj, input_features[0], 0, 2)\n",
    "            # Explain\n",
    "            pgm_nodes, data, pgm_stats = explainer.explain_tgcn_node(TARGET_NODE, 0.001, 0.5, 500, 0.01)\n",
    "            \n",
    "            #print(\"Generate the PGM\")\n",
    "            #pgm_explanation = explainer.pgm_generate(TARGET_NODE, data, stats, pgm_nodes)\n",
    "            \n",
    "    \n",
    "            path = \"bayesian_data/node_\" + str(TARGET_NODE) + \"/data_\" +  str(samples) + \".csv\"\n",
    "            data.to_csv(path)"
   ]
  },
  {
   "cell_type": "markdown",
   "metadata": {},
   "source": [
    "Compute the Bayesian score for all time slots"
   ]
  },
  {
   "cell_type": "code",
   "execution_count": 6,
   "metadata": {},
   "outputs": [],
   "source": [
    "# load data for all time slots\n",
    "samples = 0\n",
    "#threshold = 581 \n",
    "end = 581\n",
    "start = end - 96  + 1\n",
    "import pandas as pd\n",
    "all_data = []\n",
    "for i in range(start, end + 1):\n",
    "    path = \"bayesian_data/node_\" + str(TARGET_NODE) + \"/data_\" +  str(i) + \".csv\"\n",
    "    df = pd.read_csv (path)\n",
    "    all_data.append(df)"
   ]
  },
  {
   "cell_type": "code",
   "execution_count": 7,
   "metadata": {
    "collapsed": true,
    "jupyter": {
     "outputs_hidden": true
    }
   },
   "outputs": [
    {
     "name": "stdout",
     "output_type": "stream",
     "text": [
      "486\n",
      "Explainer settings\n",
      "\\ A dim:  (156, 156)\n",
      "\\ X dim:  torch.Size([156])\n",
      "\\ Number of layers:  2\n",
      "\\ Perturbation mode:  0\n",
      "\\ Print result:  1\n"
     ]
    },
    {
     "data": {
      "application/vnd.jupyter.widget-view+json": {
       "model_id": "6a45f13f72ef40daa73f536631f01090",
       "version_major": 2,
       "version_minor": 0
      },
      "text/plain": [
       "  0%|          | 0/1000000 [00:00<?, ?it/s]"
      ]
     },
     "metadata": {},
     "output_type": "display_data"
    },
    {
     "name": "stderr",
     "output_type": "stream",
     "text": [
      "/home/whe2/.local/lib/python3.9/site-packages/pgmpy/models/BayesianModel.py:8: FutureWarning: BayesianModel has been renamed to BayesianNetwork. Please use BayesianNetwork class, BayesianModel will be removed in future.\n",
      "  warnings.warn(\n",
      "/home/whe2/.local/lib/python3.9/site-packages/pgmpy/models/BayesianModel.py:8: FutureWarning: BayesianModel has been renamed to BayesianNetwork. Please use BayesianNetwork class, BayesianModel will be removed in future.\n",
      "  warnings.warn(\n"
     ]
    },
    {
     "name": "stdout",
     "output_type": "stream",
     "text": [
      "487\n",
      "Explainer settings\n",
      "\\ A dim:  (156, 156)\n",
      "\\ X dim:  torch.Size([156])\n",
      "\\ Number of layers:  2\n",
      "\\ Perturbation mode:  0\n",
      "\\ Print result:  1\n"
     ]
    },
    {
     "data": {
      "application/vnd.jupyter.widget-view+json": {
       "model_id": "23dc5592824e44b0b6ad6c847d9fc86a",
       "version_major": 2,
       "version_minor": 0
      },
      "text/plain": [
       "  0%|          | 0/1000000 [00:00<?, ?it/s]"
      ]
     },
     "metadata": {},
     "output_type": "display_data"
    },
    {
     "name": "stderr",
     "output_type": "stream",
     "text": [
      "/home/whe2/.local/lib/python3.9/site-packages/pgmpy/models/BayesianModel.py:8: FutureWarning: BayesianModel has been renamed to BayesianNetwork. Please use BayesianNetwork class, BayesianModel will be removed in future.\n",
      "  warnings.warn(\n",
      "/home/whe2/.local/lib/python3.9/site-packages/pgmpy/models/BayesianModel.py:8: FutureWarning: BayesianModel has been renamed to BayesianNetwork. Please use BayesianNetwork class, BayesianModel will be removed in future.\n",
      "  warnings.warn(\n"
     ]
    },
    {
     "name": "stdout",
     "output_type": "stream",
     "text": [
      "488\n",
      "Explainer settings\n",
      "\\ A dim:  (156, 156)\n",
      "\\ X dim:  torch.Size([156])\n",
      "\\ Number of layers:  2\n",
      "\\ Perturbation mode:  0\n",
      "\\ Print result:  1\n"
     ]
    },
    {
     "data": {
      "application/vnd.jupyter.widget-view+json": {
       "model_id": "91aec83cc964478bb3b030fde09b10da",
       "version_major": 2,
       "version_minor": 0
      },
      "text/plain": [
       "  0%|          | 0/1000000 [00:00<?, ?it/s]"
      ]
     },
     "metadata": {},
     "output_type": "display_data"
    },
    {
     "name": "stderr",
     "output_type": "stream",
     "text": [
      "/home/whe2/.local/lib/python3.9/site-packages/pgmpy/models/BayesianModel.py:8: FutureWarning: BayesianModel has been renamed to BayesianNetwork. Please use BayesianNetwork class, BayesianModel will be removed in future.\n",
      "  warnings.warn(\n",
      "/home/whe2/.local/lib/python3.9/site-packages/pgmpy/models/BayesianModel.py:8: FutureWarning: BayesianModel has been renamed to BayesianNetwork. Please use BayesianNetwork class, BayesianModel will be removed in future.\n",
      "  warnings.warn(\n"
     ]
    },
    {
     "name": "stdout",
     "output_type": "stream",
     "text": [
      "489\n",
      "Explainer settings\n",
      "\\ A dim:  (156, 156)\n",
      "\\ X dim:  torch.Size([156])\n",
      "\\ Number of layers:  2\n",
      "\\ Perturbation mode:  0\n",
      "\\ Print result:  1\n"
     ]
    },
    {
     "data": {
      "application/vnd.jupyter.widget-view+json": {
       "model_id": "437f86dbe6364f948963b34418fb1be3",
       "version_major": 2,
       "version_minor": 0
      },
      "text/plain": [
       "  0%|          | 0/1000000 [00:00<?, ?it/s]"
      ]
     },
     "metadata": {},
     "output_type": "display_data"
    },
    {
     "name": "stderr",
     "output_type": "stream",
     "text": [
      "/home/whe2/.local/lib/python3.9/site-packages/pgmpy/models/BayesianModel.py:8: FutureWarning: BayesianModel has been renamed to BayesianNetwork. Please use BayesianNetwork class, BayesianModel will be removed in future.\n",
      "  warnings.warn(\n",
      "/home/whe2/.local/lib/python3.9/site-packages/pgmpy/models/BayesianModel.py:8: FutureWarning: BayesianModel has been renamed to BayesianNetwork. Please use BayesianNetwork class, BayesianModel will be removed in future.\n",
      "  warnings.warn(\n"
     ]
    },
    {
     "name": "stdout",
     "output_type": "stream",
     "text": [
      "490\n",
      "Explainer settings\n",
      "\\ A dim:  (156, 156)\n",
      "\\ X dim:  torch.Size([156])\n",
      "\\ Number of layers:  2\n",
      "\\ Perturbation mode:  0\n",
      "\\ Print result:  1\n"
     ]
    },
    {
     "data": {
      "application/vnd.jupyter.widget-view+json": {
       "model_id": "5c241745e5d846b7ba5ae6d95946b8df",
       "version_major": 2,
       "version_minor": 0
      },
      "text/plain": [
       "  0%|          | 0/1000000 [00:00<?, ?it/s]"
      ]
     },
     "metadata": {},
     "output_type": "display_data"
    },
    {
     "name": "stderr",
     "output_type": "stream",
     "text": [
      "/home/whe2/.local/lib/python3.9/site-packages/pgmpy/models/BayesianModel.py:8: FutureWarning: BayesianModel has been renamed to BayesianNetwork. Please use BayesianNetwork class, BayesianModel will be removed in future.\n",
      "  warnings.warn(\n",
      "/home/whe2/.local/lib/python3.9/site-packages/pgmpy/models/BayesianModel.py:8: FutureWarning: BayesianModel has been renamed to BayesianNetwork. Please use BayesianNetwork class, BayesianModel will be removed in future.\n",
      "  warnings.warn(\n"
     ]
    },
    {
     "name": "stdout",
     "output_type": "stream",
     "text": [
      "491\n",
      "Explainer settings\n",
      "\\ A dim:  (156, 156)\n",
      "\\ X dim:  torch.Size([156])\n",
      "\\ Number of layers:  2\n",
      "\\ Perturbation mode:  0\n",
      "\\ Print result:  1\n"
     ]
    },
    {
     "data": {
      "application/vnd.jupyter.widget-view+json": {
       "model_id": "c973bccb3a1e45beb761ece302060880",
       "version_major": 2,
       "version_minor": 0
      },
      "text/plain": [
       "  0%|          | 0/1000000 [00:00<?, ?it/s]"
      ]
     },
     "metadata": {},
     "output_type": "display_data"
    },
    {
     "name": "stderr",
     "output_type": "stream",
     "text": [
      "/home/whe2/.local/lib/python3.9/site-packages/pgmpy/models/BayesianModel.py:8: FutureWarning: BayesianModel has been renamed to BayesianNetwork. Please use BayesianNetwork class, BayesianModel will be removed in future.\n",
      "  warnings.warn(\n",
      "/home/whe2/.local/lib/python3.9/site-packages/pgmpy/models/BayesianModel.py:8: FutureWarning: BayesianModel has been renamed to BayesianNetwork. Please use BayesianNetwork class, BayesianModel will be removed in future.\n",
      "  warnings.warn(\n"
     ]
    },
    {
     "name": "stdout",
     "output_type": "stream",
     "text": [
      "492\n",
      "Explainer settings\n",
      "\\ A dim:  (156, 156)\n",
      "\\ X dim:  torch.Size([156])\n",
      "\\ Number of layers:  2\n",
      "\\ Perturbation mode:  0\n",
      "\\ Print result:  1\n"
     ]
    },
    {
     "data": {
      "application/vnd.jupyter.widget-view+json": {
       "model_id": "8c45658dcd6747e190e3e76c55fc9d5c",
       "version_major": 2,
       "version_minor": 0
      },
      "text/plain": [
       "  0%|          | 0/1000000 [00:00<?, ?it/s]"
      ]
     },
     "metadata": {},
     "output_type": "display_data"
    },
    {
     "name": "stderr",
     "output_type": "stream",
     "text": [
      "/home/whe2/.local/lib/python3.9/site-packages/pgmpy/models/BayesianModel.py:8: FutureWarning: BayesianModel has been renamed to BayesianNetwork. Please use BayesianNetwork class, BayesianModel will be removed in future.\n",
      "  warnings.warn(\n",
      "/home/whe2/.local/lib/python3.9/site-packages/pgmpy/models/BayesianModel.py:8: FutureWarning: BayesianModel has been renamed to BayesianNetwork. Please use BayesianNetwork class, BayesianModel will be removed in future.\n",
      "  warnings.warn(\n"
     ]
    },
    {
     "name": "stdout",
     "output_type": "stream",
     "text": [
      "493\n",
      "Explainer settings\n",
      "\\ A dim:  (156, 156)\n",
      "\\ X dim:  torch.Size([156])\n",
      "\\ Number of layers:  2\n",
      "\\ Perturbation mode:  0\n",
      "\\ Print result:  1\n"
     ]
    },
    {
     "data": {
      "application/vnd.jupyter.widget-view+json": {
       "model_id": "9eb8f63156424ecf8517b2ee69778c37",
       "version_major": 2,
       "version_minor": 0
      },
      "text/plain": [
       "  0%|          | 0/1000000 [00:00<?, ?it/s]"
      ]
     },
     "metadata": {},
     "output_type": "display_data"
    },
    {
     "name": "stderr",
     "output_type": "stream",
     "text": [
      "/home/whe2/.local/lib/python3.9/site-packages/pgmpy/models/BayesianModel.py:8: FutureWarning: BayesianModel has been renamed to BayesianNetwork. Please use BayesianNetwork class, BayesianModel will be removed in future.\n",
      "  warnings.warn(\n",
      "/home/whe2/.local/lib/python3.9/site-packages/pgmpy/models/BayesianModel.py:8: FutureWarning: BayesianModel has been renamed to BayesianNetwork. Please use BayesianNetwork class, BayesianModel will be removed in future.\n",
      "  warnings.warn(\n"
     ]
    },
    {
     "name": "stdout",
     "output_type": "stream",
     "text": [
      "494\n",
      "Explainer settings\n",
      "\\ A dim:  (156, 156)\n",
      "\\ X dim:  torch.Size([156])\n",
      "\\ Number of layers:  2\n",
      "\\ Perturbation mode:  0\n",
      "\\ Print result:  1\n"
     ]
    },
    {
     "data": {
      "application/vnd.jupyter.widget-view+json": {
       "model_id": "6ddebe81c47249fc822ce233be789213",
       "version_major": 2,
       "version_minor": 0
      },
      "text/plain": [
       "  0%|          | 0/1000000 [00:00<?, ?it/s]"
      ]
     },
     "metadata": {},
     "output_type": "display_data"
    },
    {
     "name": "stderr",
     "output_type": "stream",
     "text": [
      "/home/whe2/.local/lib/python3.9/site-packages/pgmpy/models/BayesianModel.py:8: FutureWarning: BayesianModel has been renamed to BayesianNetwork. Please use BayesianNetwork class, BayesianModel will be removed in future.\n",
      "  warnings.warn(\n",
      "/home/whe2/.local/lib/python3.9/site-packages/pgmpy/models/BayesianModel.py:8: FutureWarning: BayesianModel has been renamed to BayesianNetwork. Please use BayesianNetwork class, BayesianModel will be removed in future.\n",
      "  warnings.warn(\n"
     ]
    },
    {
     "name": "stdout",
     "output_type": "stream",
     "text": [
      "495\n",
      "Explainer settings\n",
      "\\ A dim:  (156, 156)\n",
      "\\ X dim:  torch.Size([156])\n",
      "\\ Number of layers:  2\n",
      "\\ Perturbation mode:  0\n",
      "\\ Print result:  1\n"
     ]
    },
    {
     "data": {
      "application/vnd.jupyter.widget-view+json": {
       "model_id": "408aa202a7a94a61812b8c913a8f0ba6",
       "version_major": 2,
       "version_minor": 0
      },
      "text/plain": [
       "  0%|          | 0/1000000 [00:00<?, ?it/s]"
      ]
     },
     "metadata": {},
     "output_type": "display_data"
    },
    {
     "name": "stderr",
     "output_type": "stream",
     "text": [
      "/home/whe2/.local/lib/python3.9/site-packages/pgmpy/models/BayesianModel.py:8: FutureWarning: BayesianModel has been renamed to BayesianNetwork. Please use BayesianNetwork class, BayesianModel will be removed in future.\n",
      "  warnings.warn(\n",
      "/home/whe2/.local/lib/python3.9/site-packages/pgmpy/models/BayesianModel.py:8: FutureWarning: BayesianModel has been renamed to BayesianNetwork. Please use BayesianNetwork class, BayesianModel will be removed in future.\n",
      "  warnings.warn(\n"
     ]
    },
    {
     "name": "stdout",
     "output_type": "stream",
     "text": [
      "496\n",
      "Explainer settings\n",
      "\\ A dim:  (156, 156)\n",
      "\\ X dim:  torch.Size([156])\n",
      "\\ Number of layers:  2\n",
      "\\ Perturbation mode:  0\n",
      "\\ Print result:  1\n"
     ]
    },
    {
     "data": {
      "application/vnd.jupyter.widget-view+json": {
       "model_id": "7bcf728d535e4c0b9c88d722ba7bf3dc",
       "version_major": 2,
       "version_minor": 0
      },
      "text/plain": [
       "  0%|          | 0/1000000 [00:00<?, ?it/s]"
      ]
     },
     "metadata": {},
     "output_type": "display_data"
    },
    {
     "name": "stderr",
     "output_type": "stream",
     "text": [
      "/home/whe2/.local/lib/python3.9/site-packages/pgmpy/models/BayesianModel.py:8: FutureWarning: BayesianModel has been renamed to BayesianNetwork. Please use BayesianNetwork class, BayesianModel will be removed in future.\n",
      "  warnings.warn(\n",
      "/home/whe2/.local/lib/python3.9/site-packages/pgmpy/models/BayesianModel.py:8: FutureWarning: BayesianModel has been renamed to BayesianNetwork. Please use BayesianNetwork class, BayesianModel will be removed in future.\n",
      "  warnings.warn(\n"
     ]
    },
    {
     "name": "stdout",
     "output_type": "stream",
     "text": [
      "497\n",
      "Explainer settings\n",
      "\\ A dim:  (156, 156)\n",
      "\\ X dim:  torch.Size([156])\n",
      "\\ Number of layers:  2\n",
      "\\ Perturbation mode:  0\n",
      "\\ Print result:  1\n"
     ]
    },
    {
     "data": {
      "application/vnd.jupyter.widget-view+json": {
       "model_id": "02b4311c8b6e443db00ed2f2b8716bfd",
       "version_major": 2,
       "version_minor": 0
      },
      "text/plain": [
       "  0%|          | 0/1000000 [00:00<?, ?it/s]"
      ]
     },
     "metadata": {},
     "output_type": "display_data"
    },
    {
     "name": "stderr",
     "output_type": "stream",
     "text": [
      "/home/whe2/.local/lib/python3.9/site-packages/pgmpy/models/BayesianModel.py:8: FutureWarning: BayesianModel has been renamed to BayesianNetwork. Please use BayesianNetwork class, BayesianModel will be removed in future.\n",
      "  warnings.warn(\n",
      "/home/whe2/.local/lib/python3.9/site-packages/pgmpy/models/BayesianModel.py:8: FutureWarning: BayesianModel has been renamed to BayesianNetwork. Please use BayesianNetwork class, BayesianModel will be removed in future.\n",
      "  warnings.warn(\n"
     ]
    },
    {
     "name": "stdout",
     "output_type": "stream",
     "text": [
      "498\n",
      "Explainer settings\n",
      "\\ A dim:  (156, 156)\n",
      "\\ X dim:  torch.Size([156])\n",
      "\\ Number of layers:  2\n",
      "\\ Perturbation mode:  0\n",
      "\\ Print result:  1\n"
     ]
    },
    {
     "data": {
      "application/vnd.jupyter.widget-view+json": {
       "model_id": "7fd75d104b1b4946b200817efa908405",
       "version_major": 2,
       "version_minor": 0
      },
      "text/plain": [
       "  0%|          | 0/1000000 [00:00<?, ?it/s]"
      ]
     },
     "metadata": {},
     "output_type": "display_data"
    },
    {
     "name": "stderr",
     "output_type": "stream",
     "text": [
      "/home/whe2/.local/lib/python3.9/site-packages/pgmpy/models/BayesianModel.py:8: FutureWarning: BayesianModel has been renamed to BayesianNetwork. Please use BayesianNetwork class, BayesianModel will be removed in future.\n",
      "  warnings.warn(\n",
      "/home/whe2/.local/lib/python3.9/site-packages/pgmpy/models/BayesianModel.py:8: FutureWarning: BayesianModel has been renamed to BayesianNetwork. Please use BayesianNetwork class, BayesianModel will be removed in future.\n",
      "  warnings.warn(\n"
     ]
    },
    {
     "name": "stdout",
     "output_type": "stream",
     "text": [
      "499\n",
      "Explainer settings\n",
      "\\ A dim:  (156, 156)\n",
      "\\ X dim:  torch.Size([156])\n",
      "\\ Number of layers:  2\n",
      "\\ Perturbation mode:  0\n",
      "\\ Print result:  1\n"
     ]
    },
    {
     "data": {
      "application/vnd.jupyter.widget-view+json": {
       "model_id": "9e16cd76258d4743a91a2d6253a4dda1",
       "version_major": 2,
       "version_minor": 0
      },
      "text/plain": [
       "  0%|          | 0/1000000 [00:00<?, ?it/s]"
      ]
     },
     "metadata": {},
     "output_type": "display_data"
    },
    {
     "name": "stderr",
     "output_type": "stream",
     "text": [
      "/home/whe2/.local/lib/python3.9/site-packages/pgmpy/models/BayesianModel.py:8: FutureWarning: BayesianModel has been renamed to BayesianNetwork. Please use BayesianNetwork class, BayesianModel will be removed in future.\n",
      "  warnings.warn(\n",
      "/home/whe2/.local/lib/python3.9/site-packages/pgmpy/models/BayesianModel.py:8: FutureWarning: BayesianModel has been renamed to BayesianNetwork. Please use BayesianNetwork class, BayesianModel will be removed in future.\n",
      "  warnings.warn(\n"
     ]
    },
    {
     "name": "stdout",
     "output_type": "stream",
     "text": [
      "500\n",
      "Explainer settings\n",
      "\\ A dim:  (156, 156)\n",
      "\\ X dim:  torch.Size([156])\n",
      "\\ Number of layers:  2\n",
      "\\ Perturbation mode:  0\n",
      "\\ Print result:  1\n"
     ]
    },
    {
     "data": {
      "application/vnd.jupyter.widget-view+json": {
       "model_id": "c7780aad7d374b8d948d6afed2e58869",
       "version_major": 2,
       "version_minor": 0
      },
      "text/plain": [
       "  0%|          | 0/1000000 [00:00<?, ?it/s]"
      ]
     },
     "metadata": {},
     "output_type": "display_data"
    },
    {
     "name": "stderr",
     "output_type": "stream",
     "text": [
      "/home/whe2/.local/lib/python3.9/site-packages/pgmpy/models/BayesianModel.py:8: FutureWarning: BayesianModel has been renamed to BayesianNetwork. Please use BayesianNetwork class, BayesianModel will be removed in future.\n",
      "  warnings.warn(\n",
      "/home/whe2/.local/lib/python3.9/site-packages/pgmpy/models/BayesianModel.py:8: FutureWarning: BayesianModel has been renamed to BayesianNetwork. Please use BayesianNetwork class, BayesianModel will be removed in future.\n",
      "  warnings.warn(\n"
     ]
    },
    {
     "name": "stdout",
     "output_type": "stream",
     "text": [
      "501\n",
      "Explainer settings\n",
      "\\ A dim:  (156, 156)\n",
      "\\ X dim:  torch.Size([156])\n",
      "\\ Number of layers:  2\n",
      "\\ Perturbation mode:  0\n",
      "\\ Print result:  1\n"
     ]
    },
    {
     "data": {
      "application/vnd.jupyter.widget-view+json": {
       "model_id": "d27ee029f99547c69210447513c8a06f",
       "version_major": 2,
       "version_minor": 0
      },
      "text/plain": [
       "  0%|          | 0/1000000 [00:00<?, ?it/s]"
      ]
     },
     "metadata": {},
     "output_type": "display_data"
    },
    {
     "name": "stderr",
     "output_type": "stream",
     "text": [
      "/home/whe2/.local/lib/python3.9/site-packages/pgmpy/models/BayesianModel.py:8: FutureWarning: BayesianModel has been renamed to BayesianNetwork. Please use BayesianNetwork class, BayesianModel will be removed in future.\n",
      "  warnings.warn(\n",
      "/home/whe2/.local/lib/python3.9/site-packages/pgmpy/models/BayesianModel.py:8: FutureWarning: BayesianModel has been renamed to BayesianNetwork. Please use BayesianNetwork class, BayesianModel will be removed in future.\n",
      "  warnings.warn(\n"
     ]
    },
    {
     "name": "stdout",
     "output_type": "stream",
     "text": [
      "502\n",
      "Explainer settings\n",
      "\\ A dim:  (156, 156)\n",
      "\\ X dim:  torch.Size([156])\n",
      "\\ Number of layers:  2\n",
      "\\ Perturbation mode:  0\n",
      "\\ Print result:  1\n"
     ]
    },
    {
     "data": {
      "application/vnd.jupyter.widget-view+json": {
       "model_id": "3eb5538bf02c4fcdb9735934fcdb5bc7",
       "version_major": 2,
       "version_minor": 0
      },
      "text/plain": [
       "  0%|          | 0/1000000 [00:00<?, ?it/s]"
      ]
     },
     "metadata": {},
     "output_type": "display_data"
    },
    {
     "name": "stderr",
     "output_type": "stream",
     "text": [
      "/home/whe2/.local/lib/python3.9/site-packages/pgmpy/models/BayesianModel.py:8: FutureWarning: BayesianModel has been renamed to BayesianNetwork. Please use BayesianNetwork class, BayesianModel will be removed in future.\n",
      "  warnings.warn(\n",
      "/home/whe2/.local/lib/python3.9/site-packages/pgmpy/models/BayesianModel.py:8: FutureWarning: BayesianModel has been renamed to BayesianNetwork. Please use BayesianNetwork class, BayesianModel will be removed in future.\n",
      "  warnings.warn(\n"
     ]
    },
    {
     "name": "stdout",
     "output_type": "stream",
     "text": [
      "503\n",
      "Explainer settings\n",
      "\\ A dim:  (156, 156)\n",
      "\\ X dim:  torch.Size([156])\n",
      "\\ Number of layers:  2\n",
      "\\ Perturbation mode:  0\n",
      "\\ Print result:  1\n"
     ]
    },
    {
     "data": {
      "application/vnd.jupyter.widget-view+json": {
       "model_id": "7f59e9fadd794531890b7ffc985e59f5",
       "version_major": 2,
       "version_minor": 0
      },
      "text/plain": [
       "  0%|          | 0/1000000 [00:00<?, ?it/s]"
      ]
     },
     "metadata": {},
     "output_type": "display_data"
    },
    {
     "name": "stderr",
     "output_type": "stream",
     "text": [
      "/home/whe2/.local/lib/python3.9/site-packages/pgmpy/models/BayesianModel.py:8: FutureWarning: BayesianModel has been renamed to BayesianNetwork. Please use BayesianNetwork class, BayesianModel will be removed in future.\n",
      "  warnings.warn(\n",
      "/home/whe2/.local/lib/python3.9/site-packages/pgmpy/models/BayesianModel.py:8: FutureWarning: BayesianModel has been renamed to BayesianNetwork. Please use BayesianNetwork class, BayesianModel will be removed in future.\n",
      "  warnings.warn(\n"
     ]
    },
    {
     "name": "stdout",
     "output_type": "stream",
     "text": [
      "504\n",
      "Explainer settings\n",
      "\\ A dim:  (156, 156)\n",
      "\\ X dim:  torch.Size([156])\n",
      "\\ Number of layers:  2\n",
      "\\ Perturbation mode:  0\n",
      "\\ Print result:  1\n"
     ]
    },
    {
     "data": {
      "application/vnd.jupyter.widget-view+json": {
       "model_id": "c54c37b508184b8e8041e03950216a25",
       "version_major": 2,
       "version_minor": 0
      },
      "text/plain": [
       "  0%|          | 0/1000000 [00:00<?, ?it/s]"
      ]
     },
     "metadata": {},
     "output_type": "display_data"
    },
    {
     "name": "stderr",
     "output_type": "stream",
     "text": [
      "/home/whe2/.local/lib/python3.9/site-packages/pgmpy/models/BayesianModel.py:8: FutureWarning: BayesianModel has been renamed to BayesianNetwork. Please use BayesianNetwork class, BayesianModel will be removed in future.\n",
      "  warnings.warn(\n",
      "/home/whe2/.local/lib/python3.9/site-packages/pgmpy/models/BayesianModel.py:8: FutureWarning: BayesianModel has been renamed to BayesianNetwork. Please use BayesianNetwork class, BayesianModel will be removed in future.\n",
      "  warnings.warn(\n"
     ]
    },
    {
     "name": "stdout",
     "output_type": "stream",
     "text": [
      "505\n",
      "Explainer settings\n",
      "\\ A dim:  (156, 156)\n",
      "\\ X dim:  torch.Size([156])\n",
      "\\ Number of layers:  2\n",
      "\\ Perturbation mode:  0\n",
      "\\ Print result:  1\n"
     ]
    },
    {
     "data": {
      "application/vnd.jupyter.widget-view+json": {
       "model_id": "dca06c68b5114d18bae389090e2f36d9",
       "version_major": 2,
       "version_minor": 0
      },
      "text/plain": [
       "  0%|          | 0/1000000 [00:00<?, ?it/s]"
      ]
     },
     "metadata": {},
     "output_type": "display_data"
    },
    {
     "name": "stderr",
     "output_type": "stream",
     "text": [
      "/home/whe2/.local/lib/python3.9/site-packages/pgmpy/models/BayesianModel.py:8: FutureWarning: BayesianModel has been renamed to BayesianNetwork. Please use BayesianNetwork class, BayesianModel will be removed in future.\n",
      "  warnings.warn(\n",
      "/home/whe2/.local/lib/python3.9/site-packages/pgmpy/models/BayesianModel.py:8: FutureWarning: BayesianModel has been renamed to BayesianNetwork. Please use BayesianNetwork class, BayesianModel will be removed in future.\n",
      "  warnings.warn(\n"
     ]
    },
    {
     "name": "stdout",
     "output_type": "stream",
     "text": [
      "506\n",
      "Explainer settings\n",
      "\\ A dim:  (156, 156)\n",
      "\\ X dim:  torch.Size([156])\n",
      "\\ Number of layers:  2\n",
      "\\ Perturbation mode:  0\n",
      "\\ Print result:  1\n"
     ]
    },
    {
     "data": {
      "application/vnd.jupyter.widget-view+json": {
       "model_id": "4fbc6e480eb941ca9f367e50d5042817",
       "version_major": 2,
       "version_minor": 0
      },
      "text/plain": [
       "  0%|          | 0/1000000 [00:00<?, ?it/s]"
      ]
     },
     "metadata": {},
     "output_type": "display_data"
    },
    {
     "name": "stderr",
     "output_type": "stream",
     "text": [
      "/home/whe2/.local/lib/python3.9/site-packages/pgmpy/models/BayesianModel.py:8: FutureWarning: BayesianModel has been renamed to BayesianNetwork. Please use BayesianNetwork class, BayesianModel will be removed in future.\n",
      "  warnings.warn(\n",
      "/home/whe2/.local/lib/python3.9/site-packages/pgmpy/models/BayesianModel.py:8: FutureWarning: BayesianModel has been renamed to BayesianNetwork. Please use BayesianNetwork class, BayesianModel will be removed in future.\n",
      "  warnings.warn(\n"
     ]
    },
    {
     "name": "stdout",
     "output_type": "stream",
     "text": [
      "507\n",
      "Explainer settings\n",
      "\\ A dim:  (156, 156)\n",
      "\\ X dim:  torch.Size([156])\n",
      "\\ Number of layers:  2\n",
      "\\ Perturbation mode:  0\n",
      "\\ Print result:  1\n"
     ]
    },
    {
     "data": {
      "application/vnd.jupyter.widget-view+json": {
       "model_id": "48125c5fd5214f8185141190fee9b48a",
       "version_major": 2,
       "version_minor": 0
      },
      "text/plain": [
       "  0%|          | 0/1000000 [00:00<?, ?it/s]"
      ]
     },
     "metadata": {},
     "output_type": "display_data"
    },
    {
     "name": "stderr",
     "output_type": "stream",
     "text": [
      "/home/whe2/.local/lib/python3.9/site-packages/pgmpy/models/BayesianModel.py:8: FutureWarning: BayesianModel has been renamed to BayesianNetwork. Please use BayesianNetwork class, BayesianModel will be removed in future.\n",
      "  warnings.warn(\n",
      "/home/whe2/.local/lib/python3.9/site-packages/pgmpy/models/BayesianModel.py:8: FutureWarning: BayesianModel has been renamed to BayesianNetwork. Please use BayesianNetwork class, BayesianModel will be removed in future.\n",
      "  warnings.warn(\n"
     ]
    },
    {
     "name": "stdout",
     "output_type": "stream",
     "text": [
      "508\n",
      "Explainer settings\n",
      "\\ A dim:  (156, 156)\n",
      "\\ X dim:  torch.Size([156])\n",
      "\\ Number of layers:  2\n",
      "\\ Perturbation mode:  0\n",
      "\\ Print result:  1\n"
     ]
    },
    {
     "data": {
      "application/vnd.jupyter.widget-view+json": {
       "model_id": "86cc62eb19414d52969a4ea5348a9915",
       "version_major": 2,
       "version_minor": 0
      },
      "text/plain": [
       "  0%|          | 0/1000000 [00:00<?, ?it/s]"
      ]
     },
     "metadata": {},
     "output_type": "display_data"
    },
    {
     "name": "stderr",
     "output_type": "stream",
     "text": [
      "/home/whe2/.local/lib/python3.9/site-packages/pgmpy/models/BayesianModel.py:8: FutureWarning: BayesianModel has been renamed to BayesianNetwork. Please use BayesianNetwork class, BayesianModel will be removed in future.\n",
      "  warnings.warn(\n",
      "/home/whe2/.local/lib/python3.9/site-packages/pgmpy/models/BayesianModel.py:8: FutureWarning: BayesianModel has been renamed to BayesianNetwork. Please use BayesianNetwork class, BayesianModel will be removed in future.\n",
      "  warnings.warn(\n"
     ]
    },
    {
     "name": "stdout",
     "output_type": "stream",
     "text": [
      "509\n",
      "Explainer settings\n",
      "\\ A dim:  (156, 156)\n",
      "\\ X dim:  torch.Size([156])\n",
      "\\ Number of layers:  2\n",
      "\\ Perturbation mode:  0\n",
      "\\ Print result:  1\n"
     ]
    },
    {
     "data": {
      "application/vnd.jupyter.widget-view+json": {
       "model_id": "a9886fc6bf1142b286dd0c29f5219306",
       "version_major": 2,
       "version_minor": 0
      },
      "text/plain": [
       "  0%|          | 0/1000000 [00:00<?, ?it/s]"
      ]
     },
     "metadata": {},
     "output_type": "display_data"
    },
    {
     "name": "stderr",
     "output_type": "stream",
     "text": [
      "/home/whe2/.local/lib/python3.9/site-packages/pgmpy/models/BayesianModel.py:8: FutureWarning: BayesianModel has been renamed to BayesianNetwork. Please use BayesianNetwork class, BayesianModel will be removed in future.\n",
      "  warnings.warn(\n",
      "/home/whe2/.local/lib/python3.9/site-packages/pgmpy/models/BayesianModel.py:8: FutureWarning: BayesianModel has been renamed to BayesianNetwork. Please use BayesianNetwork class, BayesianModel will be removed in future.\n",
      "  warnings.warn(\n"
     ]
    },
    {
     "name": "stdout",
     "output_type": "stream",
     "text": [
      "510\n",
      "Explainer settings\n",
      "\\ A dim:  (156, 156)\n",
      "\\ X dim:  torch.Size([156])\n",
      "\\ Number of layers:  2\n",
      "\\ Perturbation mode:  0\n",
      "\\ Print result:  1\n"
     ]
    },
    {
     "data": {
      "application/vnd.jupyter.widget-view+json": {
       "model_id": "2881ea5907664eb7a9ec4bcd869a5761",
       "version_major": 2,
       "version_minor": 0
      },
      "text/plain": [
       "  0%|          | 0/1000000 [00:00<?, ?it/s]"
      ]
     },
     "metadata": {},
     "output_type": "display_data"
    },
    {
     "name": "stderr",
     "output_type": "stream",
     "text": [
      "/home/whe2/.local/lib/python3.9/site-packages/pgmpy/models/BayesianModel.py:8: FutureWarning: BayesianModel has been renamed to BayesianNetwork. Please use BayesianNetwork class, BayesianModel will be removed in future.\n",
      "  warnings.warn(\n",
      "/home/whe2/.local/lib/python3.9/site-packages/pgmpy/models/BayesianModel.py:8: FutureWarning: BayesianModel has been renamed to BayesianNetwork. Please use BayesianNetwork class, BayesianModel will be removed in future.\n",
      "  warnings.warn(\n"
     ]
    },
    {
     "name": "stdout",
     "output_type": "stream",
     "text": [
      "511\n",
      "Explainer settings\n",
      "\\ A dim:  (156, 156)\n",
      "\\ X dim:  torch.Size([156])\n",
      "\\ Number of layers:  2\n",
      "\\ Perturbation mode:  0\n",
      "\\ Print result:  1\n"
     ]
    },
    {
     "data": {
      "application/vnd.jupyter.widget-view+json": {
       "model_id": "04f2bed93dc94267ad8f045427a80e55",
       "version_major": 2,
       "version_minor": 0
      },
      "text/plain": [
       "  0%|          | 0/1000000 [00:00<?, ?it/s]"
      ]
     },
     "metadata": {},
     "output_type": "display_data"
    },
    {
     "name": "stderr",
     "output_type": "stream",
     "text": [
      "/home/whe2/.local/lib/python3.9/site-packages/pgmpy/models/BayesianModel.py:8: FutureWarning: BayesianModel has been renamed to BayesianNetwork. Please use BayesianNetwork class, BayesianModel will be removed in future.\n",
      "  warnings.warn(\n",
      "/home/whe2/.local/lib/python3.9/site-packages/pgmpy/models/BayesianModel.py:8: FutureWarning: BayesianModel has been renamed to BayesianNetwork. Please use BayesianNetwork class, BayesianModel will be removed in future.\n",
      "  warnings.warn(\n"
     ]
    },
    {
     "name": "stdout",
     "output_type": "stream",
     "text": [
      "512\n",
      "Explainer settings\n",
      "\\ A dim:  (156, 156)\n",
      "\\ X dim:  torch.Size([156])\n",
      "\\ Number of layers:  2\n",
      "\\ Perturbation mode:  0\n",
      "\\ Print result:  1\n"
     ]
    },
    {
     "data": {
      "application/vnd.jupyter.widget-view+json": {
       "model_id": "2924aaa66c2148599162dd1038e6b9b2",
       "version_major": 2,
       "version_minor": 0
      },
      "text/plain": [
       "  0%|          | 0/1000000 [00:00<?, ?it/s]"
      ]
     },
     "metadata": {},
     "output_type": "display_data"
    },
    {
     "name": "stderr",
     "output_type": "stream",
     "text": [
      "/home/whe2/.local/lib/python3.9/site-packages/pgmpy/models/BayesianModel.py:8: FutureWarning: BayesianModel has been renamed to BayesianNetwork. Please use BayesianNetwork class, BayesianModel will be removed in future.\n",
      "  warnings.warn(\n",
      "/home/whe2/.local/lib/python3.9/site-packages/pgmpy/models/BayesianModel.py:8: FutureWarning: BayesianModel has been renamed to BayesianNetwork. Please use BayesianNetwork class, BayesianModel will be removed in future.\n",
      "  warnings.warn(\n"
     ]
    },
    {
     "name": "stdout",
     "output_type": "stream",
     "text": [
      "513\n",
      "Explainer settings\n",
      "\\ A dim:  (156, 156)\n",
      "\\ X dim:  torch.Size([156])\n",
      "\\ Number of layers:  2\n",
      "\\ Perturbation mode:  0\n",
      "\\ Print result:  1\n"
     ]
    },
    {
     "data": {
      "application/vnd.jupyter.widget-view+json": {
       "model_id": "f9fe2882c70946bd80b14615d3151cc8",
       "version_major": 2,
       "version_minor": 0
      },
      "text/plain": [
       "  0%|          | 0/1000000 [00:00<?, ?it/s]"
      ]
     },
     "metadata": {},
     "output_type": "display_data"
    },
    {
     "name": "stderr",
     "output_type": "stream",
     "text": [
      "/home/whe2/.local/lib/python3.9/site-packages/pgmpy/models/BayesianModel.py:8: FutureWarning: BayesianModel has been renamed to BayesianNetwork. Please use BayesianNetwork class, BayesianModel will be removed in future.\n",
      "  warnings.warn(\n",
      "/home/whe2/.local/lib/python3.9/site-packages/pgmpy/models/BayesianModel.py:8: FutureWarning: BayesianModel has been renamed to BayesianNetwork. Please use BayesianNetwork class, BayesianModel will be removed in future.\n",
      "  warnings.warn(\n"
     ]
    },
    {
     "name": "stdout",
     "output_type": "stream",
     "text": [
      "514\n",
      "Explainer settings\n",
      "\\ A dim:  (156, 156)\n",
      "\\ X dim:  torch.Size([156])\n",
      "\\ Number of layers:  2\n",
      "\\ Perturbation mode:  0\n",
      "\\ Print result:  1\n"
     ]
    },
    {
     "data": {
      "application/vnd.jupyter.widget-view+json": {
       "model_id": "6508f3456724465fa178ea32c3a56118",
       "version_major": 2,
       "version_minor": 0
      },
      "text/plain": [
       "  0%|          | 0/1000000 [00:00<?, ?it/s]"
      ]
     },
     "metadata": {},
     "output_type": "display_data"
    },
    {
     "name": "stderr",
     "output_type": "stream",
     "text": [
      "/home/whe2/.local/lib/python3.9/site-packages/pgmpy/models/BayesianModel.py:8: FutureWarning: BayesianModel has been renamed to BayesianNetwork. Please use BayesianNetwork class, BayesianModel will be removed in future.\n",
      "  warnings.warn(\n",
      "/home/whe2/.local/lib/python3.9/site-packages/pgmpy/models/BayesianModel.py:8: FutureWarning: BayesianModel has been renamed to BayesianNetwork. Please use BayesianNetwork class, BayesianModel will be removed in future.\n",
      "  warnings.warn(\n"
     ]
    },
    {
     "name": "stdout",
     "output_type": "stream",
     "text": [
      "515\n",
      "Explainer settings\n",
      "\\ A dim:  (156, 156)\n",
      "\\ X dim:  torch.Size([156])\n",
      "\\ Number of layers:  2\n",
      "\\ Perturbation mode:  0\n",
      "\\ Print result:  1\n"
     ]
    },
    {
     "data": {
      "application/vnd.jupyter.widget-view+json": {
       "model_id": "143413ffba88464b8eaa5da94d3a9875",
       "version_major": 2,
       "version_minor": 0
      },
      "text/plain": [
       "  0%|          | 0/1000000 [00:00<?, ?it/s]"
      ]
     },
     "metadata": {},
     "output_type": "display_data"
    },
    {
     "name": "stderr",
     "output_type": "stream",
     "text": [
      "/home/whe2/.local/lib/python3.9/site-packages/pgmpy/models/BayesianModel.py:8: FutureWarning: BayesianModel has been renamed to BayesianNetwork. Please use BayesianNetwork class, BayesianModel will be removed in future.\n",
      "  warnings.warn(\n",
      "/home/whe2/.local/lib/python3.9/site-packages/pgmpy/models/BayesianModel.py:8: FutureWarning: BayesianModel has been renamed to BayesianNetwork. Please use BayesianNetwork class, BayesianModel will be removed in future.\n",
      "  warnings.warn(\n"
     ]
    },
    {
     "name": "stdout",
     "output_type": "stream",
     "text": [
      "516\n",
      "Explainer settings\n",
      "\\ A dim:  (156, 156)\n",
      "\\ X dim:  torch.Size([156])\n",
      "\\ Number of layers:  2\n",
      "\\ Perturbation mode:  0\n",
      "\\ Print result:  1\n"
     ]
    },
    {
     "data": {
      "application/vnd.jupyter.widget-view+json": {
       "model_id": "8c2c9f0612714995b9f1268389fd10f9",
       "version_major": 2,
       "version_minor": 0
      },
      "text/plain": [
       "  0%|          | 0/1000000 [00:00<?, ?it/s]"
      ]
     },
     "metadata": {},
     "output_type": "display_data"
    },
    {
     "name": "stderr",
     "output_type": "stream",
     "text": [
      "/home/whe2/.local/lib/python3.9/site-packages/pgmpy/models/BayesianModel.py:8: FutureWarning: BayesianModel has been renamed to BayesianNetwork. Please use BayesianNetwork class, BayesianModel will be removed in future.\n",
      "  warnings.warn(\n",
      "/home/whe2/.local/lib/python3.9/site-packages/pgmpy/models/BayesianModel.py:8: FutureWarning: BayesianModel has been renamed to BayesianNetwork. Please use BayesianNetwork class, BayesianModel will be removed in future.\n",
      "  warnings.warn(\n"
     ]
    },
    {
     "name": "stdout",
     "output_type": "stream",
     "text": [
      "517\n",
      "Explainer settings\n",
      "\\ A dim:  (156, 156)\n",
      "\\ X dim:  torch.Size([156])\n",
      "\\ Number of layers:  2\n",
      "\\ Perturbation mode:  0\n",
      "\\ Print result:  1\n"
     ]
    },
    {
     "data": {
      "application/vnd.jupyter.widget-view+json": {
       "model_id": "9f94fdc1b7c94496bc812c02f8fcca3b",
       "version_major": 2,
       "version_minor": 0
      },
      "text/plain": [
       "  0%|          | 0/1000000 [00:00<?, ?it/s]"
      ]
     },
     "metadata": {},
     "output_type": "display_data"
    },
    {
     "name": "stderr",
     "output_type": "stream",
     "text": [
      "/home/whe2/.local/lib/python3.9/site-packages/pgmpy/models/BayesianModel.py:8: FutureWarning: BayesianModel has been renamed to BayesianNetwork. Please use BayesianNetwork class, BayesianModel will be removed in future.\n",
      "  warnings.warn(\n",
      "/home/whe2/.local/lib/python3.9/site-packages/pgmpy/models/BayesianModel.py:8: FutureWarning: BayesianModel has been renamed to BayesianNetwork. Please use BayesianNetwork class, BayesianModel will be removed in future.\n",
      "  warnings.warn(\n"
     ]
    },
    {
     "name": "stdout",
     "output_type": "stream",
     "text": [
      "518\n",
      "Explainer settings\n",
      "\\ A dim:  (156, 156)\n",
      "\\ X dim:  torch.Size([156])\n",
      "\\ Number of layers:  2\n",
      "\\ Perturbation mode:  0\n",
      "\\ Print result:  1\n"
     ]
    },
    {
     "data": {
      "application/vnd.jupyter.widget-view+json": {
       "model_id": "d758ed0f796c471aabac225e92ba827e",
       "version_major": 2,
       "version_minor": 0
      },
      "text/plain": [
       "  0%|          | 0/1000000 [00:00<?, ?it/s]"
      ]
     },
     "metadata": {},
     "output_type": "display_data"
    },
    {
     "name": "stderr",
     "output_type": "stream",
     "text": [
      "/home/whe2/.local/lib/python3.9/site-packages/pgmpy/models/BayesianModel.py:8: FutureWarning: BayesianModel has been renamed to BayesianNetwork. Please use BayesianNetwork class, BayesianModel will be removed in future.\n",
      "  warnings.warn(\n",
      "/home/whe2/.local/lib/python3.9/site-packages/pgmpy/models/BayesianModel.py:8: FutureWarning: BayesianModel has been renamed to BayesianNetwork. Please use BayesianNetwork class, BayesianModel will be removed in future.\n",
      "  warnings.warn(\n"
     ]
    },
    {
     "name": "stdout",
     "output_type": "stream",
     "text": [
      "519\n",
      "Explainer settings\n",
      "\\ A dim:  (156, 156)\n",
      "\\ X dim:  torch.Size([156])\n",
      "\\ Number of layers:  2\n",
      "\\ Perturbation mode:  0\n",
      "\\ Print result:  1\n"
     ]
    },
    {
     "data": {
      "application/vnd.jupyter.widget-view+json": {
       "model_id": "e393e1b9419c445b9d4a7ab3b2dd0e0d",
       "version_major": 2,
       "version_minor": 0
      },
      "text/plain": [
       "  0%|          | 0/1000000 [00:00<?, ?it/s]"
      ]
     },
     "metadata": {},
     "output_type": "display_data"
    },
    {
     "name": "stderr",
     "output_type": "stream",
     "text": [
      "/home/whe2/.local/lib/python3.9/site-packages/pgmpy/models/BayesianModel.py:8: FutureWarning: BayesianModel has been renamed to BayesianNetwork. Please use BayesianNetwork class, BayesianModel will be removed in future.\n",
      "  warnings.warn(\n",
      "/home/whe2/.local/lib/python3.9/site-packages/pgmpy/models/BayesianModel.py:8: FutureWarning: BayesianModel has been renamed to BayesianNetwork. Please use BayesianNetwork class, BayesianModel will be removed in future.\n",
      "  warnings.warn(\n"
     ]
    },
    {
     "name": "stdout",
     "output_type": "stream",
     "text": [
      "520\n",
      "Explainer settings\n",
      "\\ A dim:  (156, 156)\n",
      "\\ X dim:  torch.Size([156])\n",
      "\\ Number of layers:  2\n",
      "\\ Perturbation mode:  0\n",
      "\\ Print result:  1\n"
     ]
    },
    {
     "data": {
      "application/vnd.jupyter.widget-view+json": {
       "model_id": "b168ad6035cd41279ac53e6a68df34cb",
       "version_major": 2,
       "version_minor": 0
      },
      "text/plain": [
       "  0%|          | 0/1000000 [00:00<?, ?it/s]"
      ]
     },
     "metadata": {},
     "output_type": "display_data"
    },
    {
     "name": "stderr",
     "output_type": "stream",
     "text": [
      "/home/whe2/.local/lib/python3.9/site-packages/pgmpy/models/BayesianModel.py:8: FutureWarning: BayesianModel has been renamed to BayesianNetwork. Please use BayesianNetwork class, BayesianModel will be removed in future.\n",
      "  warnings.warn(\n",
      "/home/whe2/.local/lib/python3.9/site-packages/pgmpy/models/BayesianModel.py:8: FutureWarning: BayesianModel has been renamed to BayesianNetwork. Please use BayesianNetwork class, BayesianModel will be removed in future.\n",
      "  warnings.warn(\n"
     ]
    },
    {
     "name": "stdout",
     "output_type": "stream",
     "text": [
      "521\n",
      "Explainer settings\n",
      "\\ A dim:  (156, 156)\n",
      "\\ X dim:  torch.Size([156])\n",
      "\\ Number of layers:  2\n",
      "\\ Perturbation mode:  0\n",
      "\\ Print result:  1\n"
     ]
    },
    {
     "data": {
      "application/vnd.jupyter.widget-view+json": {
       "model_id": "2eddbd740f6d4a55bdaa3a6b8cda49f0",
       "version_major": 2,
       "version_minor": 0
      },
      "text/plain": [
       "  0%|          | 0/1000000 [00:00<?, ?it/s]"
      ]
     },
     "metadata": {},
     "output_type": "display_data"
    },
    {
     "name": "stderr",
     "output_type": "stream",
     "text": [
      "/home/whe2/.local/lib/python3.9/site-packages/pgmpy/models/BayesianModel.py:8: FutureWarning: BayesianModel has been renamed to BayesianNetwork. Please use BayesianNetwork class, BayesianModel will be removed in future.\n",
      "  warnings.warn(\n",
      "/home/whe2/.local/lib/python3.9/site-packages/pgmpy/models/BayesianModel.py:8: FutureWarning: BayesianModel has been renamed to BayesianNetwork. Please use BayesianNetwork class, BayesianModel will be removed in future.\n",
      "  warnings.warn(\n"
     ]
    },
    {
     "name": "stdout",
     "output_type": "stream",
     "text": [
      "522\n",
      "Explainer settings\n",
      "\\ A dim:  (156, 156)\n",
      "\\ X dim:  torch.Size([156])\n",
      "\\ Number of layers:  2\n",
      "\\ Perturbation mode:  0\n",
      "\\ Print result:  1\n"
     ]
    },
    {
     "data": {
      "application/vnd.jupyter.widget-view+json": {
       "model_id": "36eb4fb8f13b4bd4a8b433d4e0c4dae0",
       "version_major": 2,
       "version_minor": 0
      },
      "text/plain": [
       "  0%|          | 0/1000000 [00:00<?, ?it/s]"
      ]
     },
     "metadata": {},
     "output_type": "display_data"
    },
    {
     "name": "stderr",
     "output_type": "stream",
     "text": [
      "/home/whe2/.local/lib/python3.9/site-packages/pgmpy/models/BayesianModel.py:8: FutureWarning: BayesianModel has been renamed to BayesianNetwork. Please use BayesianNetwork class, BayesianModel will be removed in future.\n",
      "  warnings.warn(\n",
      "/home/whe2/.local/lib/python3.9/site-packages/pgmpy/models/BayesianModel.py:8: FutureWarning: BayesianModel has been renamed to BayesianNetwork. Please use BayesianNetwork class, BayesianModel will be removed in future.\n",
      "  warnings.warn(\n"
     ]
    },
    {
     "name": "stdout",
     "output_type": "stream",
     "text": [
      "523\n",
      "Explainer settings\n",
      "\\ A dim:  (156, 156)\n",
      "\\ X dim:  torch.Size([156])\n",
      "\\ Number of layers:  2\n",
      "\\ Perturbation mode:  0\n",
      "\\ Print result:  1\n"
     ]
    },
    {
     "data": {
      "application/vnd.jupyter.widget-view+json": {
       "model_id": "e9ec7b84f08647feb09034beb11e2bce",
       "version_major": 2,
       "version_minor": 0
      },
      "text/plain": [
       "  0%|          | 0/1000000 [00:00<?, ?it/s]"
      ]
     },
     "metadata": {},
     "output_type": "display_data"
    },
    {
     "name": "stderr",
     "output_type": "stream",
     "text": [
      "/home/whe2/.local/lib/python3.9/site-packages/pgmpy/models/BayesianModel.py:8: FutureWarning: BayesianModel has been renamed to BayesianNetwork. Please use BayesianNetwork class, BayesianModel will be removed in future.\n",
      "  warnings.warn(\n",
      "/home/whe2/.local/lib/python3.9/site-packages/pgmpy/models/BayesianModel.py:8: FutureWarning: BayesianModel has been renamed to BayesianNetwork. Please use BayesianNetwork class, BayesianModel will be removed in future.\n",
      "  warnings.warn(\n"
     ]
    },
    {
     "name": "stdout",
     "output_type": "stream",
     "text": [
      "524\n",
      "Explainer settings\n",
      "\\ A dim:  (156, 156)\n",
      "\\ X dim:  torch.Size([156])\n",
      "\\ Number of layers:  2\n",
      "\\ Perturbation mode:  0\n",
      "\\ Print result:  1\n"
     ]
    },
    {
     "data": {
      "application/vnd.jupyter.widget-view+json": {
       "model_id": "e82675ac66bc48a49d0534a13cd9fbdc",
       "version_major": 2,
       "version_minor": 0
      },
      "text/plain": [
       "  0%|          | 0/1000000 [00:00<?, ?it/s]"
      ]
     },
     "metadata": {},
     "output_type": "display_data"
    },
    {
     "name": "stderr",
     "output_type": "stream",
     "text": [
      "/home/whe2/.local/lib/python3.9/site-packages/pgmpy/models/BayesianModel.py:8: FutureWarning: BayesianModel has been renamed to BayesianNetwork. Please use BayesianNetwork class, BayesianModel will be removed in future.\n",
      "  warnings.warn(\n",
      "/home/whe2/.local/lib/python3.9/site-packages/pgmpy/models/BayesianModel.py:8: FutureWarning: BayesianModel has been renamed to BayesianNetwork. Please use BayesianNetwork class, BayesianModel will be removed in future.\n",
      "  warnings.warn(\n"
     ]
    },
    {
     "name": "stdout",
     "output_type": "stream",
     "text": [
      "525\n",
      "Explainer settings\n",
      "\\ A dim:  (156, 156)\n",
      "\\ X dim:  torch.Size([156])\n",
      "\\ Number of layers:  2\n",
      "\\ Perturbation mode:  0\n",
      "\\ Print result:  1\n"
     ]
    },
    {
     "data": {
      "application/vnd.jupyter.widget-view+json": {
       "model_id": "748ec33375124872944c1d810a1d5093",
       "version_major": 2,
       "version_minor": 0
      },
      "text/plain": [
       "  0%|          | 0/1000000 [00:00<?, ?it/s]"
      ]
     },
     "metadata": {},
     "output_type": "display_data"
    },
    {
     "name": "stderr",
     "output_type": "stream",
     "text": [
      "/home/whe2/.local/lib/python3.9/site-packages/pgmpy/models/BayesianModel.py:8: FutureWarning: BayesianModel has been renamed to BayesianNetwork. Please use BayesianNetwork class, BayesianModel will be removed in future.\n",
      "  warnings.warn(\n",
      "/home/whe2/.local/lib/python3.9/site-packages/pgmpy/models/BayesianModel.py:8: FutureWarning: BayesianModel has been renamed to BayesianNetwork. Please use BayesianNetwork class, BayesianModel will be removed in future.\n",
      "  warnings.warn(\n"
     ]
    },
    {
     "name": "stdout",
     "output_type": "stream",
     "text": [
      "526\n",
      "Explainer settings\n",
      "\\ A dim:  (156, 156)\n",
      "\\ X dim:  torch.Size([156])\n",
      "\\ Number of layers:  2\n",
      "\\ Perturbation mode:  0\n",
      "\\ Print result:  1\n"
     ]
    },
    {
     "data": {
      "application/vnd.jupyter.widget-view+json": {
       "model_id": "5600adaaeb574db0b3c3615582ca3383",
       "version_major": 2,
       "version_minor": 0
      },
      "text/plain": [
       "  0%|          | 0/1000000 [00:00<?, ?it/s]"
      ]
     },
     "metadata": {},
     "output_type": "display_data"
    },
    {
     "name": "stderr",
     "output_type": "stream",
     "text": [
      "/home/whe2/.local/lib/python3.9/site-packages/pgmpy/models/BayesianModel.py:8: FutureWarning: BayesianModel has been renamed to BayesianNetwork. Please use BayesianNetwork class, BayesianModel will be removed in future.\n",
      "  warnings.warn(\n",
      "/home/whe2/.local/lib/python3.9/site-packages/pgmpy/models/BayesianModel.py:8: FutureWarning: BayesianModel has been renamed to BayesianNetwork. Please use BayesianNetwork class, BayesianModel will be removed in future.\n",
      "  warnings.warn(\n"
     ]
    },
    {
     "name": "stdout",
     "output_type": "stream",
     "text": [
      "527\n",
      "Explainer settings\n",
      "\\ A dim:  (156, 156)\n",
      "\\ X dim:  torch.Size([156])\n",
      "\\ Number of layers:  2\n",
      "\\ Perturbation mode:  0\n",
      "\\ Print result:  1\n"
     ]
    },
    {
     "data": {
      "application/vnd.jupyter.widget-view+json": {
       "model_id": "97a5207572ec4b26a1e2af2041a437f8",
       "version_major": 2,
       "version_minor": 0
      },
      "text/plain": [
       "  0%|          | 0/1000000 [00:00<?, ?it/s]"
      ]
     },
     "metadata": {},
     "output_type": "display_data"
    },
    {
     "name": "stderr",
     "output_type": "stream",
     "text": [
      "/home/whe2/.local/lib/python3.9/site-packages/pgmpy/models/BayesianModel.py:8: FutureWarning: BayesianModel has been renamed to BayesianNetwork. Please use BayesianNetwork class, BayesianModel will be removed in future.\n",
      "  warnings.warn(\n",
      "/home/whe2/.local/lib/python3.9/site-packages/pgmpy/models/BayesianModel.py:8: FutureWarning: BayesianModel has been renamed to BayesianNetwork. Please use BayesianNetwork class, BayesianModel will be removed in future.\n",
      "  warnings.warn(\n"
     ]
    },
    {
     "name": "stdout",
     "output_type": "stream",
     "text": [
      "528\n",
      "Explainer settings\n",
      "\\ A dim:  (156, 156)\n",
      "\\ X dim:  torch.Size([156])\n",
      "\\ Number of layers:  2\n",
      "\\ Perturbation mode:  0\n",
      "\\ Print result:  1\n"
     ]
    },
    {
     "data": {
      "application/vnd.jupyter.widget-view+json": {
       "model_id": "2d802e642d1249adbad50abd0dfed0e7",
       "version_major": 2,
       "version_minor": 0
      },
      "text/plain": [
       "  0%|          | 0/1000000 [00:00<?, ?it/s]"
      ]
     },
     "metadata": {},
     "output_type": "display_data"
    },
    {
     "name": "stderr",
     "output_type": "stream",
     "text": [
      "/home/whe2/.local/lib/python3.9/site-packages/pgmpy/models/BayesianModel.py:8: FutureWarning: BayesianModel has been renamed to BayesianNetwork. Please use BayesianNetwork class, BayesianModel will be removed in future.\n",
      "  warnings.warn(\n",
      "/home/whe2/.local/lib/python3.9/site-packages/pgmpy/models/BayesianModel.py:8: FutureWarning: BayesianModel has been renamed to BayesianNetwork. Please use BayesianNetwork class, BayesianModel will be removed in future.\n",
      "  warnings.warn(\n"
     ]
    },
    {
     "name": "stdout",
     "output_type": "stream",
     "text": [
      "529\n",
      "Explainer settings\n",
      "\\ A dim:  (156, 156)\n",
      "\\ X dim:  torch.Size([156])\n",
      "\\ Number of layers:  2\n",
      "\\ Perturbation mode:  0\n",
      "\\ Print result:  1\n"
     ]
    },
    {
     "data": {
      "application/vnd.jupyter.widget-view+json": {
       "model_id": "8f234b5d8ae0448f8ed9ffab17f32b70",
       "version_major": 2,
       "version_minor": 0
      },
      "text/plain": [
       "  0%|          | 0/1000000 [00:00<?, ?it/s]"
      ]
     },
     "metadata": {},
     "output_type": "display_data"
    },
    {
     "name": "stderr",
     "output_type": "stream",
     "text": [
      "/home/whe2/.local/lib/python3.9/site-packages/pgmpy/models/BayesianModel.py:8: FutureWarning: BayesianModel has been renamed to BayesianNetwork. Please use BayesianNetwork class, BayesianModel will be removed in future.\n",
      "  warnings.warn(\n",
      "/home/whe2/.local/lib/python3.9/site-packages/pgmpy/models/BayesianModel.py:8: FutureWarning: BayesianModel has been renamed to BayesianNetwork. Please use BayesianNetwork class, BayesianModel will be removed in future.\n",
      "  warnings.warn(\n"
     ]
    },
    {
     "name": "stdout",
     "output_type": "stream",
     "text": [
      "530\n",
      "Explainer settings\n",
      "\\ A dim:  (156, 156)\n",
      "\\ X dim:  torch.Size([156])\n",
      "\\ Number of layers:  2\n",
      "\\ Perturbation mode:  0\n",
      "\\ Print result:  1\n"
     ]
    },
    {
     "data": {
      "application/vnd.jupyter.widget-view+json": {
       "model_id": "3449d64b85f045eb9ec92caf4dd00f63",
       "version_major": 2,
       "version_minor": 0
      },
      "text/plain": [
       "  0%|          | 0/1000000 [00:00<?, ?it/s]"
      ]
     },
     "metadata": {},
     "output_type": "display_data"
    },
    {
     "name": "stderr",
     "output_type": "stream",
     "text": [
      "/home/whe2/.local/lib/python3.9/site-packages/pgmpy/models/BayesianModel.py:8: FutureWarning: BayesianModel has been renamed to BayesianNetwork. Please use BayesianNetwork class, BayesianModel will be removed in future.\n",
      "  warnings.warn(\n",
      "/home/whe2/.local/lib/python3.9/site-packages/pgmpy/models/BayesianModel.py:8: FutureWarning: BayesianModel has been renamed to BayesianNetwork. Please use BayesianNetwork class, BayesianModel will be removed in future.\n",
      "  warnings.warn(\n"
     ]
    },
    {
     "name": "stdout",
     "output_type": "stream",
     "text": [
      "531\n",
      "Explainer settings\n",
      "\\ A dim:  (156, 156)\n",
      "\\ X dim:  torch.Size([156])\n",
      "\\ Number of layers:  2\n",
      "\\ Perturbation mode:  0\n",
      "\\ Print result:  1\n"
     ]
    },
    {
     "data": {
      "application/vnd.jupyter.widget-view+json": {
       "model_id": "65d2abbc01c145aead994a680759c6d5",
       "version_major": 2,
       "version_minor": 0
      },
      "text/plain": [
       "  0%|          | 0/1000000 [00:00<?, ?it/s]"
      ]
     },
     "metadata": {},
     "output_type": "display_data"
    },
    {
     "name": "stderr",
     "output_type": "stream",
     "text": [
      "/home/whe2/.local/lib/python3.9/site-packages/pgmpy/models/BayesianModel.py:8: FutureWarning: BayesianModel has been renamed to BayesianNetwork. Please use BayesianNetwork class, BayesianModel will be removed in future.\n",
      "  warnings.warn(\n",
      "/home/whe2/.local/lib/python3.9/site-packages/pgmpy/models/BayesianModel.py:8: FutureWarning: BayesianModel has been renamed to BayesianNetwork. Please use BayesianNetwork class, BayesianModel will be removed in future.\n",
      "  warnings.warn(\n"
     ]
    },
    {
     "name": "stdout",
     "output_type": "stream",
     "text": [
      "532\n",
      "Explainer settings\n",
      "\\ A dim:  (156, 156)\n",
      "\\ X dim:  torch.Size([156])\n",
      "\\ Number of layers:  2\n",
      "\\ Perturbation mode:  0\n",
      "\\ Print result:  1\n"
     ]
    },
    {
     "data": {
      "application/vnd.jupyter.widget-view+json": {
       "model_id": "5084d601da85433694822d5c83fc128f",
       "version_major": 2,
       "version_minor": 0
      },
      "text/plain": [
       "  0%|          | 0/1000000 [00:00<?, ?it/s]"
      ]
     },
     "metadata": {},
     "output_type": "display_data"
    },
    {
     "name": "stderr",
     "output_type": "stream",
     "text": [
      "/home/whe2/.local/lib/python3.9/site-packages/pgmpy/models/BayesianModel.py:8: FutureWarning: BayesianModel has been renamed to BayesianNetwork. Please use BayesianNetwork class, BayesianModel will be removed in future.\n",
      "  warnings.warn(\n",
      "/home/whe2/.local/lib/python3.9/site-packages/pgmpy/models/BayesianModel.py:8: FutureWarning: BayesianModel has been renamed to BayesianNetwork. Please use BayesianNetwork class, BayesianModel will be removed in future.\n",
      "  warnings.warn(\n"
     ]
    },
    {
     "name": "stdout",
     "output_type": "stream",
     "text": [
      "533\n",
      "Explainer settings\n",
      "\\ A dim:  (156, 156)\n",
      "\\ X dim:  torch.Size([156])\n",
      "\\ Number of layers:  2\n",
      "\\ Perturbation mode:  0\n",
      "\\ Print result:  1\n"
     ]
    },
    {
     "data": {
      "application/vnd.jupyter.widget-view+json": {
       "model_id": "4fa6a991cd0c45e5964d65bb4f12c5f1",
       "version_major": 2,
       "version_minor": 0
      },
      "text/plain": [
       "  0%|          | 0/1000000 [00:00<?, ?it/s]"
      ]
     },
     "metadata": {},
     "output_type": "display_data"
    },
    {
     "name": "stderr",
     "output_type": "stream",
     "text": [
      "/home/whe2/.local/lib/python3.9/site-packages/pgmpy/models/BayesianModel.py:8: FutureWarning: BayesianModel has been renamed to BayesianNetwork. Please use BayesianNetwork class, BayesianModel will be removed in future.\n",
      "  warnings.warn(\n",
      "/home/whe2/.local/lib/python3.9/site-packages/pgmpy/models/BayesianModel.py:8: FutureWarning: BayesianModel has been renamed to BayesianNetwork. Please use BayesianNetwork class, BayesianModel will be removed in future.\n",
      "  warnings.warn(\n"
     ]
    },
    {
     "name": "stdout",
     "output_type": "stream",
     "text": [
      "534\n",
      "Explainer settings\n",
      "\\ A dim:  (156, 156)\n",
      "\\ X dim:  torch.Size([156])\n",
      "\\ Number of layers:  2\n",
      "\\ Perturbation mode:  0\n",
      "\\ Print result:  1\n"
     ]
    },
    {
     "data": {
      "application/vnd.jupyter.widget-view+json": {
       "model_id": "8bfb979671554681b7ff4ac33feba5a0",
       "version_major": 2,
       "version_minor": 0
      },
      "text/plain": [
       "  0%|          | 0/1000000 [00:00<?, ?it/s]"
      ]
     },
     "metadata": {},
     "output_type": "display_data"
    },
    {
     "name": "stderr",
     "output_type": "stream",
     "text": [
      "/home/whe2/.local/lib/python3.9/site-packages/pgmpy/models/BayesianModel.py:8: FutureWarning: BayesianModel has been renamed to BayesianNetwork. Please use BayesianNetwork class, BayesianModel will be removed in future.\n",
      "  warnings.warn(\n",
      "/home/whe2/.local/lib/python3.9/site-packages/pgmpy/models/BayesianModel.py:8: FutureWarning: BayesianModel has been renamed to BayesianNetwork. Please use BayesianNetwork class, BayesianModel will be removed in future.\n",
      "  warnings.warn(\n"
     ]
    },
    {
     "name": "stdout",
     "output_type": "stream",
     "text": [
      "535\n",
      "Explainer settings\n",
      "\\ A dim:  (156, 156)\n",
      "\\ X dim:  torch.Size([156])\n",
      "\\ Number of layers:  2\n",
      "\\ Perturbation mode:  0\n",
      "\\ Print result:  1\n"
     ]
    },
    {
     "data": {
      "application/vnd.jupyter.widget-view+json": {
       "model_id": "eedc3372176949cfaba5b0f3286367ec",
       "version_major": 2,
       "version_minor": 0
      },
      "text/plain": [
       "  0%|          | 0/1000000 [00:00<?, ?it/s]"
      ]
     },
     "metadata": {},
     "output_type": "display_data"
    },
    {
     "name": "stderr",
     "output_type": "stream",
     "text": [
      "/home/whe2/.local/lib/python3.9/site-packages/pgmpy/models/BayesianModel.py:8: FutureWarning: BayesianModel has been renamed to BayesianNetwork. Please use BayesianNetwork class, BayesianModel will be removed in future.\n",
      "  warnings.warn(\n",
      "/home/whe2/.local/lib/python3.9/site-packages/pgmpy/models/BayesianModel.py:8: FutureWarning: BayesianModel has been renamed to BayesianNetwork. Please use BayesianNetwork class, BayesianModel will be removed in future.\n",
      "  warnings.warn(\n"
     ]
    },
    {
     "name": "stdout",
     "output_type": "stream",
     "text": [
      "536\n",
      "Explainer settings\n",
      "\\ A dim:  (156, 156)\n",
      "\\ X dim:  torch.Size([156])\n",
      "\\ Number of layers:  2\n",
      "\\ Perturbation mode:  0\n",
      "\\ Print result:  1\n"
     ]
    },
    {
     "data": {
      "application/vnd.jupyter.widget-view+json": {
       "model_id": "d77f8adf46a843e0896641450212badb",
       "version_major": 2,
       "version_minor": 0
      },
      "text/plain": [
       "  0%|          | 0/1000000 [00:00<?, ?it/s]"
      ]
     },
     "metadata": {},
     "output_type": "display_data"
    },
    {
     "name": "stderr",
     "output_type": "stream",
     "text": [
      "/home/whe2/.local/lib/python3.9/site-packages/pgmpy/models/BayesianModel.py:8: FutureWarning: BayesianModel has been renamed to BayesianNetwork. Please use BayesianNetwork class, BayesianModel will be removed in future.\n",
      "  warnings.warn(\n",
      "/home/whe2/.local/lib/python3.9/site-packages/pgmpy/models/BayesianModel.py:8: FutureWarning: BayesianModel has been renamed to BayesianNetwork. Please use BayesianNetwork class, BayesianModel will be removed in future.\n",
      "  warnings.warn(\n"
     ]
    },
    {
     "name": "stdout",
     "output_type": "stream",
     "text": [
      "537\n",
      "Explainer settings\n",
      "\\ A dim:  (156, 156)\n",
      "\\ X dim:  torch.Size([156])\n",
      "\\ Number of layers:  2\n",
      "\\ Perturbation mode:  0\n",
      "\\ Print result:  1\n"
     ]
    },
    {
     "data": {
      "application/vnd.jupyter.widget-view+json": {
       "model_id": "ed0d8f74e28a4cb5905996f12f8bf4ef",
       "version_major": 2,
       "version_minor": 0
      },
      "text/plain": [
       "  0%|          | 0/1000000 [00:00<?, ?it/s]"
      ]
     },
     "metadata": {},
     "output_type": "display_data"
    },
    {
     "name": "stderr",
     "output_type": "stream",
     "text": [
      "/home/whe2/.local/lib/python3.9/site-packages/pgmpy/models/BayesianModel.py:8: FutureWarning: BayesianModel has been renamed to BayesianNetwork. Please use BayesianNetwork class, BayesianModel will be removed in future.\n",
      "  warnings.warn(\n",
      "/home/whe2/.local/lib/python3.9/site-packages/pgmpy/models/BayesianModel.py:8: FutureWarning: BayesianModel has been renamed to BayesianNetwork. Please use BayesianNetwork class, BayesianModel will be removed in future.\n",
      "  warnings.warn(\n"
     ]
    },
    {
     "name": "stdout",
     "output_type": "stream",
     "text": [
      "538\n",
      "Explainer settings\n",
      "\\ A dim:  (156, 156)\n",
      "\\ X dim:  torch.Size([156])\n",
      "\\ Number of layers:  2\n",
      "\\ Perturbation mode:  0\n",
      "\\ Print result:  1\n"
     ]
    },
    {
     "data": {
      "application/vnd.jupyter.widget-view+json": {
       "model_id": "3cda8d3b42304fd9b6cb0ff7d7709041",
       "version_major": 2,
       "version_minor": 0
      },
      "text/plain": [
       "  0%|          | 0/1000000 [00:00<?, ?it/s]"
      ]
     },
     "metadata": {},
     "output_type": "display_data"
    },
    {
     "name": "stderr",
     "output_type": "stream",
     "text": [
      "/home/whe2/.local/lib/python3.9/site-packages/pgmpy/models/BayesianModel.py:8: FutureWarning: BayesianModel has been renamed to BayesianNetwork. Please use BayesianNetwork class, BayesianModel will be removed in future.\n",
      "  warnings.warn(\n",
      "/home/whe2/.local/lib/python3.9/site-packages/pgmpy/models/BayesianModel.py:8: FutureWarning: BayesianModel has been renamed to BayesianNetwork. Please use BayesianNetwork class, BayesianModel will be removed in future.\n",
      "  warnings.warn(\n"
     ]
    },
    {
     "name": "stdout",
     "output_type": "stream",
     "text": [
      "539\n",
      "Explainer settings\n",
      "\\ A dim:  (156, 156)\n",
      "\\ X dim:  torch.Size([156])\n",
      "\\ Number of layers:  2\n",
      "\\ Perturbation mode:  0\n",
      "\\ Print result:  1\n"
     ]
    },
    {
     "data": {
      "application/vnd.jupyter.widget-view+json": {
       "model_id": "b7ed7002cd074de7a9632abd489b96fb",
       "version_major": 2,
       "version_minor": 0
      },
      "text/plain": [
       "  0%|          | 0/1000000 [00:00<?, ?it/s]"
      ]
     },
     "metadata": {},
     "output_type": "display_data"
    },
    {
     "name": "stderr",
     "output_type": "stream",
     "text": [
      "/home/whe2/.local/lib/python3.9/site-packages/pgmpy/models/BayesianModel.py:8: FutureWarning: BayesianModel has been renamed to BayesianNetwork. Please use BayesianNetwork class, BayesianModel will be removed in future.\n",
      "  warnings.warn(\n",
      "/home/whe2/.local/lib/python3.9/site-packages/pgmpy/models/BayesianModel.py:8: FutureWarning: BayesianModel has been renamed to BayesianNetwork. Please use BayesianNetwork class, BayesianModel will be removed in future.\n",
      "  warnings.warn(\n"
     ]
    },
    {
     "name": "stdout",
     "output_type": "stream",
     "text": [
      "540\n",
      "Explainer settings\n",
      "\\ A dim:  (156, 156)\n",
      "\\ X dim:  torch.Size([156])\n",
      "\\ Number of layers:  2\n",
      "\\ Perturbation mode:  0\n",
      "\\ Print result:  1\n"
     ]
    },
    {
     "data": {
      "application/vnd.jupyter.widget-view+json": {
       "model_id": "b6fb4605d4ce40e5a1e31bc54ed54746",
       "version_major": 2,
       "version_minor": 0
      },
      "text/plain": [
       "  0%|          | 0/1000000 [00:00<?, ?it/s]"
      ]
     },
     "metadata": {},
     "output_type": "display_data"
    },
    {
     "name": "stderr",
     "output_type": "stream",
     "text": [
      "/home/whe2/.local/lib/python3.9/site-packages/pgmpy/models/BayesianModel.py:8: FutureWarning: BayesianModel has been renamed to BayesianNetwork. Please use BayesianNetwork class, BayesianModel will be removed in future.\n",
      "  warnings.warn(\n",
      "/home/whe2/.local/lib/python3.9/site-packages/pgmpy/models/BayesianModel.py:8: FutureWarning: BayesianModel has been renamed to BayesianNetwork. Please use BayesianNetwork class, BayesianModel will be removed in future.\n",
      "  warnings.warn(\n"
     ]
    },
    {
     "name": "stdout",
     "output_type": "stream",
     "text": [
      "541\n",
      "Explainer settings\n",
      "\\ A dim:  (156, 156)\n",
      "\\ X dim:  torch.Size([156])\n",
      "\\ Number of layers:  2\n",
      "\\ Perturbation mode:  0\n",
      "\\ Print result:  1\n"
     ]
    },
    {
     "data": {
      "application/vnd.jupyter.widget-view+json": {
       "model_id": "ea022ec67313480ab3a52119653514e6",
       "version_major": 2,
       "version_minor": 0
      },
      "text/plain": [
       "  0%|          | 0/1000000 [00:00<?, ?it/s]"
      ]
     },
     "metadata": {},
     "output_type": "display_data"
    },
    {
     "name": "stderr",
     "output_type": "stream",
     "text": [
      "/home/whe2/.local/lib/python3.9/site-packages/pgmpy/models/BayesianModel.py:8: FutureWarning: BayesianModel has been renamed to BayesianNetwork. Please use BayesianNetwork class, BayesianModel will be removed in future.\n",
      "  warnings.warn(\n",
      "/home/whe2/.local/lib/python3.9/site-packages/pgmpy/models/BayesianModel.py:8: FutureWarning: BayesianModel has been renamed to BayesianNetwork. Please use BayesianNetwork class, BayesianModel will be removed in future.\n",
      "  warnings.warn(\n"
     ]
    },
    {
     "name": "stdout",
     "output_type": "stream",
     "text": [
      "542\n",
      "Explainer settings\n",
      "\\ A dim:  (156, 156)\n",
      "\\ X dim:  torch.Size([156])\n",
      "\\ Number of layers:  2\n",
      "\\ Perturbation mode:  0\n",
      "\\ Print result:  1\n"
     ]
    },
    {
     "data": {
      "application/vnd.jupyter.widget-view+json": {
       "model_id": "517e7e20ce554ebf8586df7fd064e899",
       "version_major": 2,
       "version_minor": 0
      },
      "text/plain": [
       "  0%|          | 0/1000000 [00:00<?, ?it/s]"
      ]
     },
     "metadata": {},
     "output_type": "display_data"
    },
    {
     "name": "stderr",
     "output_type": "stream",
     "text": [
      "/home/whe2/.local/lib/python3.9/site-packages/pgmpy/models/BayesianModel.py:8: FutureWarning: BayesianModel has been renamed to BayesianNetwork. Please use BayesianNetwork class, BayesianModel will be removed in future.\n",
      "  warnings.warn(\n",
      "/home/whe2/.local/lib/python3.9/site-packages/pgmpy/models/BayesianModel.py:8: FutureWarning: BayesianModel has been renamed to BayesianNetwork. Please use BayesianNetwork class, BayesianModel will be removed in future.\n",
      "  warnings.warn(\n"
     ]
    },
    {
     "name": "stdout",
     "output_type": "stream",
     "text": [
      "543\n",
      "Explainer settings\n",
      "\\ A dim:  (156, 156)\n",
      "\\ X dim:  torch.Size([156])\n",
      "\\ Number of layers:  2\n",
      "\\ Perturbation mode:  0\n",
      "\\ Print result:  1\n"
     ]
    },
    {
     "data": {
      "application/vnd.jupyter.widget-view+json": {
       "model_id": "cedada1b27524e539fbf311ad2ba839a",
       "version_major": 2,
       "version_minor": 0
      },
      "text/plain": [
       "  0%|          | 0/1000000 [00:00<?, ?it/s]"
      ]
     },
     "metadata": {},
     "output_type": "display_data"
    },
    {
     "name": "stderr",
     "output_type": "stream",
     "text": [
      "/home/whe2/.local/lib/python3.9/site-packages/pgmpy/models/BayesianModel.py:8: FutureWarning: BayesianModel has been renamed to BayesianNetwork. Please use BayesianNetwork class, BayesianModel will be removed in future.\n",
      "  warnings.warn(\n",
      "/home/whe2/.local/lib/python3.9/site-packages/pgmpy/models/BayesianModel.py:8: FutureWarning: BayesianModel has been renamed to BayesianNetwork. Please use BayesianNetwork class, BayesianModel will be removed in future.\n",
      "  warnings.warn(\n"
     ]
    },
    {
     "name": "stdout",
     "output_type": "stream",
     "text": [
      "544\n",
      "Explainer settings\n",
      "\\ A dim:  (156, 156)\n",
      "\\ X dim:  torch.Size([156])\n",
      "\\ Number of layers:  2\n",
      "\\ Perturbation mode:  0\n",
      "\\ Print result:  1\n"
     ]
    },
    {
     "data": {
      "application/vnd.jupyter.widget-view+json": {
       "model_id": "7df39e4692d9439680a7df336a324445",
       "version_major": 2,
       "version_minor": 0
      },
      "text/plain": [
       "  0%|          | 0/1000000 [00:00<?, ?it/s]"
      ]
     },
     "metadata": {},
     "output_type": "display_data"
    },
    {
     "name": "stderr",
     "output_type": "stream",
     "text": [
      "/home/whe2/.local/lib/python3.9/site-packages/pgmpy/models/BayesianModel.py:8: FutureWarning: BayesianModel has been renamed to BayesianNetwork. Please use BayesianNetwork class, BayesianModel will be removed in future.\n",
      "  warnings.warn(\n",
      "/home/whe2/.local/lib/python3.9/site-packages/pgmpy/models/BayesianModel.py:8: FutureWarning: BayesianModel has been renamed to BayesianNetwork. Please use BayesianNetwork class, BayesianModel will be removed in future.\n",
      "  warnings.warn(\n"
     ]
    },
    {
     "name": "stdout",
     "output_type": "stream",
     "text": [
      "545\n",
      "Explainer settings\n",
      "\\ A dim:  (156, 156)\n",
      "\\ X dim:  torch.Size([156])\n",
      "\\ Number of layers:  2\n",
      "\\ Perturbation mode:  0\n",
      "\\ Print result:  1\n"
     ]
    },
    {
     "data": {
      "application/vnd.jupyter.widget-view+json": {
       "model_id": "866c8bdac0684eb6b8db9174d67fe0fd",
       "version_major": 2,
       "version_minor": 0
      },
      "text/plain": [
       "  0%|          | 0/1000000 [00:00<?, ?it/s]"
      ]
     },
     "metadata": {},
     "output_type": "display_data"
    },
    {
     "name": "stderr",
     "output_type": "stream",
     "text": [
      "/home/whe2/.local/lib/python3.9/site-packages/pgmpy/models/BayesianModel.py:8: FutureWarning: BayesianModel has been renamed to BayesianNetwork. Please use BayesianNetwork class, BayesianModel will be removed in future.\n",
      "  warnings.warn(\n",
      "/home/whe2/.local/lib/python3.9/site-packages/pgmpy/models/BayesianModel.py:8: FutureWarning: BayesianModel has been renamed to BayesianNetwork. Please use BayesianNetwork class, BayesianModel will be removed in future.\n",
      "  warnings.warn(\n"
     ]
    },
    {
     "name": "stdout",
     "output_type": "stream",
     "text": [
      "546\n",
      "Explainer settings\n",
      "\\ A dim:  (156, 156)\n",
      "\\ X dim:  torch.Size([156])\n",
      "\\ Number of layers:  2\n",
      "\\ Perturbation mode:  0\n",
      "\\ Print result:  1\n"
     ]
    },
    {
     "data": {
      "application/vnd.jupyter.widget-view+json": {
       "model_id": "9abe8f0bd2974acbbbd89c93018ae6ce",
       "version_major": 2,
       "version_minor": 0
      },
      "text/plain": [
       "  0%|          | 0/1000000 [00:00<?, ?it/s]"
      ]
     },
     "metadata": {},
     "output_type": "display_data"
    },
    {
     "name": "stderr",
     "output_type": "stream",
     "text": [
      "/home/whe2/.local/lib/python3.9/site-packages/pgmpy/models/BayesianModel.py:8: FutureWarning: BayesianModel has been renamed to BayesianNetwork. Please use BayesianNetwork class, BayesianModel will be removed in future.\n",
      "  warnings.warn(\n",
      "/home/whe2/.local/lib/python3.9/site-packages/pgmpy/models/BayesianModel.py:8: FutureWarning: BayesianModel has been renamed to BayesianNetwork. Please use BayesianNetwork class, BayesianModel will be removed in future.\n",
      "  warnings.warn(\n"
     ]
    },
    {
     "name": "stdout",
     "output_type": "stream",
     "text": [
      "547\n",
      "Explainer settings\n",
      "\\ A dim:  (156, 156)\n",
      "\\ X dim:  torch.Size([156])\n",
      "\\ Number of layers:  2\n",
      "\\ Perturbation mode:  0\n",
      "\\ Print result:  1\n"
     ]
    },
    {
     "data": {
      "application/vnd.jupyter.widget-view+json": {
       "model_id": "95dad7ce65dd49d683db8676d1cefcde",
       "version_major": 2,
       "version_minor": 0
      },
      "text/plain": [
       "  0%|          | 0/1000000 [00:00<?, ?it/s]"
      ]
     },
     "metadata": {},
     "output_type": "display_data"
    },
    {
     "name": "stderr",
     "output_type": "stream",
     "text": [
      "/home/whe2/.local/lib/python3.9/site-packages/pgmpy/models/BayesianModel.py:8: FutureWarning: BayesianModel has been renamed to BayesianNetwork. Please use BayesianNetwork class, BayesianModel will be removed in future.\n",
      "  warnings.warn(\n",
      "/home/whe2/.local/lib/python3.9/site-packages/pgmpy/models/BayesianModel.py:8: FutureWarning: BayesianModel has been renamed to BayesianNetwork. Please use BayesianNetwork class, BayesianModel will be removed in future.\n",
      "  warnings.warn(\n"
     ]
    },
    {
     "name": "stdout",
     "output_type": "stream",
     "text": [
      "548\n",
      "Explainer settings\n",
      "\\ A dim:  (156, 156)\n",
      "\\ X dim:  torch.Size([156])\n",
      "\\ Number of layers:  2\n",
      "\\ Perturbation mode:  0\n",
      "\\ Print result:  1\n"
     ]
    },
    {
     "data": {
      "application/vnd.jupyter.widget-view+json": {
       "model_id": "3a074a92884040d989625d9cf70e1a27",
       "version_major": 2,
       "version_minor": 0
      },
      "text/plain": [
       "  0%|          | 0/1000000 [00:00<?, ?it/s]"
      ]
     },
     "metadata": {},
     "output_type": "display_data"
    },
    {
     "name": "stderr",
     "output_type": "stream",
     "text": [
      "/home/whe2/.local/lib/python3.9/site-packages/pgmpy/models/BayesianModel.py:8: FutureWarning: BayesianModel has been renamed to BayesianNetwork. Please use BayesianNetwork class, BayesianModel will be removed in future.\n",
      "  warnings.warn(\n",
      "/home/whe2/.local/lib/python3.9/site-packages/pgmpy/models/BayesianModel.py:8: FutureWarning: BayesianModel has been renamed to BayesianNetwork. Please use BayesianNetwork class, BayesianModel will be removed in future.\n",
      "  warnings.warn(\n"
     ]
    },
    {
     "name": "stdout",
     "output_type": "stream",
     "text": [
      "549\n",
      "Explainer settings\n",
      "\\ A dim:  (156, 156)\n",
      "\\ X dim:  torch.Size([156])\n",
      "\\ Number of layers:  2\n",
      "\\ Perturbation mode:  0\n",
      "\\ Print result:  1\n"
     ]
    },
    {
     "data": {
      "application/vnd.jupyter.widget-view+json": {
       "model_id": "a64f1fcde12a4e7fb28186648d56e3b2",
       "version_major": 2,
       "version_minor": 0
      },
      "text/plain": [
       "  0%|          | 0/1000000 [00:00<?, ?it/s]"
      ]
     },
     "metadata": {},
     "output_type": "display_data"
    },
    {
     "name": "stderr",
     "output_type": "stream",
     "text": [
      "/home/whe2/.local/lib/python3.9/site-packages/pgmpy/models/BayesianModel.py:8: FutureWarning: BayesianModel has been renamed to BayesianNetwork. Please use BayesianNetwork class, BayesianModel will be removed in future.\n",
      "  warnings.warn(\n",
      "/home/whe2/.local/lib/python3.9/site-packages/pgmpy/models/BayesianModel.py:8: FutureWarning: BayesianModel has been renamed to BayesianNetwork. Please use BayesianNetwork class, BayesianModel will be removed in future.\n",
      "  warnings.warn(\n"
     ]
    },
    {
     "name": "stdout",
     "output_type": "stream",
     "text": [
      "550\n",
      "Explainer settings\n",
      "\\ A dim:  (156, 156)\n",
      "\\ X dim:  torch.Size([156])\n",
      "\\ Number of layers:  2\n",
      "\\ Perturbation mode:  0\n",
      "\\ Print result:  1\n"
     ]
    },
    {
     "data": {
      "application/vnd.jupyter.widget-view+json": {
       "model_id": "aaca60dc7dcc4a5ca17c0fe34aa195fe",
       "version_major": 2,
       "version_minor": 0
      },
      "text/plain": [
       "  0%|          | 0/1000000 [00:00<?, ?it/s]"
      ]
     },
     "metadata": {},
     "output_type": "display_data"
    },
    {
     "name": "stderr",
     "output_type": "stream",
     "text": [
      "/home/whe2/.local/lib/python3.9/site-packages/pgmpy/models/BayesianModel.py:8: FutureWarning: BayesianModel has been renamed to BayesianNetwork. Please use BayesianNetwork class, BayesianModel will be removed in future.\n",
      "  warnings.warn(\n",
      "/home/whe2/.local/lib/python3.9/site-packages/pgmpy/models/BayesianModel.py:8: FutureWarning: BayesianModel has been renamed to BayesianNetwork. Please use BayesianNetwork class, BayesianModel will be removed in future.\n",
      "  warnings.warn(\n"
     ]
    },
    {
     "name": "stdout",
     "output_type": "stream",
     "text": [
      "551\n",
      "Explainer settings\n",
      "\\ A dim:  (156, 156)\n",
      "\\ X dim:  torch.Size([156])\n",
      "\\ Number of layers:  2\n",
      "\\ Perturbation mode:  0\n",
      "\\ Print result:  1\n"
     ]
    },
    {
     "data": {
      "application/vnd.jupyter.widget-view+json": {
       "model_id": "b64603e41db94dc4ad9f8c339875e1f3",
       "version_major": 2,
       "version_minor": 0
      },
      "text/plain": [
       "  0%|          | 0/1000000 [00:00<?, ?it/s]"
      ]
     },
     "metadata": {},
     "output_type": "display_data"
    },
    {
     "name": "stderr",
     "output_type": "stream",
     "text": [
      "/home/whe2/.local/lib/python3.9/site-packages/pgmpy/models/BayesianModel.py:8: FutureWarning: BayesianModel has been renamed to BayesianNetwork. Please use BayesianNetwork class, BayesianModel will be removed in future.\n",
      "  warnings.warn(\n",
      "/home/whe2/.local/lib/python3.9/site-packages/pgmpy/models/BayesianModel.py:8: FutureWarning: BayesianModel has been renamed to BayesianNetwork. Please use BayesianNetwork class, BayesianModel will be removed in future.\n",
      "  warnings.warn(\n"
     ]
    },
    {
     "name": "stdout",
     "output_type": "stream",
     "text": [
      "552\n",
      "Explainer settings\n",
      "\\ A dim:  (156, 156)\n",
      "\\ X dim:  torch.Size([156])\n",
      "\\ Number of layers:  2\n",
      "\\ Perturbation mode:  0\n",
      "\\ Print result:  1\n"
     ]
    },
    {
     "data": {
      "application/vnd.jupyter.widget-view+json": {
       "model_id": "9c4a22425418453c9545fe29af96f1af",
       "version_major": 2,
       "version_minor": 0
      },
      "text/plain": [
       "  0%|          | 0/1000000 [00:00<?, ?it/s]"
      ]
     },
     "metadata": {},
     "output_type": "display_data"
    },
    {
     "name": "stderr",
     "output_type": "stream",
     "text": [
      "/home/whe2/.local/lib/python3.9/site-packages/pgmpy/models/BayesianModel.py:8: FutureWarning: BayesianModel has been renamed to BayesianNetwork. Please use BayesianNetwork class, BayesianModel will be removed in future.\n",
      "  warnings.warn(\n",
      "/home/whe2/.local/lib/python3.9/site-packages/pgmpy/models/BayesianModel.py:8: FutureWarning: BayesianModel has been renamed to BayesianNetwork. Please use BayesianNetwork class, BayesianModel will be removed in future.\n",
      "  warnings.warn(\n"
     ]
    },
    {
     "name": "stdout",
     "output_type": "stream",
     "text": [
      "553\n",
      "Explainer settings\n",
      "\\ A dim:  (156, 156)\n",
      "\\ X dim:  torch.Size([156])\n",
      "\\ Number of layers:  2\n",
      "\\ Perturbation mode:  0\n",
      "\\ Print result:  1\n"
     ]
    },
    {
     "data": {
      "application/vnd.jupyter.widget-view+json": {
       "model_id": "f77dd73891e54231b14b655d7546ce98",
       "version_major": 2,
       "version_minor": 0
      },
      "text/plain": [
       "  0%|          | 0/1000000 [00:00<?, ?it/s]"
      ]
     },
     "metadata": {},
     "output_type": "display_data"
    },
    {
     "name": "stderr",
     "output_type": "stream",
     "text": [
      "/home/whe2/.local/lib/python3.9/site-packages/pgmpy/models/BayesianModel.py:8: FutureWarning: BayesianModel has been renamed to BayesianNetwork. Please use BayesianNetwork class, BayesianModel will be removed in future.\n",
      "  warnings.warn(\n",
      "/home/whe2/.local/lib/python3.9/site-packages/pgmpy/models/BayesianModel.py:8: FutureWarning: BayesianModel has been renamed to BayesianNetwork. Please use BayesianNetwork class, BayesianModel will be removed in future.\n",
      "  warnings.warn(\n"
     ]
    },
    {
     "name": "stdout",
     "output_type": "stream",
     "text": [
      "554\n",
      "Explainer settings\n",
      "\\ A dim:  (156, 156)\n",
      "\\ X dim:  torch.Size([156])\n",
      "\\ Number of layers:  2\n",
      "\\ Perturbation mode:  0\n",
      "\\ Print result:  1\n"
     ]
    },
    {
     "data": {
      "application/vnd.jupyter.widget-view+json": {
       "model_id": "45e4bc92ac624e6e8a11605a0ca8158e",
       "version_major": 2,
       "version_minor": 0
      },
      "text/plain": [
       "  0%|          | 0/1000000 [00:00<?, ?it/s]"
      ]
     },
     "metadata": {},
     "output_type": "display_data"
    },
    {
     "name": "stderr",
     "output_type": "stream",
     "text": [
      "/home/whe2/.local/lib/python3.9/site-packages/pgmpy/models/BayesianModel.py:8: FutureWarning: BayesianModel has been renamed to BayesianNetwork. Please use BayesianNetwork class, BayesianModel will be removed in future.\n",
      "  warnings.warn(\n",
      "/home/whe2/.local/lib/python3.9/site-packages/pgmpy/models/BayesianModel.py:8: FutureWarning: BayesianModel has been renamed to BayesianNetwork. Please use BayesianNetwork class, BayesianModel will be removed in future.\n",
      "  warnings.warn(\n"
     ]
    },
    {
     "name": "stdout",
     "output_type": "stream",
     "text": [
      "555\n",
      "Explainer settings\n",
      "\\ A dim:  (156, 156)\n",
      "\\ X dim:  torch.Size([156])\n",
      "\\ Number of layers:  2\n",
      "\\ Perturbation mode:  0\n",
      "\\ Print result:  1\n"
     ]
    },
    {
     "data": {
      "application/vnd.jupyter.widget-view+json": {
       "model_id": "9401e848323245e78c14209d7e5d0f7f",
       "version_major": 2,
       "version_minor": 0
      },
      "text/plain": [
       "  0%|          | 0/1000000 [00:00<?, ?it/s]"
      ]
     },
     "metadata": {},
     "output_type": "display_data"
    },
    {
     "name": "stderr",
     "output_type": "stream",
     "text": [
      "/home/whe2/.local/lib/python3.9/site-packages/pgmpy/models/BayesianModel.py:8: FutureWarning: BayesianModel has been renamed to BayesianNetwork. Please use BayesianNetwork class, BayesianModel will be removed in future.\n",
      "  warnings.warn(\n",
      "/home/whe2/.local/lib/python3.9/site-packages/pgmpy/models/BayesianModel.py:8: FutureWarning: BayesianModel has been renamed to BayesianNetwork. Please use BayesianNetwork class, BayesianModel will be removed in future.\n",
      "  warnings.warn(\n"
     ]
    },
    {
     "name": "stdout",
     "output_type": "stream",
     "text": [
      "556\n",
      "Explainer settings\n",
      "\\ A dim:  (156, 156)\n",
      "\\ X dim:  torch.Size([156])\n",
      "\\ Number of layers:  2\n",
      "\\ Perturbation mode:  0\n",
      "\\ Print result:  1\n"
     ]
    },
    {
     "data": {
      "application/vnd.jupyter.widget-view+json": {
       "model_id": "1195abf40e414dcfa058ebb8a1751267",
       "version_major": 2,
       "version_minor": 0
      },
      "text/plain": [
       "  0%|          | 0/1000000 [00:00<?, ?it/s]"
      ]
     },
     "metadata": {},
     "output_type": "display_data"
    },
    {
     "name": "stderr",
     "output_type": "stream",
     "text": [
      "/home/whe2/.local/lib/python3.9/site-packages/pgmpy/models/BayesianModel.py:8: FutureWarning: BayesianModel has been renamed to BayesianNetwork. Please use BayesianNetwork class, BayesianModel will be removed in future.\n",
      "  warnings.warn(\n",
      "/home/whe2/.local/lib/python3.9/site-packages/pgmpy/models/BayesianModel.py:8: FutureWarning: BayesianModel has been renamed to BayesianNetwork. Please use BayesianNetwork class, BayesianModel will be removed in future.\n",
      "  warnings.warn(\n"
     ]
    },
    {
     "name": "stdout",
     "output_type": "stream",
     "text": [
      "557\n",
      "Explainer settings\n",
      "\\ A dim:  (156, 156)\n",
      "\\ X dim:  torch.Size([156])\n",
      "\\ Number of layers:  2\n",
      "\\ Perturbation mode:  0\n",
      "\\ Print result:  1\n"
     ]
    },
    {
     "data": {
      "application/vnd.jupyter.widget-view+json": {
       "model_id": "e0aceab3b4534efaaf1aff947ca8185d",
       "version_major": 2,
       "version_minor": 0
      },
      "text/plain": [
       "  0%|          | 0/1000000 [00:00<?, ?it/s]"
      ]
     },
     "metadata": {},
     "output_type": "display_data"
    },
    {
     "name": "stderr",
     "output_type": "stream",
     "text": [
      "/home/whe2/.local/lib/python3.9/site-packages/pgmpy/models/BayesianModel.py:8: FutureWarning: BayesianModel has been renamed to BayesianNetwork. Please use BayesianNetwork class, BayesianModel will be removed in future.\n",
      "  warnings.warn(\n",
      "/home/whe2/.local/lib/python3.9/site-packages/pgmpy/models/BayesianModel.py:8: FutureWarning: BayesianModel has been renamed to BayesianNetwork. Please use BayesianNetwork class, BayesianModel will be removed in future.\n",
      "  warnings.warn(\n"
     ]
    },
    {
     "name": "stdout",
     "output_type": "stream",
     "text": [
      "558\n",
      "Explainer settings\n",
      "\\ A dim:  (156, 156)\n",
      "\\ X dim:  torch.Size([156])\n",
      "\\ Number of layers:  2\n",
      "\\ Perturbation mode:  0\n",
      "\\ Print result:  1\n"
     ]
    },
    {
     "data": {
      "application/vnd.jupyter.widget-view+json": {
       "model_id": "6333d7f17ee942eaa4736d1068cc8720",
       "version_major": 2,
       "version_minor": 0
      },
      "text/plain": [
       "  0%|          | 0/1000000 [00:00<?, ?it/s]"
      ]
     },
     "metadata": {},
     "output_type": "display_data"
    },
    {
     "name": "stderr",
     "output_type": "stream",
     "text": [
      "/home/whe2/.local/lib/python3.9/site-packages/pgmpy/models/BayesianModel.py:8: FutureWarning: BayesianModel has been renamed to BayesianNetwork. Please use BayesianNetwork class, BayesianModel will be removed in future.\n",
      "  warnings.warn(\n",
      "/home/whe2/.local/lib/python3.9/site-packages/pgmpy/models/BayesianModel.py:8: FutureWarning: BayesianModel has been renamed to BayesianNetwork. Please use BayesianNetwork class, BayesianModel will be removed in future.\n",
      "  warnings.warn(\n"
     ]
    },
    {
     "name": "stdout",
     "output_type": "stream",
     "text": [
      "559\n",
      "Explainer settings\n",
      "\\ A dim:  (156, 156)\n",
      "\\ X dim:  torch.Size([156])\n",
      "\\ Number of layers:  2\n",
      "\\ Perturbation mode:  0\n",
      "\\ Print result:  1\n"
     ]
    },
    {
     "data": {
      "application/vnd.jupyter.widget-view+json": {
       "model_id": "ee7b8c8fc8114080bfd5434a3dc1b1b9",
       "version_major": 2,
       "version_minor": 0
      },
      "text/plain": [
       "  0%|          | 0/1000000 [00:00<?, ?it/s]"
      ]
     },
     "metadata": {},
     "output_type": "display_data"
    },
    {
     "name": "stderr",
     "output_type": "stream",
     "text": [
      "/home/whe2/.local/lib/python3.9/site-packages/pgmpy/models/BayesianModel.py:8: FutureWarning: BayesianModel has been renamed to BayesianNetwork. Please use BayesianNetwork class, BayesianModel will be removed in future.\n",
      "  warnings.warn(\n",
      "/home/whe2/.local/lib/python3.9/site-packages/pgmpy/models/BayesianModel.py:8: FutureWarning: BayesianModel has been renamed to BayesianNetwork. Please use BayesianNetwork class, BayesianModel will be removed in future.\n",
      "  warnings.warn(\n"
     ]
    },
    {
     "name": "stdout",
     "output_type": "stream",
     "text": [
      "560\n",
      "Explainer settings\n",
      "\\ A dim:  (156, 156)\n",
      "\\ X dim:  torch.Size([156])\n",
      "\\ Number of layers:  2\n",
      "\\ Perturbation mode:  0\n",
      "\\ Print result:  1\n"
     ]
    },
    {
     "data": {
      "application/vnd.jupyter.widget-view+json": {
       "model_id": "3fef1593877a4b9ea90a1ec718599d7a",
       "version_major": 2,
       "version_minor": 0
      },
      "text/plain": [
       "  0%|          | 0/1000000 [00:00<?, ?it/s]"
      ]
     },
     "metadata": {},
     "output_type": "display_data"
    },
    {
     "name": "stderr",
     "output_type": "stream",
     "text": [
      "/home/whe2/.local/lib/python3.9/site-packages/pgmpy/models/BayesianModel.py:8: FutureWarning: BayesianModel has been renamed to BayesianNetwork. Please use BayesianNetwork class, BayesianModel will be removed in future.\n",
      "  warnings.warn(\n",
      "/home/whe2/.local/lib/python3.9/site-packages/pgmpy/models/BayesianModel.py:8: FutureWarning: BayesianModel has been renamed to BayesianNetwork. Please use BayesianNetwork class, BayesianModel will be removed in future.\n",
      "  warnings.warn(\n"
     ]
    },
    {
     "name": "stdout",
     "output_type": "stream",
     "text": [
      "561\n",
      "Explainer settings\n",
      "\\ A dim:  (156, 156)\n",
      "\\ X dim:  torch.Size([156])\n",
      "\\ Number of layers:  2\n",
      "\\ Perturbation mode:  0\n",
      "\\ Print result:  1\n"
     ]
    },
    {
     "data": {
      "application/vnd.jupyter.widget-view+json": {
       "model_id": "1588dd65218f4919b9696c570db9468c",
       "version_major": 2,
       "version_minor": 0
      },
      "text/plain": [
       "  0%|          | 0/1000000 [00:00<?, ?it/s]"
      ]
     },
     "metadata": {},
     "output_type": "display_data"
    },
    {
     "name": "stderr",
     "output_type": "stream",
     "text": [
      "/home/whe2/.local/lib/python3.9/site-packages/pgmpy/models/BayesianModel.py:8: FutureWarning: BayesianModel has been renamed to BayesianNetwork. Please use BayesianNetwork class, BayesianModel will be removed in future.\n",
      "  warnings.warn(\n",
      "/home/whe2/.local/lib/python3.9/site-packages/pgmpy/models/BayesianModel.py:8: FutureWarning: BayesianModel has been renamed to BayesianNetwork. Please use BayesianNetwork class, BayesianModel will be removed in future.\n",
      "  warnings.warn(\n"
     ]
    },
    {
     "name": "stdout",
     "output_type": "stream",
     "text": [
      "562\n",
      "Explainer settings\n",
      "\\ A dim:  (156, 156)\n",
      "\\ X dim:  torch.Size([156])\n",
      "\\ Number of layers:  2\n",
      "\\ Perturbation mode:  0\n",
      "\\ Print result:  1\n"
     ]
    },
    {
     "data": {
      "application/vnd.jupyter.widget-view+json": {
       "model_id": "c2d1d81198dd42eca0264426a21be6d5",
       "version_major": 2,
       "version_minor": 0
      },
      "text/plain": [
       "  0%|          | 0/1000000 [00:00<?, ?it/s]"
      ]
     },
     "metadata": {},
     "output_type": "display_data"
    },
    {
     "name": "stderr",
     "output_type": "stream",
     "text": [
      "/home/whe2/.local/lib/python3.9/site-packages/pgmpy/models/BayesianModel.py:8: FutureWarning: BayesianModel has been renamed to BayesianNetwork. Please use BayesianNetwork class, BayesianModel will be removed in future.\n",
      "  warnings.warn(\n",
      "/home/whe2/.local/lib/python3.9/site-packages/pgmpy/models/BayesianModel.py:8: FutureWarning: BayesianModel has been renamed to BayesianNetwork. Please use BayesianNetwork class, BayesianModel will be removed in future.\n",
      "  warnings.warn(\n"
     ]
    },
    {
     "name": "stdout",
     "output_type": "stream",
     "text": [
      "563\n",
      "Explainer settings\n",
      "\\ A dim:  (156, 156)\n",
      "\\ X dim:  torch.Size([156])\n",
      "\\ Number of layers:  2\n",
      "\\ Perturbation mode:  0\n",
      "\\ Print result:  1\n"
     ]
    },
    {
     "data": {
      "application/vnd.jupyter.widget-view+json": {
       "model_id": "b3681883edff4770a0a4477e029896f8",
       "version_major": 2,
       "version_minor": 0
      },
      "text/plain": [
       "  0%|          | 0/1000000 [00:00<?, ?it/s]"
      ]
     },
     "metadata": {},
     "output_type": "display_data"
    },
    {
     "name": "stderr",
     "output_type": "stream",
     "text": [
      "/home/whe2/.local/lib/python3.9/site-packages/pgmpy/models/BayesianModel.py:8: FutureWarning: BayesianModel has been renamed to BayesianNetwork. Please use BayesianNetwork class, BayesianModel will be removed in future.\n",
      "  warnings.warn(\n",
      "/home/whe2/.local/lib/python3.9/site-packages/pgmpy/models/BayesianModel.py:8: FutureWarning: BayesianModel has been renamed to BayesianNetwork. Please use BayesianNetwork class, BayesianModel will be removed in future.\n",
      "  warnings.warn(\n"
     ]
    },
    {
     "name": "stdout",
     "output_type": "stream",
     "text": [
      "564\n",
      "Explainer settings\n",
      "\\ A dim:  (156, 156)\n",
      "\\ X dim:  torch.Size([156])\n",
      "\\ Number of layers:  2\n",
      "\\ Perturbation mode:  0\n",
      "\\ Print result:  1\n"
     ]
    },
    {
     "data": {
      "application/vnd.jupyter.widget-view+json": {
       "model_id": "07767896ef04452b9d4398fb7554d922",
       "version_major": 2,
       "version_minor": 0
      },
      "text/plain": [
       "  0%|          | 0/1000000 [00:00<?, ?it/s]"
      ]
     },
     "metadata": {},
     "output_type": "display_data"
    },
    {
     "name": "stderr",
     "output_type": "stream",
     "text": [
      "/home/whe2/.local/lib/python3.9/site-packages/pgmpy/models/BayesianModel.py:8: FutureWarning: BayesianModel has been renamed to BayesianNetwork. Please use BayesianNetwork class, BayesianModel will be removed in future.\n",
      "  warnings.warn(\n",
      "/home/whe2/.local/lib/python3.9/site-packages/pgmpy/models/BayesianModel.py:8: FutureWarning: BayesianModel has been renamed to BayesianNetwork. Please use BayesianNetwork class, BayesianModel will be removed in future.\n",
      "  warnings.warn(\n"
     ]
    },
    {
     "name": "stdout",
     "output_type": "stream",
     "text": [
      "565\n",
      "Explainer settings\n",
      "\\ A dim:  (156, 156)\n",
      "\\ X dim:  torch.Size([156])\n",
      "\\ Number of layers:  2\n",
      "\\ Perturbation mode:  0\n",
      "\\ Print result:  1\n"
     ]
    },
    {
     "data": {
      "application/vnd.jupyter.widget-view+json": {
       "model_id": "1752090c5d414a578d13ba85208c68ab",
       "version_major": 2,
       "version_minor": 0
      },
      "text/plain": [
       "  0%|          | 0/1000000 [00:00<?, ?it/s]"
      ]
     },
     "metadata": {},
     "output_type": "display_data"
    },
    {
     "name": "stderr",
     "output_type": "stream",
     "text": [
      "/home/whe2/.local/lib/python3.9/site-packages/pgmpy/models/BayesianModel.py:8: FutureWarning: BayesianModel has been renamed to BayesianNetwork. Please use BayesianNetwork class, BayesianModel will be removed in future.\n",
      "  warnings.warn(\n",
      "/home/whe2/.local/lib/python3.9/site-packages/pgmpy/models/BayesianModel.py:8: FutureWarning: BayesianModel has been renamed to BayesianNetwork. Please use BayesianNetwork class, BayesianModel will be removed in future.\n",
      "  warnings.warn(\n"
     ]
    },
    {
     "name": "stdout",
     "output_type": "stream",
     "text": [
      "566\n",
      "Explainer settings\n",
      "\\ A dim:  (156, 156)\n",
      "\\ X dim:  torch.Size([156])\n",
      "\\ Number of layers:  2\n",
      "\\ Perturbation mode:  0\n",
      "\\ Print result:  1\n"
     ]
    },
    {
     "data": {
      "application/vnd.jupyter.widget-view+json": {
       "model_id": "4d9b26cc86a94bc88c9b69ebae4156d0",
       "version_major": 2,
       "version_minor": 0
      },
      "text/plain": [
       "  0%|          | 0/1000000 [00:00<?, ?it/s]"
      ]
     },
     "metadata": {},
     "output_type": "display_data"
    },
    {
     "name": "stderr",
     "output_type": "stream",
     "text": [
      "/home/whe2/.local/lib/python3.9/site-packages/pgmpy/models/BayesianModel.py:8: FutureWarning: BayesianModel has been renamed to BayesianNetwork. Please use BayesianNetwork class, BayesianModel will be removed in future.\n",
      "  warnings.warn(\n",
      "/home/whe2/.local/lib/python3.9/site-packages/pgmpy/models/BayesianModel.py:8: FutureWarning: BayesianModel has been renamed to BayesianNetwork. Please use BayesianNetwork class, BayesianModel will be removed in future.\n",
      "  warnings.warn(\n"
     ]
    },
    {
     "name": "stdout",
     "output_type": "stream",
     "text": [
      "567\n",
      "Explainer settings\n",
      "\\ A dim:  (156, 156)\n",
      "\\ X dim:  torch.Size([156])\n",
      "\\ Number of layers:  2\n",
      "\\ Perturbation mode:  0\n",
      "\\ Print result:  1\n"
     ]
    },
    {
     "data": {
      "application/vnd.jupyter.widget-view+json": {
       "model_id": "dc07fa286292436984b2e58094c10e0a",
       "version_major": 2,
       "version_minor": 0
      },
      "text/plain": [
       "  0%|          | 0/1000000 [00:00<?, ?it/s]"
      ]
     },
     "metadata": {},
     "output_type": "display_data"
    },
    {
     "name": "stderr",
     "output_type": "stream",
     "text": [
      "/home/whe2/.local/lib/python3.9/site-packages/pgmpy/models/BayesianModel.py:8: FutureWarning: BayesianModel has been renamed to BayesianNetwork. Please use BayesianNetwork class, BayesianModel will be removed in future.\n",
      "  warnings.warn(\n",
      "/home/whe2/.local/lib/python3.9/site-packages/pgmpy/models/BayesianModel.py:8: FutureWarning: BayesianModel has been renamed to BayesianNetwork. Please use BayesianNetwork class, BayesianModel will be removed in future.\n",
      "  warnings.warn(\n"
     ]
    },
    {
     "name": "stdout",
     "output_type": "stream",
     "text": [
      "568\n",
      "Explainer settings\n",
      "\\ A dim:  (156, 156)\n",
      "\\ X dim:  torch.Size([156])\n",
      "\\ Number of layers:  2\n",
      "\\ Perturbation mode:  0\n",
      "\\ Print result:  1\n"
     ]
    },
    {
     "data": {
      "application/vnd.jupyter.widget-view+json": {
       "model_id": "6a34a01377fe4fff8c241ee1837a52cf",
       "version_major": 2,
       "version_minor": 0
      },
      "text/plain": [
       "  0%|          | 0/1000000 [00:00<?, ?it/s]"
      ]
     },
     "metadata": {},
     "output_type": "display_data"
    },
    {
     "name": "stderr",
     "output_type": "stream",
     "text": [
      "/home/whe2/.local/lib/python3.9/site-packages/pgmpy/models/BayesianModel.py:8: FutureWarning: BayesianModel has been renamed to BayesianNetwork. Please use BayesianNetwork class, BayesianModel will be removed in future.\n",
      "  warnings.warn(\n",
      "/home/whe2/.local/lib/python3.9/site-packages/pgmpy/models/BayesianModel.py:8: FutureWarning: BayesianModel has been renamed to BayesianNetwork. Please use BayesianNetwork class, BayesianModel will be removed in future.\n",
      "  warnings.warn(\n"
     ]
    },
    {
     "name": "stdout",
     "output_type": "stream",
     "text": [
      "569\n",
      "Explainer settings\n",
      "\\ A dim:  (156, 156)\n",
      "\\ X dim:  torch.Size([156])\n",
      "\\ Number of layers:  2\n",
      "\\ Perturbation mode:  0\n",
      "\\ Print result:  1\n"
     ]
    },
    {
     "data": {
      "application/vnd.jupyter.widget-view+json": {
       "model_id": "2498afb76c7a48068a986545d4ff6758",
       "version_major": 2,
       "version_minor": 0
      },
      "text/plain": [
       "  0%|          | 0/1000000 [00:00<?, ?it/s]"
      ]
     },
     "metadata": {},
     "output_type": "display_data"
    },
    {
     "name": "stderr",
     "output_type": "stream",
     "text": [
      "/home/whe2/.local/lib/python3.9/site-packages/pgmpy/models/BayesianModel.py:8: FutureWarning: BayesianModel has been renamed to BayesianNetwork. Please use BayesianNetwork class, BayesianModel will be removed in future.\n",
      "  warnings.warn(\n",
      "/home/whe2/.local/lib/python3.9/site-packages/pgmpy/models/BayesianModel.py:8: FutureWarning: BayesianModel has been renamed to BayesianNetwork. Please use BayesianNetwork class, BayesianModel will be removed in future.\n",
      "  warnings.warn(\n"
     ]
    },
    {
     "name": "stdout",
     "output_type": "stream",
     "text": [
      "570\n",
      "Explainer settings\n",
      "\\ A dim:  (156, 156)\n",
      "\\ X dim:  torch.Size([156])\n",
      "\\ Number of layers:  2\n",
      "\\ Perturbation mode:  0\n",
      "\\ Print result:  1\n"
     ]
    },
    {
     "data": {
      "application/vnd.jupyter.widget-view+json": {
       "model_id": "9082ae1b9d0c405494c70ca8f64cb4f2",
       "version_major": 2,
       "version_minor": 0
      },
      "text/plain": [
       "  0%|          | 0/1000000 [00:00<?, ?it/s]"
      ]
     },
     "metadata": {},
     "output_type": "display_data"
    },
    {
     "name": "stderr",
     "output_type": "stream",
     "text": [
      "/home/whe2/.local/lib/python3.9/site-packages/pgmpy/models/BayesianModel.py:8: FutureWarning: BayesianModel has been renamed to BayesianNetwork. Please use BayesianNetwork class, BayesianModel will be removed in future.\n",
      "  warnings.warn(\n",
      "/home/whe2/.local/lib/python3.9/site-packages/pgmpy/models/BayesianModel.py:8: FutureWarning: BayesianModel has been renamed to BayesianNetwork. Please use BayesianNetwork class, BayesianModel will be removed in future.\n",
      "  warnings.warn(\n"
     ]
    },
    {
     "name": "stdout",
     "output_type": "stream",
     "text": [
      "571\n",
      "Explainer settings\n",
      "\\ A dim:  (156, 156)\n",
      "\\ X dim:  torch.Size([156])\n",
      "\\ Number of layers:  2\n",
      "\\ Perturbation mode:  0\n",
      "\\ Print result:  1\n"
     ]
    },
    {
     "data": {
      "application/vnd.jupyter.widget-view+json": {
       "model_id": "2ac7837094364d03baad0917ff47e107",
       "version_major": 2,
       "version_minor": 0
      },
      "text/plain": [
       "  0%|          | 0/1000000 [00:00<?, ?it/s]"
      ]
     },
     "metadata": {},
     "output_type": "display_data"
    },
    {
     "name": "stderr",
     "output_type": "stream",
     "text": [
      "/home/whe2/.local/lib/python3.9/site-packages/pgmpy/models/BayesianModel.py:8: FutureWarning: BayesianModel has been renamed to BayesianNetwork. Please use BayesianNetwork class, BayesianModel will be removed in future.\n",
      "  warnings.warn(\n",
      "/home/whe2/.local/lib/python3.9/site-packages/pgmpy/models/BayesianModel.py:8: FutureWarning: BayesianModel has been renamed to BayesianNetwork. Please use BayesianNetwork class, BayesianModel will be removed in future.\n",
      "  warnings.warn(\n"
     ]
    },
    {
     "name": "stdout",
     "output_type": "stream",
     "text": [
      "572\n",
      "Explainer settings\n",
      "\\ A dim:  (156, 156)\n",
      "\\ X dim:  torch.Size([156])\n",
      "\\ Number of layers:  2\n",
      "\\ Perturbation mode:  0\n",
      "\\ Print result:  1\n"
     ]
    },
    {
     "data": {
      "application/vnd.jupyter.widget-view+json": {
       "model_id": "1cc9c0ff9a22475d8c5155ba4afd8f10",
       "version_major": 2,
       "version_minor": 0
      },
      "text/plain": [
       "  0%|          | 0/1000000 [00:00<?, ?it/s]"
      ]
     },
     "metadata": {},
     "output_type": "display_data"
    },
    {
     "name": "stderr",
     "output_type": "stream",
     "text": [
      "/home/whe2/.local/lib/python3.9/site-packages/pgmpy/models/BayesianModel.py:8: FutureWarning: BayesianModel has been renamed to BayesianNetwork. Please use BayesianNetwork class, BayesianModel will be removed in future.\n",
      "  warnings.warn(\n",
      "/home/whe2/.local/lib/python3.9/site-packages/pgmpy/models/BayesianModel.py:8: FutureWarning: BayesianModel has been renamed to BayesianNetwork. Please use BayesianNetwork class, BayesianModel will be removed in future.\n",
      "  warnings.warn(\n"
     ]
    },
    {
     "name": "stdout",
     "output_type": "stream",
     "text": [
      "573\n",
      "Explainer settings\n",
      "\\ A dim:  (156, 156)\n",
      "\\ X dim:  torch.Size([156])\n",
      "\\ Number of layers:  2\n",
      "\\ Perturbation mode:  0\n",
      "\\ Print result:  1\n"
     ]
    },
    {
     "data": {
      "application/vnd.jupyter.widget-view+json": {
       "model_id": "5794ea6b670848b8afe94d9759e9f0ef",
       "version_major": 2,
       "version_minor": 0
      },
      "text/plain": [
       "  0%|          | 0/1000000 [00:00<?, ?it/s]"
      ]
     },
     "metadata": {},
     "output_type": "display_data"
    },
    {
     "name": "stderr",
     "output_type": "stream",
     "text": [
      "/home/whe2/.local/lib/python3.9/site-packages/pgmpy/models/BayesianModel.py:8: FutureWarning: BayesianModel has been renamed to BayesianNetwork. Please use BayesianNetwork class, BayesianModel will be removed in future.\n",
      "  warnings.warn(\n",
      "/home/whe2/.local/lib/python3.9/site-packages/pgmpy/models/BayesianModel.py:8: FutureWarning: BayesianModel has been renamed to BayesianNetwork. Please use BayesianNetwork class, BayesianModel will be removed in future.\n",
      "  warnings.warn(\n"
     ]
    },
    {
     "name": "stdout",
     "output_type": "stream",
     "text": [
      "574\n",
      "Explainer settings\n",
      "\\ A dim:  (156, 156)\n",
      "\\ X dim:  torch.Size([156])\n",
      "\\ Number of layers:  2\n",
      "\\ Perturbation mode:  0\n",
      "\\ Print result:  1\n"
     ]
    },
    {
     "data": {
      "application/vnd.jupyter.widget-view+json": {
       "model_id": "a5ab61ff26c14510af68716fc3139fbd",
       "version_major": 2,
       "version_minor": 0
      },
      "text/plain": [
       "  0%|          | 0/1000000 [00:00<?, ?it/s]"
      ]
     },
     "metadata": {},
     "output_type": "display_data"
    },
    {
     "name": "stderr",
     "output_type": "stream",
     "text": [
      "/home/whe2/.local/lib/python3.9/site-packages/pgmpy/models/BayesianModel.py:8: FutureWarning: BayesianModel has been renamed to BayesianNetwork. Please use BayesianNetwork class, BayesianModel will be removed in future.\n",
      "  warnings.warn(\n",
      "/home/whe2/.local/lib/python3.9/site-packages/pgmpy/models/BayesianModel.py:8: FutureWarning: BayesianModel has been renamed to BayesianNetwork. Please use BayesianNetwork class, BayesianModel will be removed in future.\n",
      "  warnings.warn(\n"
     ]
    },
    {
     "name": "stdout",
     "output_type": "stream",
     "text": [
      "575\n",
      "Explainer settings\n",
      "\\ A dim:  (156, 156)\n",
      "\\ X dim:  torch.Size([156])\n",
      "\\ Number of layers:  2\n",
      "\\ Perturbation mode:  0\n",
      "\\ Print result:  1\n"
     ]
    },
    {
     "data": {
      "application/vnd.jupyter.widget-view+json": {
       "model_id": "3a3d9f98768442e9a74039450d4487cf",
       "version_major": 2,
       "version_minor": 0
      },
      "text/plain": [
       "  0%|          | 0/1000000 [00:00<?, ?it/s]"
      ]
     },
     "metadata": {},
     "output_type": "display_data"
    },
    {
     "name": "stderr",
     "output_type": "stream",
     "text": [
      "/home/whe2/.local/lib/python3.9/site-packages/pgmpy/models/BayesianModel.py:8: FutureWarning: BayesianModel has been renamed to BayesianNetwork. Please use BayesianNetwork class, BayesianModel will be removed in future.\n",
      "  warnings.warn(\n",
      "/home/whe2/.local/lib/python3.9/site-packages/pgmpy/models/BayesianModel.py:8: FutureWarning: BayesianModel has been renamed to BayesianNetwork. Please use BayesianNetwork class, BayesianModel will be removed in future.\n",
      "  warnings.warn(\n"
     ]
    },
    {
     "name": "stdout",
     "output_type": "stream",
     "text": [
      "576\n",
      "Explainer settings\n",
      "\\ A dim:  (156, 156)\n",
      "\\ X dim:  torch.Size([156])\n",
      "\\ Number of layers:  2\n",
      "\\ Perturbation mode:  0\n",
      "\\ Print result:  1\n"
     ]
    },
    {
     "data": {
      "application/vnd.jupyter.widget-view+json": {
       "model_id": "16701a3512a04b0b9aceb2e3985017f0",
       "version_major": 2,
       "version_minor": 0
      },
      "text/plain": [
       "  0%|          | 0/1000000 [00:00<?, ?it/s]"
      ]
     },
     "metadata": {},
     "output_type": "display_data"
    },
    {
     "name": "stderr",
     "output_type": "stream",
     "text": [
      "/home/whe2/.local/lib/python3.9/site-packages/pgmpy/models/BayesianModel.py:8: FutureWarning: BayesianModel has been renamed to BayesianNetwork. Please use BayesianNetwork class, BayesianModel will be removed in future.\n",
      "  warnings.warn(\n",
      "/home/whe2/.local/lib/python3.9/site-packages/pgmpy/models/BayesianModel.py:8: FutureWarning: BayesianModel has been renamed to BayesianNetwork. Please use BayesianNetwork class, BayesianModel will be removed in future.\n",
      "  warnings.warn(\n"
     ]
    },
    {
     "name": "stdout",
     "output_type": "stream",
     "text": [
      "577\n",
      "Explainer settings\n",
      "\\ A dim:  (156, 156)\n",
      "\\ X dim:  torch.Size([156])\n",
      "\\ Number of layers:  2\n",
      "\\ Perturbation mode:  0\n",
      "\\ Print result:  1\n"
     ]
    },
    {
     "data": {
      "application/vnd.jupyter.widget-view+json": {
       "model_id": "c4250f244d174aa1b85bd2c54aa7e50f",
       "version_major": 2,
       "version_minor": 0
      },
      "text/plain": [
       "  0%|          | 0/1000000 [00:00<?, ?it/s]"
      ]
     },
     "metadata": {},
     "output_type": "display_data"
    },
    {
     "name": "stderr",
     "output_type": "stream",
     "text": [
      "/home/whe2/.local/lib/python3.9/site-packages/pgmpy/models/BayesianModel.py:8: FutureWarning: BayesianModel has been renamed to BayesianNetwork. Please use BayesianNetwork class, BayesianModel will be removed in future.\n",
      "  warnings.warn(\n",
      "/home/whe2/.local/lib/python3.9/site-packages/pgmpy/models/BayesianModel.py:8: FutureWarning: BayesianModel has been renamed to BayesianNetwork. Please use BayesianNetwork class, BayesianModel will be removed in future.\n",
      "  warnings.warn(\n"
     ]
    },
    {
     "name": "stdout",
     "output_type": "stream",
     "text": [
      "578\n",
      "Explainer settings\n",
      "\\ A dim:  (156, 156)\n",
      "\\ X dim:  torch.Size([156])\n",
      "\\ Number of layers:  2\n",
      "\\ Perturbation mode:  0\n",
      "\\ Print result:  1\n"
     ]
    },
    {
     "data": {
      "application/vnd.jupyter.widget-view+json": {
       "model_id": "805d85b55cb84695afb84dfa393d75ab",
       "version_major": 2,
       "version_minor": 0
      },
      "text/plain": [
       "  0%|          | 0/1000000 [00:00<?, ?it/s]"
      ]
     },
     "metadata": {},
     "output_type": "display_data"
    },
    {
     "name": "stderr",
     "output_type": "stream",
     "text": [
      "/home/whe2/.local/lib/python3.9/site-packages/pgmpy/models/BayesianModel.py:8: FutureWarning: BayesianModel has been renamed to BayesianNetwork. Please use BayesianNetwork class, BayesianModel will be removed in future.\n",
      "  warnings.warn(\n",
      "/home/whe2/.local/lib/python3.9/site-packages/pgmpy/models/BayesianModel.py:8: FutureWarning: BayesianModel has been renamed to BayesianNetwork. Please use BayesianNetwork class, BayesianModel will be removed in future.\n",
      "  warnings.warn(\n"
     ]
    },
    {
     "name": "stdout",
     "output_type": "stream",
     "text": [
      "579\n",
      "Explainer settings\n",
      "\\ A dim:  (156, 156)\n",
      "\\ X dim:  torch.Size([156])\n",
      "\\ Number of layers:  2\n",
      "\\ Perturbation mode:  0\n",
      "\\ Print result:  1\n"
     ]
    },
    {
     "data": {
      "application/vnd.jupyter.widget-view+json": {
       "model_id": "cbd2e26364534ef585c528ad51ea6172",
       "version_major": 2,
       "version_minor": 0
      },
      "text/plain": [
       "  0%|          | 0/1000000 [00:00<?, ?it/s]"
      ]
     },
     "metadata": {},
     "output_type": "display_data"
    },
    {
     "name": "stderr",
     "output_type": "stream",
     "text": [
      "/home/whe2/.local/lib/python3.9/site-packages/pgmpy/models/BayesianModel.py:8: FutureWarning: BayesianModel has been renamed to BayesianNetwork. Please use BayesianNetwork class, BayesianModel will be removed in future.\n",
      "  warnings.warn(\n",
      "/home/whe2/.local/lib/python3.9/site-packages/pgmpy/models/BayesianModel.py:8: FutureWarning: BayesianModel has been renamed to BayesianNetwork. Please use BayesianNetwork class, BayesianModel will be removed in future.\n",
      "  warnings.warn(\n"
     ]
    },
    {
     "name": "stdout",
     "output_type": "stream",
     "text": [
      "580\n",
      "Explainer settings\n",
      "\\ A dim:  (156, 156)\n",
      "\\ X dim:  torch.Size([156])\n",
      "\\ Number of layers:  2\n",
      "\\ Perturbation mode:  0\n",
      "\\ Print result:  1\n"
     ]
    },
    {
     "data": {
      "application/vnd.jupyter.widget-view+json": {
       "model_id": "87fea14c1e8343b8afe769acc4cbe99c",
       "version_major": 2,
       "version_minor": 0
      },
      "text/plain": [
       "  0%|          | 0/1000000 [00:00<?, ?it/s]"
      ]
     },
     "metadata": {},
     "output_type": "display_data"
    },
    {
     "name": "stderr",
     "output_type": "stream",
     "text": [
      "/home/whe2/.local/lib/python3.9/site-packages/pgmpy/models/BayesianModel.py:8: FutureWarning: BayesianModel has been renamed to BayesianNetwork. Please use BayesianNetwork class, BayesianModel will be removed in future.\n",
      "  warnings.warn(\n",
      "/home/whe2/.local/lib/python3.9/site-packages/pgmpy/models/BayesianModel.py:8: FutureWarning: BayesianModel has been renamed to BayesianNetwork. Please use BayesianNetwork class, BayesianModel will be removed in future.\n",
      "  warnings.warn(\n"
     ]
    },
    {
     "name": "stdout",
     "output_type": "stream",
     "text": [
      "581\n",
      "Explainer settings\n",
      "\\ A dim:  (156, 156)\n",
      "\\ X dim:  torch.Size([156])\n",
      "\\ Number of layers:  2\n",
      "\\ Perturbation mode:  0\n",
      "\\ Print result:  1\n"
     ]
    },
    {
     "data": {
      "application/vnd.jupyter.widget-view+json": {
       "model_id": "dbf365bbb91c4eb39a3daadc667f8cc2",
       "version_major": 2,
       "version_minor": 0
      },
      "text/plain": [
       "  0%|          | 0/1000000 [00:00<?, ?it/s]"
      ]
     },
     "metadata": {},
     "output_type": "display_data"
    },
    {
     "name": "stderr",
     "output_type": "stream",
     "text": [
      "/home/whe2/.local/lib/python3.9/site-packages/pgmpy/models/BayesianModel.py:8: FutureWarning: BayesianModel has been renamed to BayesianNetwork. Please use BayesianNetwork class, BayesianModel will be removed in future.\n",
      "  warnings.warn(\n",
      "/home/whe2/.local/lib/python3.9/site-packages/pgmpy/models/BayesianModel.py:8: FutureWarning: BayesianModel has been renamed to BayesianNetwork. Please use BayesianNetwork class, BayesianModel will be removed in future.\n",
      "  warnings.warn(\n"
     ]
    }
   ],
   "source": [
    "import pandas as pd\n",
    "import numpy as np\n",
    "from pgmpy.models import BayesianNetwork\n",
    "from pgmpy.estimators import K2Score,StructureScore\n",
    "\n",
    "time_length = 96\n",
    "calculate_score = []\n",
    "for i in range(time_length):\n",
    "    calculate_score.append([])\n",
    "\n",
    "\n",
    "samples = 0\n",
    "#threshold = 581 \n",
    "end = 581\n",
    "start = end - 96  + 1\n",
    "\n",
    "\n",
    "for val_features, val_labels in dm.val_dataloader():\n",
    "    samples = samples + 1\n",
    "    \n",
    "    if samples >= start and samples<=end:\n",
    "        print(samples)\n",
    "        #print(\"node: \", i)\n",
    "        inputs = val_features\n",
    "        batch_size, seq_len, num_nodes = inputs.shape\n",
    "        assert input_dim == num_nodes\n",
    "\n",
    "        dependent_neighbors = []\n",
    "        for probe_snapshot in range(11,12):\n",
    "\n",
    "            hidden_state = torch.zeros(batch_size, num_nodes * hidden_dim).type_as(inputs)\n",
    "            output = None\n",
    "            for i in range(probe_snapshot):\n",
    "                if i == probe_snapshot - 1:\n",
    "                    dest_model = models.tgcn.TGCNCell_clone(adj, input_dim, hidden_dim, hidden_state)\n",
    "                    dest_model.eval()    \n",
    "                    clone_layers = []\n",
    "                    for item in source_task.model.tgcn_cell._modules.items():\n",
    "                        clone_layers.append(item[0])\n",
    "\n",
    "                    for layer in clone_layers:\n",
    "                        if hasattr(getattr(dest_model, layer), 'weights'):\n",
    "                            with torch.no_grad():\n",
    "                                getattr(dest_model, layer).weights.copy_(getattr(source_model, layer).weights)\n",
    "                        if hasattr(getattr(dest_model, layer), 'biases'):\n",
    "                            with torch.no_grad():\n",
    "                                getattr(dest_model, layer).biases.copy_(getattr(source_model, layer).biases)\n",
    "\n",
    "                output, hidden_state = source_model(inputs[:, i, :], hidden_state) \n",
    "\n",
    "            input_features = inputs[:, probe_snapshot-1, :]\n",
    "            # Init\n",
    "            explainer = Node_Explainer(dest_model, dest_task, adj, input_features[0], 0, 2)\n",
    "            # Explain\n",
    "            pgm_nodes, data, pgm_stats = explainer.explain_tgcn_node(TARGET_NODE, 0.001, 0.5, 500, 0.01)\n",
    "            \n",
    "            #print(\"Generate the PGM\")\n",
    "            pgm_explanation = explainer.pgm_generate(TARGET_NODE, data, stats, pgm_nodes)\n",
    "            Bayesian_graph = BayesianModel(pgm_explanation.edges())\n",
    "            \n",
    "            for k in range(time_length):\n",
    "                ScoreClass = K2Score(all_data[k])\n",
    "                #template_model = BayesianModelList1[i]\n",
    "                calculate_score[samples - start].append(ScoreClass.local_score(str(TARGET_NODE),\n",
    "                                                                               Bayesian_graph.predecessors(str(TARGET_NODE))))\n",
    "            #for i in range(len(second_hop )):\n",
    "    \n",
    "            #path = \"bayesian_data/node_\" + str(TARGET_NODE) + \"/data_\" +  str(samples) + \".csv\"\n",
    "            #data.to_csv(path)\n",
    "    #         for i in range(len(first_hop )):\n",
    "    #             ScoreClass = K2Score(data)\n",
    "    #             template_model = BayesianModelList1[i]\n",
    "    #             calculate_score_first[i].append(ScoreClass.local_score(TARGET_NODE,template_model.predecessors(TARGET_NODE)))\n",
    "    #         for i in range(len(second_hop )):\n",
    "    #             ScoreClass = K2Score(data)\n",
    "    #             template_model = BayesianModelList2[i]\n",
    "    #             calculate_score_second[i].append(ScoreClass.local_score(TARGET_NODE,template_model.predecessors(TARGET_NODE)))\n",
    "\n",
    "\n"
   ]
  },
  {
   "cell_type": "code",
   "execution_count": 12,
   "metadata": {},
   "outputs": [
    {
     "name": "stdout",
     "output_type": "stream",
     "text": [
      "513\n",
      "Explainer settings\n",
      "\\ A dim:  (156, 156)\n",
      "\\ X dim:  torch.Size([156])\n",
      "\\ Number of layers:  2\n",
      "\\ Perturbation mode:  0\n",
      "\\ Print result:  1\n",
      "Generate the PGM\n"
     ]
    },
    {
     "data": {
      "application/vnd.jupyter.widget-view+json": {
       "model_id": "7743033df634465d95c5f3200ff819da",
       "version_major": 2,
       "version_minor": 0
      },
      "text/plain": [
       "  0%|          | 0/1000000 [00:00<?, ?it/s]"
      ]
     },
     "metadata": {},
     "output_type": "display_data"
    },
    {
     "name": "stderr",
     "output_type": "stream",
     "text": [
      "/home/whe2/.local/lib/python3.9/site-packages/pgmpy/models/BayesianModel.py:8: FutureWarning: BayesianModel has been renamed to BayesianNetwork. Please use BayesianNetwork class, BayesianModel will be removed in future.\n",
      "  warnings.warn(\n"
     ]
    },
    {
     "name": "stdout",
     "output_type": "stream",
     "text": [
      "PGM_explainer nodes:  ['12', '93', '96', '120', '126', '133', '134', '145', '125']\n",
      "Draw pgm explaination using networkx\n"
     ]
    },
    {
     "data": {
      "image/png": "[encoded data removed]",
      "text/plain": [
       "<Figure size 432x288 with 1 Axes>"
      ]
     },
     "metadata": {},
     "output_type": "display_data"
    },
    {
     "name": "stdout",
     "output_type": "stream",
     "text": [
      "517\n",
      "Explainer settings\n",
      "\\ A dim:  (156, 156)\n",
      "\\ X dim:  torch.Size([156])\n",
      "\\ Number of layers:  2\n",
      "\\ Perturbation mode:  0\n",
      "\\ Print result:  1\n",
      "Generate the PGM\n"
     ]
    },
    {
     "data": {
      "application/vnd.jupyter.widget-view+json": {
       "model_id": "79ed32bce8224027b65a5b1190878e5e",
       "version_major": 2,
       "version_minor": 0
      },
      "text/plain": [
       "  0%|          | 0/1000000 [00:00<?, ?it/s]"
      ]
     },
     "metadata": {},
     "output_type": "display_data"
    },
    {
     "name": "stderr",
     "output_type": "stream",
     "text": [
      "/home/whe2/.local/lib/python3.9/site-packages/pgmpy/models/BayesianModel.py:8: FutureWarning: BayesianModel has been renamed to BayesianNetwork. Please use BayesianNetwork class, BayesianModel will be removed in future.\n",
      "  warnings.warn(\n"
     ]
    },
    {
     "name": "stdout",
     "output_type": "stream",
     "text": [
      "PGM_explainer nodes:  ['12', '45', '91', '93', '96', '120', '126', '133', '134', '145', '125']\n",
      "Draw pgm explaination using networkx\n"
     ]
    },
    {
     "data": {
      "image/png": "[encoded data removed]",
      "text/plain": [
       "<Figure size 432x288 with 1 Axes>"
      ]
     },
     "metadata": {},
     "output_type": "display_data"
    },
    {
     "name": "stdout",
     "output_type": "stream",
     "text": [
      "539\n",
      "Explainer settings\n",
      "\\ A dim:  (156, 156)\n",
      "\\ X dim:  torch.Size([156])\n",
      "\\ Number of layers:  2\n",
      "\\ Perturbation mode:  0\n",
      "\\ Print result:  1\n",
      "Generate the PGM\n"
     ]
    },
    {
     "data": {
      "application/vnd.jupyter.widget-view+json": {
       "model_id": "faf7bcc18b2f48cc9ef13e3e5ade733f",
       "version_major": 2,
       "version_minor": 0
      },
      "text/plain": [
       "  0%|          | 0/1000000 [00:00<?, ?it/s]"
      ]
     },
     "metadata": {},
     "output_type": "display_data"
    },
    {
     "name": "stderr",
     "output_type": "stream",
     "text": [
      "/home/whe2/.local/lib/python3.9/site-packages/pgmpy/models/BayesianModel.py:8: FutureWarning: BayesianModel has been renamed to BayesianNetwork. Please use BayesianNetwork class, BayesianModel will be removed in future.\n",
      "  warnings.warn(\n"
     ]
    },
    {
     "name": "stdout",
     "output_type": "stream",
     "text": [
      "PGM_explainer nodes:  ['12', '45', '93', '96', '120', '126', '133', '134', '145', '151', '125']\n",
      "Draw pgm explaination using networkx\n"
     ]
    },
    {
     "data": {
      "image/png": "[encoded data removed]",
      "text/plain": [
       "<Figure size 432x288 with 1 Axes>"
      ]
     },
     "metadata": {},
     "output_type": "display_data"
    },
    {
     "name": "stdout",
     "output_type": "stream",
     "text": [
      "559\n",
      "Explainer settings\n",
      "\\ A dim:  (156, 156)\n",
      "\\ X dim:  torch.Size([156])\n",
      "\\ Number of layers:  2\n",
      "\\ Perturbation mode:  0\n",
      "\\ Print result:  1\n",
      "Generate the PGM\n"
     ]
    },
    {
     "data": {
      "application/vnd.jupyter.widget-view+json": {
       "model_id": "933f1cb298924345b92ba40610e60f09",
       "version_major": 2,
       "version_minor": 0
      },
      "text/plain": [
       "  0%|          | 0/1000000 [00:00<?, ?it/s]"
      ]
     },
     "metadata": {},
     "output_type": "display_data"
    },
    {
     "name": "stderr",
     "output_type": "stream",
     "text": [
      "/home/whe2/.local/lib/python3.9/site-packages/pgmpy/models/BayesianModel.py:8: FutureWarning: BayesianModel has been renamed to BayesianNetwork. Please use BayesianNetwork class, BayesianModel will be removed in future.\n",
      "  warnings.warn(\n"
     ]
    },
    {
     "name": "stdout",
     "output_type": "stream",
     "text": [
      "PGM_explainer nodes:  ['12', '45', '91', '93', '96', '120', '126', '133', '134', '145', '151', '125']\n",
      "Draw pgm explaination using networkx\n"
     ]
    },
    {
     "data": {
      "image/png": "[encoded data removed]",
      "text/plain": [
       "<Figure size 432x288 with 1 Axes>"
      ]
     },
     "metadata": {},
     "output_type": "display_data"
    },
    {
     "name": "stdout",
     "output_type": "stream",
     "text": [
      "576\n",
      "Explainer settings\n",
      "\\ A dim:  (156, 156)\n",
      "\\ X dim:  torch.Size([156])\n",
      "\\ Number of layers:  2\n",
      "\\ Perturbation mode:  0\n",
      "\\ Print result:  1\n",
      "Generate the PGM\n"
     ]
    },
    {
     "data": {
      "application/vnd.jupyter.widget-view+json": {
       "model_id": "cb5348d3964f4f7bbbabae0dd6d3cd38",
       "version_major": 2,
       "version_minor": 0
      },
      "text/plain": [
       "  0%|          | 0/1000000 [00:00<?, ?it/s]"
      ]
     },
     "metadata": {},
     "output_type": "display_data"
    },
    {
     "name": "stderr",
     "output_type": "stream",
     "text": [
      "/home/whe2/.local/lib/python3.9/site-packages/pgmpy/models/BayesianModel.py:8: FutureWarning: BayesianModel has been renamed to BayesianNetwork. Please use BayesianNetwork class, BayesianModel will be removed in future.\n",
      "  warnings.warn(\n"
     ]
    },
    {
     "name": "stdout",
     "output_type": "stream",
     "text": [
      "PGM_explainer nodes:  ['12', '45', '91', '93', '96', '120', '126', '133', '134', '145', '125']\n",
      "Draw pgm explaination using networkx\n"
     ]
    },
    {
     "data": {
      "image/png": "[encoded data removed]",
      "text/plain": [
       "<Figure size 432x288 with 1 Axes>"
      ]
     },
     "metadata": {},
     "output_type": "display_data"
    }
   ],
   "source": [
    "samples = 0\n",
    "ind_new = ind + start\n",
    "\n",
    "\n",
    "for val_features, val_labels in dm.val_dataloader():\n",
    "    samples = samples + 1\n",
    "    \n",
    "    if samples in ind_new:\n",
    "        print(samples)\n",
    "        #print(\"node: \", i)\n",
    "        inputs = val_features\n",
    "        batch_size, seq_len, num_nodes = inputs.shape\n",
    "        assert input_dim == num_nodes\n",
    "\n",
    "        dependent_neighbors = []\n",
    "        for probe_snapshot in range(11,12):\n",
    "\n",
    "            hidden_state = torch.zeros(batch_size, num_nodes * hidden_dim).type_as(inputs)\n",
    "            output = None\n",
    "            for i in range(probe_snapshot):\n",
    "                if i == probe_snapshot - 1:\n",
    "                    dest_model = models.tgcn.TGCNCell_clone(adj, input_dim, hidden_dim, hidden_state)\n",
    "                    dest_model.eval()    \n",
    "                    clone_layers = []\n",
    "                    for item in source_task.model.tgcn_cell._modules.items():\n",
    "                        clone_layers.append(item[0])\n",
    "\n",
    "                    for layer in clone_layers:\n",
    "                        if hasattr(getattr(dest_model, layer), 'weights'):\n",
    "                            with torch.no_grad():\n",
    "                                getattr(dest_model, layer).weights.copy_(getattr(source_model, layer).weights)\n",
    "                        if hasattr(getattr(dest_model, layer), 'biases'):\n",
    "                            with torch.no_grad():\n",
    "                                getattr(dest_model, layer).biases.copy_(getattr(source_model, layer).biases)\n",
    "\n",
    "                output, hidden_state = source_model(inputs[:, i, :], hidden_state) \n",
    "\n",
    "            input_features = inputs[:, probe_snapshot-1, :]\n",
    "            # Init\n",
    "            explainer = Node_Explainer(dest_model, dest_task, adj, input_features[0], 0, 2)\n",
    "            # Explain\n",
    "            pgm_nodes, data, pgm_stats = explainer.explain_tgcn_node(TARGET_NODE, 0.001, 0.5, 500, 0.01)\n",
    "            \n",
    "            print(\"Generate the PGM\")\n",
    "            pgm_explanation = explainer.pgm_generate(TARGET_NODE, data, stats, pgm_nodes)\n",
    "            \n",
    "            nA = explainer.n_hops_A(2)\n",
    "            node_idx_new, sub_A, sub_X, neighbors = explainer.extract_n_hops_neighbors(nA,TARGET_NODE)\n",
    "            plot_G = graph_from_adj(sub_A)\n",
    "            label_dict = dict(zip(range(len(neighbors.tolist())),neighbors.tolist()))\n",
    "\n",
    "            pos=nx.spring_layout(plot_G)\n",
    "            print(\"PGM_explainer nodes: \", pgm_explanation.nodes())\n",
    "\n",
    "            edge_strength = {}\n",
    "            \n",
    "            for u,v in pgm_explanation.edges(): \n",
    "\n",
    "                node_list_rm_v = [node for node in pgm_explanation.nodes() if node!= v]\n",
    "                s = explainer.pgm_conditional_prob(v, pgm_explanation,node_list_rm_v)\n",
    "                node_list_rm_u = [node for node in pgm_explanation.nodes() if( node!= v and node !=u )]\n",
    "                su = explainer.pgm_conditional_prob(v, pgm_explanation,node_list_rm_u)\n",
    "                edge_strength[(u,v)] = su - s\n",
    "\n",
    "\n",
    "            edge_weight = {}\n",
    "            for plot_edge in list(plot_G.edges()):\n",
    "                edge_key = (str(label_dict[plot_edge[0]]),str(label_dict[plot_edge[1]]))\n",
    "                plot_key = (plot_edge[0],plot_edge[1])\n",
    "                edge_weight[plot_key] = 0\n",
    "                if edge_key in edge_strength.keys():\n",
    "                    edge_weight[plot_key] = edge_strength[edge_key]\n",
    "                edge_key_rev = (str(label_dict[plot_edge[1]]),str(label_dict[plot_edge[0]]))\n",
    "                if edge_key_rev in edge_strength.keys():\n",
    "                    edge_weight[plot_key] = edge_strength[edge_key_rev]\n",
    "            inv_label_dict = dict(zip(neighbors.tolist(),range(len(neighbors.tolist()))))\n",
    "\n",
    "            pgm_only_edges = []\n",
    "\n",
    "            for edge_key in edge_strength.keys():\n",
    "                plot_key = (inv_label_dict[int(edge_key[0])], inv_label_dict[int(edge_key[1])])\n",
    "                rev_plot_key = (inv_label_dict[int(edge_key[1])], inv_label_dict[int(edge_key[0])])\n",
    "                if plot_key not in list(plot_G.edges()):\n",
    "                    if rev_plot_key not in list(plot_G.edges()):\n",
    "                        pgm_only_edges.append(plot_key)\n",
    "                        edge_weight[plot_key] = edge_strength[edge_key]\n",
    "            \n",
    "            plt.figure()\n",
    "            print(\"Draw pgm explaination using networkx\")\n",
    "\n",
    "            nx.draw(plot_G, pos=pos, node_size=500, labels=label_dict, with_labels=True, width = 10, edge_color = 'gray')\n",
    "\n",
    "            edges = nx.draw_networkx_edges(plot_G,\n",
    "                                       pos=pos,\n",
    "                                       edgelist = plot_G.edges(),\n",
    "                                       edge_color=[edge_weight[e] for e in plot_G.edges()],\n",
    "                                       edge_cmap= plt.cm.Reds,\n",
    "                                       alpha=1.0,\n",
    "                                       width = 2)\n",
    "\n",
    "            nodes = nx.draw_networkx_nodes(plot_G, pos, node_size=500)\n",
    "            nodes.set_edgecolor('red')\n",
    "\n",
    "\n",
    "\n",
    "            edges = nx.draw_networkx_edges(plot_G,\n",
    "                                           pos=pos,\n",
    "                                           edgelist =pgm_only_edges,\n",
    "                                           edge_color=[edge_weight[e] for e in pgm_only_edges],\n",
    "                                           edge_cmap= plt.cm.Reds,\n",
    "                                           alpha=1.0,\n",
    "                                           width = 2)\n",
    "\n",
    "            #nx.draw(pgm_explanation, with_labels=True)\n",
    "            plt.show()\n",
    "\n",
    "            #path = \"bayesian_data/node_\" + str(TARGET_NODE) + \"/data_\" +  str(samples) + \".csv\"\n",
    "            #data.to_csv(path)\n",
    "    #         for i in range(len(first_hop )):\n",
    "    #             ScoreClass = K2Score(data)\n",
    "    #             template_model = BayesianModelList1[i]\n",
    "    #             calculate_score_first[i].append(ScoreClass.local_score(TARGET_NODE,template_model.predecessors(TARGET_NODE)))\n",
    "    #         for i in range(len(second_hop )):\n",
    "    #             ScoreClass = K2Score(data)\n",
    "    #             template_model = BayesianModelList2[i]\n",
    "    #             calculate_score_second[i].append(ScoreClass.local_score(TARGET_NODE,template_model.predecessors(TARGET_NODE)))\n",
    "\n",
    "\n"
   ]
  },
  {
   "cell_type": "code",
   "execution_count": null,
   "metadata": {},
   "outputs": [],
   "source": [
    "calculate_score = np.array(calculate_score)\n",
    "calculate_score_sum = np.sum(calculate_score, axis = -1)\n",
    "top_k = 5\n",
    "ind = np.argpartition(calculate_score_sum, -top_k)[-top_k:]\n"
   ]
  },
  {
   "cell_type": "code",
   "execution_count": 13,
   "metadata": {},
   "outputs": [
    {
     "data": {
      "text/plain": [
       "array([27, 31, 73, 53, 90])"
      ]
     },
     "execution_count": 13,
     "metadata": {},
     "output_type": "execute_result"
    }
   ],
   "source": [
    "ind"
   ]
  },
  {
   "cell_type": "code",
   "execution_count": 19,
   "metadata": {},
   "outputs": [
    {
     "data": {
      "text/plain": [
       "([<matplotlib.axis.XTick at 0x2abf525bd100>,\n",
       "  <matplotlib.axis.XTick at 0x2abf525bd850>,\n",
       "  <matplotlib.axis.XTick at 0x2abf2d66d8b0>,\n",
       "  <matplotlib.axis.XTick at 0x2abf2f533160>,\n",
       "  <matplotlib.axis.XTick at 0x2abf51c04c70>,\n",
       "  <matplotlib.axis.XTick at 0x2abf5584ab80>,\n",
       "  <matplotlib.axis.XTick at 0x2abf5584abe0>,\n",
       "  <matplotlib.axis.XTick at 0x2abf5584ad60>],\n",
       " [Text(0, 0, ''),\n",
       "  Text(0, 0, ''),\n",
       "  Text(0, 0, ''),\n",
       "  Text(0, 0, ''),\n",
       "  Text(0, 0, ''),\n",
       "  Text(0, 0, ''),\n",
       "  Text(0, 0, ''),\n",
       "  Text(0, 0, '')])"
      ]
     },
     "execution_count": 19,
     "metadata": {},
     "output_type": "execute_result"
    },
    {
     "data": {
      "image/png": "[encoded data removed]",
      "text/plain": [
       "<Figure size 432x288 with 1 Axes>"
      ]
     },
     "metadata": {
      "needs_background": "light"
     },
     "output_type": "display_data"
    }
   ],
   "source": [
    "import sklearn, math,csv\n",
    "import matplotlib.ticker as mticker\n",
    "d = ['{0:02d}:{1:02d}'.format(int((i*15)/60), (i*15)%60) for i in range(96)]\n",
    "# helper function for the formatter\n",
    "def listifed_formatter(x, pos=None):\n",
    "    try:\n",
    "        return d[int(x)]\n",
    "    except IndexError:\n",
    "        return ''\n",
    "mt = mticker.FuncFormatter(listifed_formatter)\n",
    "\n",
    "fig, ax = plt.subplots()\n",
    "ax.plot( calculate_score[ind[0]], color = 'black', label = \"Bayesian graph 93\")\n",
    "ax.plot( calculate_score[ind[1]], color = 'b', label = \"Bayesian graph 91\")\n",
    "ax.plot( calculate_score[ind[2]], color = 'g', label = \"Bayesian graph 4\")\n",
    "ax.plot( calculate_score[ind[3]], color = 'r', label = \"Bayesian graph 94\")\n",
    "ax.plot( calculate_score[ind[4]], color = 'y', label = \"Bayesian graph 47\")\n",
    "\n",
    "#     ax.plot( pred_result[(start) : end + 1,j]/20, color = 'b', label = 'Neighbor prediction')    \n",
    "#     #ax.plot( calculate_score, color = 'black', label = 'edge strength')\n",
    "#     ax.plot( calculate_score_first_new[count,:] + 2, color = 'y', label = 'Neighobr Bayesian score')\n",
    "ax.legend()\n",
    "ax.xaxis.set_major_formatter(mt)        \n",
    "#fname = 'bayesian_score/node_' +str(i)  + '/neighobor_' + str(j) + '.png'\n",
    "plt.xticks(np.arange(0, 96, 12))\n",
    "#plt.title(label_name)"
   ]
  }
 ],
 "metadata": {
  "kernelspec": {
   "display_name": "Python 3 (ipykernel)",
   "language": "python",
   "name": "python3"
  },
  "language_info": {
   "codemirror_mode": {
    "name": "ipython",
    "version": 3
   },
   "file_extension": ".py",
   "mimetype": "text/x-python",
   "name": "python",
   "nbconvert_exporter": "python",
   "pygments_lexer": "ipython3",
   "version": "3.8.12"
  }
 },
 "nbformat": 4,
 "nbformat_minor": 4
}
